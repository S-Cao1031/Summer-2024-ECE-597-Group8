{
 "cells": [
  {
   "cell_type": "code",
   "execution_count": 1,
   "metadata": {},
   "outputs": [],
   "source": [
    "import os\n",
    "import matplotlib.pyplot as plt\n",
    "import numpy as np\n",
    "import pandas as pd\n",
    "from sklearn.compose import ColumnTransformer\n",
    "from sklearn.metrics import (\n",
    "    accuracy_score,\n",
    "    auc,\n",
    "    average_precision_score,\n",
    "    balanced_accuracy_score,\n",
    "    classification_report,\n",
    "    confusion_matrix,\n",
    "    precision_recall_curve,\n",
    "    roc_auc_score,\n",
    "    roc_curve,\n",
    ")\n",
    "from sklearn.model_selection import (\n",
    "    cross_val_predict,\n",
    "    cross_val_score,\n",
    "    train_test_split,\n",
    "    KFold,\n",
    ")\n",
    "from sklearn.pipeline import Pipeline\n",
    "from sklearn.preprocessing import FunctionTransformer, RobustScaler, StandardScaler"
   ]
  },
  {
   "cell_type": "code",
   "execution_count": 2,
   "metadata": {},
   "outputs": [
    {
     "name": "stderr",
     "output_type": "stream",
     "text": [
      "<>:1: SyntaxWarning: invalid escape sequence '\\P'\n",
      "<>:1: SyntaxWarning: invalid escape sequence '\\P'\n",
      "C:\\Users\\xfy53\\AppData\\Local\\Temp\\ipykernel_17464\\2122820336.py:1: SyntaxWarning: invalid escape sequence '\\P'\n",
      "  project_root = \"D:\\Projects\\Summer-2024-ECE-597-Group8\"\n"
     ]
    }
   ],
   "source": [
    "project_root = \"D:\\Projects\\Summer-2024-ECE-597-Group8\"\n",
    "data_path = os.path.join(project_root, \"data\", \"processed\", \"features_bow_labels.csv\")\n",
    "model_path = os.path.join(project_root, 'data', 'models', 'best_cnn_model_bow.keras')\n",
    "random_state = 42\n",
    "test_size = 0.1"
   ]
  },
  {
   "cell_type": "code",
   "execution_count": 3,
   "metadata": {},
   "outputs": [],
   "source": [
    "df = pd.read_csv(data_path)\n",
    "df = df.drop(columns=[\"js_code\"])"
   ]
  },
  {
   "cell_type": "code",
   "execution_count": 4,
   "metadata": {},
   "outputs": [],
   "source": [
    "def log_transform(x):\n",
    "    return np.log1p(x)"
   ]
  },
  {
   "cell_type": "code",
   "execution_count": 5,
   "metadata": {},
   "outputs": [],
   "source": [
    "pipeline_log_transform_StandardScaler = Pipeline(\n",
    "    steps=[\n",
    "        (\"log_transform\", FunctionTransformer(log_transform)),\n",
    "        (\"StandardScaler\", StandardScaler()),\n",
    "    ]\n",
    ")\n",
    "\n",
    "pipeline_log_transform_RobustScaler = Pipeline(\n",
    "    steps=[\n",
    "        (\"log_transform\", FunctionTransformer(log_transform)),\n",
    "        (\"RobustScaler\", RobustScaler()),\n",
    "    ]\n",
    ")\n",
    "\n",
    "features_preprocessor = ColumnTransformer(\n",
    "    transformers=[\n",
    "        (\n",
    "            \"features_processer\",\n",
    "            pipeline_log_transform_RobustScaler,\n",
    "            [\n",
    "                \"Word_Count\",\n",
    "                \"Homoglyphs\",\n",
    "                \"Total_Abnormal_Count\",\n",
    "                \"html_tags\",\n",
    "            ],\n",
    "        ),\n",
    "        (\n",
    "            \"bow_processer\",\n",
    "            pipeline_log_transform_StandardScaler,\n",
    "            [col for col in df.columns if col.startswith('BoW_')]\n",
    "        ),\n",
    "    ],\n",
    "    remainder=\"passthrough\",\n",
    ")"
   ]
  },
  {
   "cell_type": "code",
   "execution_count": 6,
   "metadata": {},
   "outputs": [],
   "source": [
    "X = features_preprocessor.fit_transform(df.drop(columns=[\"Label\"]))\n",
    "y = df[\"Label\"].to_numpy()\n",
    "\n",
    "X_train, X_test, y_train, y_test = train_test_split(\n",
    "    X, y, test_size=test_size, random_state=random_state\n",
    ")"
   ]
  },
  {
   "cell_type": "code",
   "execution_count": 7,
   "metadata": {},
   "outputs": [
    {
     "name": "stderr",
     "output_type": "stream",
     "text": [
      "[I 2024-07-11 21:26:56,997] A new study created in memory with name: no-name-05dceeb9-9866-485c-9de8-78f66ed98f95\n"
     ]
    },
    {
     "name": "stdout",
     "output_type": "stream",
     "text": [
      "Restoring model weights from the end of the best epoch: 15.\n",
      "\u001b[1m 85/266\u001b[0m \u001b[32m━━━━━━\u001b[0m\u001b[37m━━━━━━━━━━━━━━\u001b[0m \u001b[1m3s\u001b[0m 18ms/stepRestoring model weights from the end of the best epoch: 14.\n",
      "\u001b[1m266/266\u001b[0m \u001b[32m━━━━━━━━━━━━━━━━━━━━\u001b[0m\u001b[37m\u001b[0m \u001b[1m5s\u001b[0m 17ms/step\n",
      "\u001b[1m266/266\u001b[0m \u001b[32m━━━━━━━━━━━━━━━━━━━━\u001b[0m\u001b[37m\u001b[0m \u001b[1m6s\u001b[0m 21ms/step\n",
      "Epoch 19: early stopping\n",
      "Restoring model weights from the end of the best epoch: 9.\n",
      "Epoch 21: early stopping\n",
      "Restoring model weights from the end of the best epoch: 11.\n",
      "\u001b[1m266/266\u001b[0m \u001b[32m━━━━━━━━━━━━━━━━━━━━\u001b[0m\u001b[37m\u001b[0m \u001b[1m5s\u001b[0m 16ms/step\n",
      "\u001b[1m266/266\u001b[0m \u001b[32m━━━━━━━━━━━━━━━━━━━━\u001b[0m\u001b[37m\u001b[0m \u001b[1m6s\u001b[0m 21ms/step\n",
      "Epoch 23: early stopping\n",
      "Restoring model weights from the end of the best epoch: 13.\n",
      "\u001b[1m266/266\u001b[0m \u001b[32m━━━━━━━━━━━━━━━━━━━━\u001b[0m\u001b[37m\u001b[0m \u001b[1m6s\u001b[0m 21ms/step\n",
      "Restoring model weights from the end of the best epoch: 17.\n",
      "\u001b[1m266/266\u001b[0m \u001b[32m━━━━━━━━━━━━━━━━━━━━\u001b[0m\u001b[37m\u001b[0m \u001b[1m5s\u001b[0m 19ms/step\n",
      "Restoring model weights from the end of the best epoch: 23.\n",
      "\u001b[1m266/266\u001b[0m \u001b[32m━━━━━━━━━━━━━━━━━━━━\u001b[0m\u001b[37m\u001b[0m \u001b[1m6s\u001b[0m 22ms/step\n",
      "Restoring model weights from the end of the best epoch: 8.\n",
      "\u001b[1m266/266\u001b[0m \u001b[32m━━━━━━━━━━━━━━━━━━━━\u001b[0m\u001b[37m\u001b[0m \u001b[1m6s\u001b[0m 22ms/step\n",
      "Restoring model weights from the end of the best epoch: 19.\n",
      "\u001b[1m266/266\u001b[0m \u001b[32m━━━━━━━━━━━━━━━━━━━━\u001b[0m\u001b[37m\u001b[0m \u001b[1m5s\u001b[0m 19ms/step\n"
     ]
    },
    {
     "name": "stderr",
     "output_type": "stream",
     "text": [
      "[I 2024-07-11 21:35:31,649] Trial 4 finished with value: 0.8018286786559802 and parameters: {'filters': 100, 'kernel_size': 2, 'pool_size': 3, 'filters2': 111, 'kernel_size2': 5, 'pool_size2': 4, 'units': 226, 'dropout_rate': 0.34310583995509647, 'optimizer': 'rmsprop', 'epochs': 19, 'batch_size': 249}. Best is trial 4 with value: 0.8018286786559802.\n"
     ]
    },
    {
     "name": "stdout",
     "output_type": "stream",
     "text": [
      "Epoch 24: early stopping\n",
      "Restoring model weights from the end of the best epoch: 14.\n",
      "\u001b[1m266/266\u001b[0m \u001b[32m━━━━━━━━━━━━━━━━━━━━\u001b[0m\u001b[37m\u001b[0m \u001b[1m5s\u001b[0m 18ms/step\n",
      "Restoring model weights from the end of the best epoch: 10.\n",
      "\u001b[1m266/266\u001b[0m \u001b[32m━━━━━━━━━━━━━━━━━━━━\u001b[0m\u001b[37m\u001b[0m \u001b[1m6s\u001b[0m 20ms/step\n"
     ]
    },
    {
     "name": "stderr",
     "output_type": "stream",
     "text": [
      "[I 2024-07-11 21:36:08,144] Trial 1 finished with value: 0.8414388555490816 and parameters: {'filters': 74, 'kernel_size': 5, 'pool_size': 2, 'filters2': 122, 'kernel_size2': 4, 'pool_size2': 2, 'units': 171, 'dropout_rate': 0.2816108491712567, 'optimizer': 'adam', 'epochs': 14, 'batch_size': 166}. Best is trial 1 with value: 0.8414388555490816.\n"
     ]
    },
    {
     "name": "stdout",
     "output_type": "stream",
     "text": [
      "Epoch 25: early stopping\n",
      "Restoring model weights from the end of the best epoch: 15.\n",
      "\u001b[1m266/266\u001b[0m \u001b[32m━━━━━━━━━━━━━━━━━━━━\u001b[0m\u001b[37m\u001b[0m \u001b[1m4s\u001b[0m 16ms/step\n",
      "Restoring model weights from the end of the best epoch: 24.\n",
      "\u001b[1m266/266\u001b[0m \u001b[32m━━━━━━━━━━━━━━━━━━━━\u001b[0m\u001b[37m\u001b[0m \u001b[1m5s\u001b[0m 18ms/step\n",
      "Restoring model weights from the end of the best epoch: 18.\n",
      "\u001b[1m266/266\u001b[0m \u001b[32m━━━━━━━━━━━━━━━━━━━━\u001b[0m\u001b[37m\u001b[0m \u001b[1m6s\u001b[0m 19ms/step\n",
      "Epoch 20: early stopping\n",
      "Restoring model weights from the end of the best epoch: 10.\n",
      "\u001b[1m266/266\u001b[0m \u001b[32m━━━━━━━━━━━━━━━━━━━━\u001b[0m\u001b[37m\u001b[0m \u001b[1m6s\u001b[0m 18ms/step\n",
      "Epoch 17: early stopping\n",
      "Restoring model weights from the end of the best epoch: 7.\n",
      "\u001b[1m266/266\u001b[0m \u001b[32m━━━━━━━━━━━━━━━━━━━━\u001b[0m\u001b[37m\u001b[0m \u001b[1m5s\u001b[0m 16ms/step\n"
     ]
    },
    {
     "name": "stderr",
     "output_type": "stream",
     "text": [
      "[I 2024-07-11 21:39:13,029] Trial 3 finished with value: 0.8206519023658766 and parameters: {'filters': 116, 'kernel_size': 5, 'pool_size': 3, 'filters2': 43, 'kernel_size2': 3, 'pool_size2': 2, 'units': 62, 'dropout_rate': 0.2255634174176035, 'optimizer': 'adam', 'epochs': 45, 'batch_size': 100}. Best is trial 1 with value: 0.8414388555490816.\n"
     ]
    },
    {
     "name": "stdout",
     "output_type": "stream",
     "text": [
      "Epoch 26: early stopping\n",
      "Restoring model weights from the end of the best epoch: 16.\n",
      "\u001b[1m266/266\u001b[0m \u001b[32m━━━━━━━━━━━━━━━━━━━━\u001b[0m\u001b[37m\u001b[0m \u001b[1m5s\u001b[0m 16ms/step\n"
     ]
    },
    {
     "name": "stderr",
     "output_type": "stream",
     "text": [
      "[I 2024-07-11 21:40:12,404] Trial 0 finished with value: 0.826093780153764 and parameters: {'filters': 102, 'kernel_size': 3, 'pool_size': 3, 'filters2': 98, 'kernel_size2': 4, 'pool_size2': 2, 'units': 50, 'dropout_rate': 0.4522720703601456, 'optimizer': 'rmsprop', 'epochs': 50, 'batch_size': 124}. Best is trial 1 with value: 0.8414388555490816.\n"
     ]
    },
    {
     "name": "stdout",
     "output_type": "stream",
     "text": [
      "Epoch 23: early stopping\n",
      "Restoring model weights from the end of the best epoch: 13.\n",
      "\u001b[1m266/266\u001b[0m \u001b[32m━━━━━━━━━━━━━━━━━━━━\u001b[0m\u001b[37m\u001b[0m \u001b[1m5s\u001b[0m 16ms/step\n",
      "Epoch 27: early stopping\n",
      "Restoring model weights from the end of the best epoch: 17.\n",
      "\u001b[1m 89/266\u001b[0m \u001b[32m━━━━━━\u001b[0m\u001b[37m━━━━━━━━━━━━━━\u001b[0m \u001b[1m3s\u001b[0m 18ms/stepEpoch 21: early stopping\n",
      "\u001b[1m 93/266\u001b[0m \u001b[32m━━━━━━\u001b[0m\u001b[37m━━━━━━━━━━━━━━\u001b[0m \u001b[1m3s\u001b[0m 18ms/stepRestoring model weights from the end of the best epoch: 11.\n",
      "\u001b[1m266/266\u001b[0m \u001b[32m━━━━━━━━━━━━━━━━━━━━\u001b[0m\u001b[37m\u001b[0m \u001b[1m5s\u001b[0m 16ms/step\n",
      "\u001b[1m148/266\u001b[0m \u001b[32m━━━━━━━━━━━\u001b[0m\u001b[37m━━━━━━━━━\u001b[0m \u001b[1m1s\u001b[0m 14ms/step"
     ]
    },
    {
     "name": "stderr",
     "output_type": "stream",
     "text": [
      "[I 2024-07-11 21:41:57,228] Trial 5 finished with value: 0.7717955457167939 and parameters: {'filters': 67, 'kernel_size': 2, 'pool_size': 3, 'filters2': 115, 'kernel_size2': 5, 'pool_size2': 4, 'units': 93, 'dropout_rate': 0.4916545203415624, 'optimizer': 'adam', 'epochs': 27, 'batch_size': 99}. Best is trial 1 with value: 0.8414388555490816.\n"
     ]
    },
    {
     "name": "stdout",
     "output_type": "stream",
     "text": [
      "\u001b[1m266/266\u001b[0m \u001b[32m━━━━━━━━━━━━━━━━━━━━\u001b[0m\u001b[37m\u001b[0m \u001b[1m6s\u001b[0m 20ms/step\n",
      "Epoch 23: early stopping\n",
      "Restoring model weights from the end of the best epoch: 13.\n",
      "\u001b[1m266/266\u001b[0m \u001b[32m━━━━━━━━━━━━━━━━━━━━\u001b[0m\u001b[37m\u001b[0m \u001b[1m6s\u001b[0m 20ms/step\n",
      "Restoring model weights from the end of the best epoch: 18.\n",
      "\u001b[1m266/266\u001b[0m \u001b[32m━━━━━━━━━━━━━━━━━━━━\u001b[0m\u001b[37m\u001b[0m \u001b[1m6s\u001b[0m 19ms/step\n"
     ]
    },
    {
     "name": "stderr",
     "output_type": "stream",
     "text": [
      "[I 2024-07-11 21:43:02,573] Trial 2 finished with value: 0.7893729543312408 and parameters: {'filters': 110, 'kernel_size': 2, 'pool_size': 3, 'filters2': 64, 'kernel_size2': 2, 'pool_size2': 3, 'units': 104, 'dropout_rate': 0.36462987372050354, 'optimizer': 'adam', 'epochs': 27, 'batch_size': 97}. Best is trial 1 with value: 0.8414388555490816.\n"
     ]
    },
    {
     "name": "stdout",
     "output_type": "stream",
     "text": [
      "Epoch 29: early stopping\n",
      "Restoring model weights from the end of the best epoch: 19.\n",
      "\u001b[1m266/266\u001b[0m \u001b[32m━━━━━━━━━━━━━━━━━━━━\u001b[0m\u001b[37m\u001b[0m \u001b[1m4s\u001b[0m 12ms/step\n",
      "Epoch 26: early stopping\n",
      "Restoring model weights from the end of the best epoch: 16.\n",
      "\u001b[1m266/266\u001b[0m \u001b[32m━━━━━━━━━━━━━━━━━━━━\u001b[0m\u001b[37m\u001b[0m \u001b[1m4s\u001b[0m 13ms/step\n",
      "Epoch 27: early stopping\n",
      "Restoring model weights from the end of the best epoch: 17.\n",
      "\u001b[1m266/266\u001b[0m \u001b[32m━━━━━━━━━━━━━━━━━━━━\u001b[0m\u001b[37m\u001b[0m \u001b[1m5s\u001b[0m 17ms/step\n",
      "Epoch 21: early stopping\n",
      "Restoring model weights from the end of the best epoch: 11.\n",
      "\u001b[1m266/266\u001b[0m \u001b[32m━━━━━━━━━━━━━━━━━━━━\u001b[0m\u001b[37m\u001b[0m \u001b[1m4s\u001b[0m 13ms/step\n"
     ]
    },
    {
     "name": "stderr",
     "output_type": "stream",
     "text": [
      "[I 2024-07-11 21:44:44,750] Trial 7 finished with value: 0.8017881422228662 and parameters: {'filters': 126, 'kernel_size': 5, 'pool_size': 4, 'filters2': 73, 'kernel_size2': 5, 'pool_size2': 4, 'units': 225, 'dropout_rate': 0.24783081114750555, 'optimizer': 'adam', 'epochs': 42, 'batch_size': 231}. Best is trial 1 with value: 0.8414388555490816.\n"
     ]
    },
    {
     "name": "stdout",
     "output_type": "stream",
     "text": [
      "Epoch 21: early stopping\n",
      "Restoring model weights from the end of the best epoch: 11.\n",
      "\u001b[1m266/266\u001b[0m \u001b[32m━━━━━━━━━━━━━━━━━━━━\u001b[0m\u001b[37m\u001b[0m \u001b[1m4s\u001b[0m 14ms/step\n",
      "Epoch 26: early stopping\n",
      "Restoring model weights from the end of the best epoch: 16.\n",
      "\u001b[1m266/266\u001b[0m \u001b[32m━━━━━━━━━━━━━━━━━━━━\u001b[0m\u001b[37m\u001b[0m \u001b[1m4s\u001b[0m 12ms/step\n"
     ]
    },
    {
     "name": "stderr",
     "output_type": "stream",
     "text": [
      "[I 2024-07-11 21:45:29,816] Trial 8 finished with value: 0.7789915455859574 and parameters: {'filters': 24, 'kernel_size': 4, 'pool_size': 3, 'filters2': 127, 'kernel_size2': 2, 'pool_size2': 4, 'units': 49, 'dropout_rate': 0.24564842740080645, 'optimizer': 'rmsprop', 'epochs': 35, 'batch_size': 234}. Best is trial 1 with value: 0.8414388555490816.\n"
     ]
    },
    {
     "name": "stdout",
     "output_type": "stream",
     "text": [
      "Epoch 24: early stopping\n",
      "Restoring model weights from the end of the best epoch: 14.\n",
      "\u001b[1m266/266\u001b[0m \u001b[32m━━━━━━━━━━━━━━━━━━━━\u001b[0m\u001b[37m\u001b[0m \u001b[1m4s\u001b[0m 14ms/step\n",
      "Epoch 18: early stopping\n",
      "Restoring model weights from the end of the best epoch: 8.\n",
      "\u001b[1m266/266\u001b[0m \u001b[32m━━━━━━━━━━━━━━━━━━━━\u001b[0m\u001b[37m\u001b[0m \u001b[1m5s\u001b[0m 16ms/step\n",
      "Epoch 24: early stopping\n",
      "Restoring model weights from the end of the best epoch: 14.\n",
      "\u001b[1m266/266\u001b[0m \u001b[32m━━━━━━━━━━━━━━━━━━━━\u001b[0m\u001b[37m\u001b[0m \u001b[1m5s\u001b[0m 16ms/step\n",
      "Restoring model weights from the end of the best epoch: 17.\n",
      "\u001b[1m266/266\u001b[0m \u001b[32m━━━━━━━━━━━━━━━━━━━━\u001b[0m\u001b[37m\u001b[0m \u001b[1m6s\u001b[0m 19ms/step\n",
      "Epoch 21: early stopping\n",
      "Restoring model weights from the end of the best epoch: 11.\n",
      "\u001b[1m266/266\u001b[0m \u001b[32m━━━━━━━━━━━━━━━━━━━━\u001b[0m\u001b[37m\u001b[0m \u001b[1m5s\u001b[0m 16ms/step\n"
     ]
    },
    {
     "name": "stderr",
     "output_type": "stream",
     "text": [
      "[I 2024-07-11 21:48:12,388] Trial 10 finished with value: 0.8006848237285663 and parameters: {'filters': 52, 'kernel_size': 5, 'pool_size': 4, 'filters2': 57, 'kernel_size2': 5, 'pool_size2': 3, 'units': 210, 'dropout_rate': 0.47262016331542517, 'optimizer': 'adam', 'epochs': 37, 'batch_size': 224}. Best is trial 1 with value: 0.8414388555490816.\n"
     ]
    },
    {
     "name": "stdout",
     "output_type": "stream",
     "text": [
      "Epoch 19: early stopping\n",
      "Restoring model weights from the end of the best epoch: 9.\n",
      "\u001b[1m266/266\u001b[0m \u001b[32m━━━━━━━━━━━━━━━━━━━━\u001b[0m\u001b[37m\u001b[0m \u001b[1m6s\u001b[0m 20ms/step\n",
      "Epoch 23: early stopping\n",
      "Restoring model weights from the end of the best epoch: 13.\n",
      "\u001b[1m266/266\u001b[0m \u001b[32m━━━━━━━━━━━━━━━━━━━━\u001b[0m\u001b[37m\u001b[0m \u001b[1m4s\u001b[0m 12ms/step\n",
      "Restoring model weights from the end of the best epoch: 14.\n",
      "\u001b[1m266/266\u001b[0m \u001b[32m━━━━━━━━━━━━━━━━━━━━\u001b[0m\u001b[37m\u001b[0m \u001b[1m4s\u001b[0m 13ms/step\n"
     ]
    },
    {
     "name": "stderr",
     "output_type": "stream",
     "text": [
      "[I 2024-07-11 21:50:15,748] Trial 11 finished with value: 0.8188047002686331 and parameters: {'filters': 28, 'kernel_size': 5, 'pool_size': 4, 'filters2': 98, 'kernel_size2': 4, 'pool_size2': 2, 'units': 55, 'dropout_rate': 0.4547923301932995, 'optimizer': 'rmsprop', 'epochs': 23, 'batch_size': 137}. Best is trial 1 with value: 0.8414388555490816.\n"
     ]
    },
    {
     "name": "stdout",
     "output_type": "stream",
     "text": [
      "Epoch 22: early stopping\n",
      "Restoring model weights from the end of the best epoch: 12.\n",
      "\u001b[1m266/266\u001b[0m \u001b[32m━━━━━━━━━━━━━━━━━━━━\u001b[0m\u001b[37m\u001b[0m \u001b[1m5s\u001b[0m 17ms/step\n"
     ]
    },
    {
     "name": "stderr",
     "output_type": "stream",
     "text": [
      "[I 2024-07-11 21:50:46,118] Trial 9 finished with value: 0.8419787218506704 and parameters: {'filters': 84, 'kernel_size': 2, 'pool_size': 2, 'filters2': 74, 'kernel_size2': 3, 'pool_size2': 3, 'units': 155, 'dropout_rate': 0.26392737697906016, 'optimizer': 'rmsprop', 'epochs': 30, 'batch_size': 113}. Best is trial 9 with value: 0.8419787218506704.\n"
     ]
    },
    {
     "name": "stdout",
     "output_type": "stream",
     "text": [
      "Epoch 22: early stopping\n",
      "Restoring model weights from the end of the best epoch: 12.\n",
      "\u001b[1m266/266\u001b[0m \u001b[32m━━━━━━━━━━━━━━━━━━━━\u001b[0m\u001b[37m\u001b[0m \u001b[1m5s\u001b[0m 15ms/step\n",
      "Epoch 21: early stopping\n",
      "Restoring model weights from the end of the best epoch: 11.\n",
      "\u001b[1m266/266\u001b[0m \u001b[32m━━━━━━━━━━━━━━━━━━━━\u001b[0m\u001b[37m\u001b[0m \u001b[1m5s\u001b[0m 16ms/step\n",
      "Restoring model weights from the end of the best epoch: 8.\n",
      "\u001b[1m266/266\u001b[0m \u001b[32m━━━━━━━━━━━━━━━━━━━━\u001b[0m\u001b[37m\u001b[0m \u001b[1m4s\u001b[0m 14ms/step\n",
      "Restoring model weights from the end of the best epoch: 5.\n",
      "\u001b[1m266/266\u001b[0m \u001b[32m━━━━━━━━━━━━━━━━━━━━\u001b[0m\u001b[37m\u001b[0m \u001b[1m4s\u001b[0m 14ms/step\n",
      "Epoch 29: early stopping\n",
      "Restoring model weights from the end of the best epoch: 19.\n",
      "\u001b[1m266/266\u001b[0m \u001b[32m━━━━━━━━━━━━━━━━━━━━\u001b[0m\u001b[37m\u001b[0m \u001b[1m5s\u001b[0m 16ms/step\n",
      "Restoring model weights from the end of the best epoch: 6.\n",
      "\u001b[1m266/266\u001b[0m \u001b[32m━━━━━━━━━━━━━━━━━━━━\u001b[0m\u001b[37m\u001b[0m \u001b[1m4s\u001b[0m 13ms/step\n"
     ]
    },
    {
     "name": "stderr",
     "output_type": "stream",
     "text": [
      "[I 2024-07-11 21:53:40,281] Trial 15 finished with value: 0.804259238347741 and parameters: {'filters': 80, 'kernel_size': 4, 'pool_size': 2, 'filters2': 31, 'kernel_size2': 3, 'pool_size2': 2, 'units': 167, 'dropout_rate': 0.319229242102473, 'optimizer': 'adam', 'epochs': 10, 'batch_size': 179}. Best is trial 9 with value: 0.8419787218506704.\n"
     ]
    },
    {
     "name": "stdout",
     "output_type": "stream",
     "text": [
      "Restoring model weights from the end of the best epoch: 7.\n",
      "\u001b[1m245/266\u001b[0m \u001b[32m━━━━━━━━━━━━━━━━━━\u001b[0m\u001b[37m━━\u001b[0m \u001b[1m0s\u001b[0m 13ms/stepEpoch 22: early stopping\n",
      "Restoring model weights from the end of the best epoch: 12.\n",
      "\u001b[1m266/266\u001b[0m \u001b[32m━━━━━━━━━━━━━━━━━━━━\u001b[0m\u001b[37m\u001b[0m \u001b[1m5s\u001b[0m 14ms/step\n",
      "\u001b[1m266/266\u001b[0m \u001b[32m━━━━━━━━━━━━━━━━━━━━\u001b[0m\u001b[37m\u001b[0m \u001b[1m5s\u001b[0m 18ms/step\n"
     ]
    },
    {
     "name": "stderr",
     "output_type": "stream",
     "text": [
      "[I 2024-07-11 21:53:51,545] Trial 12 finished with value: 0.8218316439390992 and parameters: {'filters': 43, 'kernel_size': 5, 'pool_size': 4, 'filters2': 120, 'kernel_size2': 5, 'pool_size2': 4, 'units': 244, 'dropout_rate': 0.39996246940324465, 'optimizer': 'adam', 'epochs': 25, 'batch_size': 115}. Best is trial 9 with value: 0.8419787218506704.\n"
     ]
    },
    {
     "name": "stdout",
     "output_type": "stream",
     "text": [
      "Epoch 21: early stopping\n",
      "Restoring model weights from the end of the best epoch: 11.\n",
      "\u001b[1m266/266\u001b[0m \u001b[32m━━━━━━━━━━━━━━━━━━━━\u001b[0m\u001b[37m\u001b[0m \u001b[1m4s\u001b[0m 14ms/step\n",
      "Epoch 26: early stopping\n",
      "Restoring model weights from the end of the best epoch: 16.\n",
      "\u001b[1m266/266\u001b[0m \u001b[32m━━━━━━━━━━━━━━━━━━━━\u001b[0m\u001b[37m\u001b[0m \u001b[1m5s\u001b[0m 15ms/step\n"
     ]
    },
    {
     "name": "stderr",
     "output_type": "stream",
     "text": [
      "[I 2024-07-11 21:55:57,743] Trial 6 finished with value: 0.8368091365802831 and parameters: {'filters': 90, 'kernel_size': 3, 'pool_size': 2, 'filters2': 87, 'kernel_size2': 5, 'pool_size2': 4, 'units': 110, 'dropout_rate': 0.2948905382115783, 'optimizer': 'rmsprop', 'epochs': 41, 'batch_size': 44}. Best is trial 9 with value: 0.8419787218506704.\n"
     ]
    },
    {
     "name": "stdout",
     "output_type": "stream",
     "text": [
      "Restoring model weights from the end of the best epoch: 9.\n",
      "\u001b[1m266/266\u001b[0m \u001b[32m━━━━━━━━━━━━━━━━━━━━\u001b[0m\u001b[37m\u001b[0m \u001b[1m5s\u001b[0m 18ms/step\n",
      "Restoring model weights from the end of the best epoch: 6.\n",
      "\u001b[1m266/266\u001b[0m \u001b[32m━━━━━━━━━━━━━━━━━━━━\u001b[0m\u001b[37m\u001b[0m \u001b[1m4s\u001b[0m 14ms/step\n",
      "Epoch 18: early stopping\n",
      "Restoring model weights from the end of the best epoch: 8.\n",
      "\u001b[1m266/266\u001b[0m \u001b[32m━━━━━━━━━━━━━━━━━━━━\u001b[0m\u001b[37m\u001b[0m \u001b[1m4s\u001b[0m 15ms/step\n"
     ]
    },
    {
     "name": "stderr",
     "output_type": "stream",
     "text": [
      "[I 2024-07-11 21:56:51,013] Trial 14 finished with value: 0.8292381211178635 and parameters: {'filters': 25, 'kernel_size': 3, 'pool_size': 2, 'filters2': 91, 'kernel_size2': 3, 'pool_size2': 4, 'units': 163, 'dropout_rate': 0.25159369697864653, 'optimizer': 'rmsprop', 'epochs': 29, 'batch_size': 91}. Best is trial 9 with value: 0.8419787218506704.\n"
     ]
    },
    {
     "name": "stdout",
     "output_type": "stream",
     "text": [
      "Restoring model weights from the end of the best epoch: 7.\n",
      "\u001b[1m266/266\u001b[0m \u001b[32m━━━━━━━━━━━━━━━━━━━━\u001b[0m\u001b[37m\u001b[0m \u001b[1m6s\u001b[0m 19ms/step\n",
      "Restoring model weights from the end of the best epoch: 6.\n",
      "\u001b[1m266/266\u001b[0m \u001b[32m━━━━━━━━━━━━━━━━━━━━\u001b[0m\u001b[37m\u001b[0m \u001b[1m5s\u001b[0m 17ms/step\n",
      "Epoch 34: early stopping\n",
      "Restoring model weights from the end of the best epoch: 24.\n",
      "\u001b[1m266/266\u001b[0m \u001b[32m━━━━━━━━━━━━━━━━━━━━\u001b[0m\u001b[37m\u001b[0m \u001b[1m5s\u001b[0m 16ms/step\n"
     ]
    },
    {
     "name": "stderr",
     "output_type": "stream",
     "text": [
      "[I 2024-07-11 21:57:59,850] Trial 13 finished with value: 0.8379624242958607 and parameters: {'filters': 114, 'kernel_size': 3, 'pool_size': 2, 'filters2': 112, 'kernel_size2': 2, 'pool_size2': 2, 'units': 74, 'dropout_rate': 0.4565478494670575, 'optimizer': 'adam', 'epochs': 50, 'batch_size': 181}. Best is trial 9 with value: 0.8419787218506704.\n"
     ]
    },
    {
     "name": "stdout",
     "output_type": "stream",
     "text": [
      "Restoring model weights from the end of the best epoch: 7.\n",
      "\u001b[1m266/266\u001b[0m \u001b[32m━━━━━━━━━━━━━━━━━━━━\u001b[0m\u001b[37m\u001b[0m \u001b[1m4s\u001b[0m 12ms/step\n",
      "Restoring model weights from the end of the best epoch: 8.\n",
      "\u001b[1m266/266\u001b[0m \u001b[32m━━━━━━━━━━━━━━━━━━━━\u001b[0m\u001b[37m\u001b[0m \u001b[1m5s\u001b[0m 15ms/step\n",
      "Restoring model weights from the end of the best epoch: 9.\n",
      "\u001b[1m 49/266\u001b[0m \u001b[32m━━━\u001b[0m\u001b[37m━━━━━━━━━━━━━━━━━\u001b[0m \u001b[1m3s\u001b[0m 17ms/stepRestoring model weights from the end of the best epoch: 7.\n",
      "\u001b[1m 71/266\u001b[0m \u001b[32m━━━━━\u001b[0m\u001b[37m━━━━━━━━━━━━━━━\u001b[0m \u001b[1m2s\u001b[0m 12ms/stepRestoring model weights from the end of the best epoch: 13.\n",
      "\u001b[1m266/266\u001b[0m \u001b[32m━━━━━━━━━━━━━━━━━━━━\u001b[0m\u001b[37m\u001b[0m \u001b[1m5s\u001b[0m 16ms/step\n",
      "\u001b[1m266/266\u001b[0m \u001b[32m━━━━━━━━━━━━━━━━━━━━\u001b[0m\u001b[37m\u001b[0m \u001b[1m4s\u001b[0m 11ms/step\n",
      "\u001b[1m157/266\u001b[0m \u001b[32m━━━━━━━━━━━\u001b[0m\u001b[37m━━━━━━━━━\u001b[0m \u001b[1m1s\u001b[0m 10ms/stepRestoring model weights from the end of the best epoch: 12.\n",
      "\u001b[1m266/266\u001b[0m \u001b[32m━━━━━━━━━━━━━━━━━━━━\u001b[0m\u001b[37m\u001b[0m \u001b[1m4s\u001b[0m 13ms/step\n",
      "\u001b[1m266/266\u001b[0m \u001b[32m━━━━━━━━━━━━━━━━━━━━\u001b[0m\u001b[37m\u001b[0m \u001b[1m5s\u001b[0m 19ms/step\n",
      "Restoring model weights from the end of the best epoch: 8.\n"
     ]
    },
    {
     "name": "stderr",
     "output_type": "stream",
     "text": [
      "[I 2024-07-11 21:59:38,803] Trial 16 finished with value: 0.8185849999183333 and parameters: {'filters': 80, 'kernel_size': 3, 'pool_size': 2, 'filters2': 16, 'kernel_size2': 3, 'pool_size2': 3, 'units': 166, 'dropout_rate': 0.3063886145847603, 'optimizer': 'rmsprop', 'epochs': 13, 'batch_size': 35}. Best is trial 9 with value: 0.8419787218506704.\n"
     ]
    },
    {
     "name": "stdout",
     "output_type": "stream",
     "text": [
      "\u001b[1m266/266\u001b[0m \u001b[32m━━━━━━━━━━━━━━━━━━━━\u001b[0m\u001b[37m\u001b[0m \u001b[1m5s\u001b[0m 17ms/step\n"
     ]
    },
    {
     "name": "stderr",
     "output_type": "stream",
     "text": [
      "[I 2024-07-11 21:59:44,075] Trial 19 finished with value: 0.8089676727097718 and parameters: {'filters': 66, 'kernel_size': 3, 'pool_size': 2, 'filters2': 76, 'kernel_size2': 3, 'pool_size2': 3, 'units': 175, 'dropout_rate': 0.20222894162987579, 'optimizer': 'rmsprop', 'epochs': 10, 'batch_size': 173}. Best is trial 9 with value: 0.8419787218506704.\n"
     ]
    },
    {
     "name": "stdout",
     "output_type": "stream",
     "text": [
      "Restoring model weights from the end of the best epoch: 5.\n",
      "\u001b[1m266/266\u001b[0m \u001b[32m━━━━━━━━━━━━━━━━━━━━\u001b[0m\u001b[37m\u001b[0m \u001b[1m5s\u001b[0m 16ms/step\n",
      "Restoring model weights from the end of the best epoch: 8.\n",
      "\u001b[1m266/266\u001b[0m \u001b[32m━━━━━━━━━━━━━━━━━━━━\u001b[0m\u001b[37m\u001b[0m \u001b[1m4s\u001b[0m 14ms/step\n"
     ]
    },
    {
     "name": "stderr",
     "output_type": "stream",
     "text": [
      "[I 2024-07-11 22:00:54,390] Trial 20 finished with value: 0.817889536672133 and parameters: {'filters': 68, 'kernel_size': 4, 'pool_size': 2, 'filters2': 26, 'kernel_size2': 4, 'pool_size2': 3, 'units': 137, 'dropout_rate': 0.2942692610574586, 'optimizer': 'rmsprop', 'epochs': 13, 'batch_size': 175}. Best is trial 9 with value: 0.8419787218506704.\n"
     ]
    },
    {
     "name": "stdout",
     "output_type": "stream",
     "text": [
      "Restoring model weights from the end of the best epoch: 13.\n",
      "\u001b[1m266/266\u001b[0m \u001b[32m━━━━━━━━━━━━━━━━━━━━\u001b[0m\u001b[37m\u001b[0m \u001b[1m4s\u001b[0m 13ms/step\n",
      "Restoring model weights from the end of the best epoch: 8.\n",
      "\u001b[1m266/266\u001b[0m \u001b[32m━━━━━━━━━━━━━━━━━━━━\u001b[0m\u001b[37m\u001b[0m \u001b[1m4s\u001b[0m 13ms/step\n",
      "Restoring model weights from the end of the best epoch: 10.\n",
      "\u001b[1m266/266\u001b[0m \u001b[32m━━━━━━━━━━━━━━━━━━━━\u001b[0m\u001b[37m\u001b[0m \u001b[1m5s\u001b[0m 17ms/step\n",
      "Restoring model weights from the end of the best epoch: 8.\n",
      "\u001b[1m266/266\u001b[0m \u001b[32m━━━━━━━━━━━━━━━━━━━━\u001b[0m\u001b[37m\u001b[0m \u001b[1m6s\u001b[0m 19ms/step\n"
     ]
    },
    {
     "name": "stderr",
     "output_type": "stream",
     "text": [
      "[I 2024-07-11 22:02:30,516] Trial 17 finished with value: 0.8409734669078729 and parameters: {'filters': 82, 'kernel_size': 3, 'pool_size': 2, 'filters2': 83, 'kernel_size2': 3, 'pool_size2': 3, 'units': 167, 'dropout_rate': 0.2946574912970075, 'optimizer': 'rmsprop', 'epochs': 10, 'batch_size': 39}. Best is trial 9 with value: 0.8419787218506704.\n"
     ]
    },
    {
     "name": "stdout",
     "output_type": "stream",
     "text": [
      "Restoring model weights from the end of the best epoch: 18.\n",
      "\u001b[1m266/266\u001b[0m \u001b[32m━━━━━━━━━━━━━━━━━━━━\u001b[0m\u001b[37m\u001b[0m \u001b[1m5s\u001b[0m 17ms/step\n",
      "Restoring model weights from the end of the best epoch: 18.\n",
      "\u001b[1m266/266\u001b[0m \u001b[32m━━━━━━━━━━━━━━━━━━━━\u001b[0m\u001b[37m\u001b[0m \u001b[1m4s\u001b[0m 14ms/step\n"
     ]
    },
    {
     "name": "stderr",
     "output_type": "stream",
     "text": [
      "[I 2024-07-11 22:03:05,594] Trial 21 finished with value: 0.8430000026658199 and parameters: {'filters': 64, 'kernel_size': 4, 'pool_size': 2, 'filters2': 16, 'kernel_size2': 4, 'pool_size2': 3, 'units': 135, 'dropout_rate': 0.2851945023769353, 'optimizer': 'rmsprop', 'epochs': 18, 'batch_size': 161}. Best is trial 21 with value: 0.8430000026658199.\n"
     ]
    },
    {
     "name": "stdout",
     "output_type": "stream",
     "text": [
      "Restoring model weights from the end of the best epoch: 6.\n",
      "\u001b[1m 98/266\u001b[0m \u001b[32m━━━━━━━\u001b[0m\u001b[37m━━━━━━━━━━━━━\u001b[0m \u001b[1m3s\u001b[0m 18ms/stepRestoring model weights from the end of the best epoch: 10.\n",
      "\u001b[1m266/266\u001b[0m \u001b[32m━━━━━━━━━━━━━━━━━━━━\u001b[0m\u001b[37m\u001b[0m \u001b[1m5s\u001b[0m 18ms/step\n",
      "\u001b[1m161/266\u001b[0m \u001b[32m━━━━━━━━━━━━\u001b[0m\u001b[37m━━━━━━━━\u001b[0m \u001b[1m1s\u001b[0m 15ms/step"
     ]
    },
    {
     "name": "stderr",
     "output_type": "stream",
     "text": [
      "[I 2024-07-11 22:03:16,903] Trial 18 finished with value: 0.8372921771913844 and parameters: {'filters': 84, 'kernel_size': 3, 'pool_size': 2, 'filters2': 88, 'kernel_size2': 3, 'pool_size2': 3, 'units': 166, 'dropout_rate': 0.29399804576526367, 'optimizer': 'rmsprop', 'epochs': 11, 'batch_size': 41}. Best is trial 21 with value: 0.8430000026658199.\n"
     ]
    },
    {
     "name": "stdout",
     "output_type": "stream",
     "text": [
      "\u001b[1m266/266\u001b[0m \u001b[32m━━━━━━━━━━━━━━━━━━━━\u001b[0m\u001b[37m\u001b[0m \u001b[1m5s\u001b[0m 16ms/step\n",
      "Restoring model weights from the end of the best epoch: 12.\n",
      "\u001b[1m265/266\u001b[0m \u001b[32m━━━━━━━━━━━━━━━━━━━\u001b[0m\u001b[37m━\u001b[0m \u001b[1m0s\u001b[0m 14ms/stepRestoring model weights from the end of the best epoch: 17.\n",
      "\u001b[1m266/266\u001b[0m \u001b[32m━━━━━━━━━━━━━━━━━━━━\u001b[0m\u001b[37m\u001b[0m \u001b[1m4s\u001b[0m 15ms/step\n",
      "\u001b[1m266/266\u001b[0m \u001b[32m━━━━━━━━━━━━━━━━━━━━\u001b[0m\u001b[37m\u001b[0m \u001b[1m6s\u001b[0m 21ms/step\n",
      "Restoring model weights from the end of the best epoch: 17.\n",
      "\u001b[1m266/266\u001b[0m \u001b[32m━━━━━━━━━━━━━━━━━━━━\u001b[0m\u001b[37m\u001b[0m \u001b[1m5s\u001b[0m 16ms/step\n",
      "Restoring model weights from the end of the best epoch: 9.\n",
      "\u001b[1m266/266\u001b[0m \u001b[32m━━━━━━━━━━━━━━━━━━━━\u001b[0m\u001b[37m\u001b[0m \u001b[1m5s\u001b[0m 17ms/step\n",
      "Restoring model weights from the end of the best epoch: 14.\n"
     ]
    },
    {
     "name": "stderr",
     "output_type": "stream",
     "text": [
      "[I 2024-07-11 22:05:25,749] Trial 22 finished with value: 0.8225169032695385 and parameters: {'filters': 62, 'kernel_size': 4, 'pool_size': 2, 'filters2': 76, 'kernel_size2': 4, 'pool_size2': 3, 'units': 128, 'dropout_rate': 0.20170086471196108, 'optimizer': 'rmsprop', 'epochs': 15, 'batch_size': 168}. Best is trial 21 with value: 0.8430000026658199.\n"
     ]
    },
    {
     "name": "stdout",
     "output_type": "stream",
     "text": [
      "\u001b[1m266/266\u001b[0m \u001b[32m━━━━━━━━━━━━━━━━━━━━\u001b[0m\u001b[37m\u001b[0m \u001b[1m6s\u001b[0m 20ms/step\n",
      "Restoring model weights from the end of the best epoch: 16.\n",
      "\u001b[1m266/266\u001b[0m \u001b[32m━━━━━━━━━━━━━━━━━━━━\u001b[0m\u001b[37m\u001b[0m \u001b[1m5s\u001b[0m 16ms/step\n"
     ]
    },
    {
     "name": "stderr",
     "output_type": "stream",
     "text": [
      "[I 2024-07-11 22:06:19,054] Trial 24 finished with value: 0.8579260664434103 and parameters: {'filters': 49, 'kernel_size': 4, 'pool_size': 2, 'filters2': 48, 'kernel_size2': 4, 'pool_size2': 2, 'units': 192, 'dropout_rate': 0.27825117109821107, 'optimizer': 'adam', 'epochs': 18, 'batch_size': 202}. Best is trial 24 with value: 0.8579260664434103.\n"
     ]
    },
    {
     "name": "stdout",
     "output_type": "stream",
     "text": [
      "Restoring model weights from the end of the best epoch: 12.\n",
      "\u001b[1m266/266\u001b[0m \u001b[32m━━━━━━━━━━━━━━━━━━━━\u001b[0m\u001b[37m\u001b[0m \u001b[1m4s\u001b[0m 16ms/step\n",
      "Epoch 18: early stopping\n",
      "Restoring model weights from the end of the best epoch: 8.\n",
      "\u001b[1m266/266\u001b[0m \u001b[32m━━━━━━━━━━━━━━━━━━━━\u001b[0m\u001b[37m\u001b[0m \u001b[1m5s\u001b[0m 15ms/step\n"
     ]
    },
    {
     "name": "stderr",
     "output_type": "stream",
     "text": [
      "[I 2024-07-11 22:06:37,847] Trial 23 finished with value: 0.8176180694955146 and parameters: {'filters': 55, 'kernel_size': 4, 'pool_size': 2, 'filters2': 50, 'kernel_size2': 4, 'pool_size2': 3, 'units': 130, 'dropout_rate': 0.2845216682577066, 'optimizer': 'adam', 'epochs': 19, 'batch_size': 157}. Best is trial 24 with value: 0.8579260664434103.\n"
     ]
    },
    {
     "name": "stdout",
     "output_type": "stream",
     "text": [
      "Epoch 18: early stopping\n",
      "Restoring model weights from the end of the best epoch: 8.\n",
      "\u001b[1m266/266\u001b[0m \u001b[32m━━━━━━━━━━━━━━━━━━━━\u001b[0m\u001b[37m\u001b[0m \u001b[1m5s\u001b[0m 16ms/step\n",
      "Restoring model weights from the end of the best epoch: 10.\n",
      "\u001b[1m266/266\u001b[0m \u001b[32m━━━━━━━━━━━━━━━━━━━━\u001b[0m\u001b[37m\u001b[0m \u001b[1m4s\u001b[0m 14ms/step\n",
      "Restoring model weights from the end of the best epoch: 12.\n",
      "\u001b[1m266/266\u001b[0m \u001b[32m━━━━━━━━━━━━━━━━━━━━\u001b[0m\u001b[37m\u001b[0m \u001b[1m5s\u001b[0m 16ms/step\n",
      "Restoring model weights from the end of the best epoch: 11.\n",
      "\u001b[1m266/266\u001b[0m \u001b[32m━━━━━━━━━━━━━━━━━━━━\u001b[0m\u001b[37m\u001b[0m \u001b[1m5s\u001b[0m 16ms/step\n",
      "Restoring model weights from the end of the best epoch: 17.\n",
      "\u001b[1m266/266\u001b[0m \u001b[32m━━━━━━━━━━━━━━━━━━━━\u001b[0m\u001b[37m\u001b[0m \u001b[1m5s\u001b[0m 15ms/step\n",
      "Restoring model weights from the end of the best epoch: 17.\n",
      "\u001b[1m266/266\u001b[0m \u001b[32m━━━━━━━━━━━━━━━━━━━━\u001b[0m\u001b[37m\u001b[0m \u001b[1m5s\u001b[0m 15ms/step\n",
      "Restoring model weights from the end of the best epoch: 17.\n",
      "\u001b[1m266/266\u001b[0m \u001b[32m━━━━━━━━━━━━━━━━━━━━\u001b[0m\u001b[37m\u001b[0m \u001b[1m5s\u001b[0m 16ms/step\n"
     ]
    },
    {
     "name": "stderr",
     "output_type": "stream",
     "text": [
      "[I 2024-07-11 22:09:38,618] Trial 26 finished with value: 0.8312636037832465 and parameters: {'filters': 54, 'kernel_size': 4, 'pool_size': 2, 'filters2': 48, 'kernel_size2': 4, 'pool_size2': 3, 'units': 130, 'dropout_rate': 0.268631520943248, 'optimizer': 'rmsprop', 'epochs': 18, 'batch_size': 156}. Best is trial 24 with value: 0.8579260664434103.\n"
     ]
    },
    {
     "name": "stdout",
     "output_type": "stream",
     "text": [
      "Restoring model weights from the end of the best epoch: 9.\n",
      "\u001b[1m266/266\u001b[0m \u001b[32m━━━━━━━━━━━━━━━━━━━━\u001b[0m\u001b[37m\u001b[0m \u001b[1m4s\u001b[0m 13ms/step\n"
     ]
    },
    {
     "name": "stderr",
     "output_type": "stream",
     "text": [
      "[I 2024-07-11 22:09:56,101] Trial 27 finished with value: 0.836929236025294 and parameters: {'filters': 54, 'kernel_size': 4, 'pool_size': 2, 'filters2': 52, 'kernel_size2': 4, 'pool_size2': 2, 'units': 135, 'dropout_rate': 0.2684410680056393, 'optimizer': 'rmsprop', 'epochs': 18, 'batch_size': 149}. Best is trial 24 with value: 0.8579260664434103.\n"
     ]
    },
    {
     "name": "stdout",
     "output_type": "stream",
     "text": [
      "Restoring model weights from the end of the best epoch: 14.\n",
      "\u001b[1m266/266\u001b[0m \u001b[32m━━━━━━━━━━━━━━━━━━━━\u001b[0m\u001b[37m\u001b[0m \u001b[1m5s\u001b[0m 17ms/step\n",
      "Restoring model weights from the end of the best epoch: 11.\n",
      "\u001b[1m264/266\u001b[0m \u001b[32m━━━━━━━━━━━━━━━━━━━\u001b[0m\u001b[37m━\u001b[0m \u001b[1m0s\u001b[0m 17ms/stepEpoch 19: early stopping\n",
      "Restoring model weights from the end of the best epoch: 9.\n",
      "\u001b[1m266/266\u001b[0m \u001b[32m━━━━━━━━━━━━━━━━━━━━\u001b[0m\u001b[37m\u001b[0m \u001b[1m5s\u001b[0m 18ms/step\n",
      "\u001b[1m266/266\u001b[0m \u001b[32m━━━━━━━━━━━━━━━━━━━━\u001b[0m\u001b[37m\u001b[0m \u001b[1m6s\u001b[0m 19ms/step\n",
      "Restoring model weights from the end of the best epoch: 18.\n",
      "\u001b[1m266/266\u001b[0m \u001b[32m━━━━━━━━━━━━━━━━━━━━\u001b[0m\u001b[37m\u001b[0m \u001b[1m4s\u001b[0m 14ms/step\n"
     ]
    },
    {
     "name": "stderr",
     "output_type": "stream",
     "text": [
      "[I 2024-07-11 22:11:13,776] Trial 28 finished with value: 0.8485538376969499 and parameters: {'filters': 50, 'kernel_size': 4, 'pool_size': 2, 'filters2': 55, 'kernel_size2': 4, 'pool_size2': 2, 'units': 195, 'dropout_rate': 0.26956806931934296, 'optimizer': 'adam', 'epochs': 19, 'batch_size': 202}. Best is trial 24 with value: 0.8579260664434103.\n"
     ]
    },
    {
     "name": "stdout",
     "output_type": "stream",
     "text": [
      "Epoch 23: early stopping\n",
      "Restoring model weights from the end of the best epoch: 13.\n",
      "\u001b[1m266/266\u001b[0m \u001b[32m━━━━━━━━━━━━━━━━━━━━\u001b[0m\u001b[37m\u001b[0m \u001b[1m4s\u001b[0m 13ms/step\n",
      "Epoch 20: early stopping\n",
      "Restoring model weights from the end of the best epoch: 10.\n",
      "\u001b[1m 83/266\u001b[0m \u001b[32m━━━━━━\u001b[0m\u001b[37m━━━━━━━━━━━━━━\u001b[0m \u001b[1m1s\u001b[0m 9ms/stepEpoch 19: early stopping\n",
      "Restoring model weights from the end of the best epoch: 9.\n",
      "\u001b[1m266/266\u001b[0m \u001b[32m━━━━━━━━━━━━━━━━━━━━\u001b[0m\u001b[37m\u001b[0m \u001b[1m3s\u001b[0m 11ms/step\n",
      "\u001b[1m266/266\u001b[0m \u001b[32m━━━━━━━━━━━━━━━━━━━━\u001b[0m\u001b[37m\u001b[0m \u001b[1m4s\u001b[0m 13ms/step\n"
     ]
    },
    {
     "name": "stderr",
     "output_type": "stream",
     "text": [
      "[I 2024-07-11 22:11:34,284] Trial 30 finished with value: 0.8234775269411183 and parameters: {'filters': 35, 'kernel_size': 4, 'pool_size': 3, 'filters2': 41, 'kernel_size2': 4, 'pool_size2': 2, 'units': 195, 'dropout_rate': 0.3433588951378714, 'optimizer': 'rmsprop', 'epochs': 20, 'batch_size': 198}. Best is trial 24 with value: 0.8579260664434103.\n"
     ]
    },
    {
     "name": "stdout",
     "output_type": "stream",
     "text": [
      "Epoch 20: early stopping\n",
      "Restoring model weights from the end of the best epoch: 10.\n",
      "\u001b[1m266/266\u001b[0m \u001b[32m━━━━━━━━━━━━━━━━━━━━\u001b[0m\u001b[37m\u001b[0m \u001b[1m4s\u001b[0m 14ms/step\n"
     ]
    },
    {
     "name": "stderr",
     "output_type": "stream",
     "text": [
      "[I 2024-07-11 22:11:57,415] Trial 29 finished with value: 0.8418449500301914 and parameters: {'filters': 42, 'kernel_size': 4, 'pool_size': 2, 'filters2': 52, 'kernel_size2': 4, 'pool_size2': 3, 'units': 191, 'dropout_rate': 0.33558671024301734, 'optimizer': 'rmsprop', 'epochs': 20, 'batch_size': 203}. Best is trial 24 with value: 0.8579260664434103.\n"
     ]
    },
    {
     "name": "stdout",
     "output_type": "stream",
     "text": [
      "Epoch 19: early stopping\n",
      "Restoring model weights from the end of the best epoch: 9.\n",
      "\u001b[1m266/266\u001b[0m \u001b[32m━━━━━━━━━━━━━━━━━━━━\u001b[0m\u001b[37m\u001b[0m \u001b[1m4s\u001b[0m 12ms/step\n",
      "Restoring model weights from the end of the best epoch: 15.\n",
      "\u001b[1m266/266\u001b[0m \u001b[32m━━━━━━━━━━━━━━━━━━━━\u001b[0m\u001b[37m\u001b[0m \u001b[1m4s\u001b[0m 12ms/step\n",
      "Epoch 20: early stopping\n",
      "Restoring model weights from the end of the best epoch: 10.\n",
      "\u001b[1m266/266\u001b[0m \u001b[32m━━━━━━━━━━━━━━━━━━━━\u001b[0m\u001b[37m\u001b[0m \u001b[1m4s\u001b[0m 12ms/step\n",
      "Epoch 27: early stopping\n",
      "Restoring model weights from the end of the best epoch: 17.\n",
      "\u001b[1m 65/266\u001b[0m \u001b[32m━━━━\u001b[0m\u001b[37m━━━━━━━━━━━━━━━━\u001b[0m \u001b[1m1s\u001b[0m 9ms/step Epoch 20: early stopping\n",
      "Restoring model weights from the end of the best epoch: 10.\n",
      "\u001b[1m266/266\u001b[0m \u001b[32m━━━━━━━━━━━━━━━━━━━━\u001b[0m\u001b[37m\u001b[0m \u001b[1m4s\u001b[0m 13ms/step\n",
      "\u001b[1m266/266\u001b[0m \u001b[32m━━━━━━━━━━━━━━━━━━━━\u001b[0m\u001b[37m\u001b[0m \u001b[1m4s\u001b[0m 11ms/step\n",
      "Restoring model weights from the end of the best epoch: 12.\n",
      "\u001b[1m266/266\u001b[0m \u001b[32m━━━━━━━━━━━━━━━━━━━━\u001b[0m\u001b[37m\u001b[0m \u001b[1m5s\u001b[0m 17ms/step\n"
     ]
    },
    {
     "name": "stderr",
     "output_type": "stream",
     "text": [
      "[I 2024-07-11 22:13:25,666] Trial 25 finished with value: 0.8452470824743691 and parameters: {'filters': 54, 'kernel_size': 4, 'pool_size': 2, 'filters2': 51, 'kernel_size2': 4, 'pool_size2': 2, 'units': 196, 'dropout_rate': 0.3943535664115866, 'optimizer': 'adam', 'epochs': 20, 'batch_size': 74}. Best is trial 24 with value: 0.8579260664434103.\n"
     ]
    },
    {
     "name": "stdout",
     "output_type": "stream",
     "text": [
      "Restoring model weights from the end of the best epoch: 21.\n",
      "\u001b[1m266/266\u001b[0m \u001b[32m━━━━━━━━━━━━━━━━━━━━\u001b[0m\u001b[37m\u001b[0m \u001b[1m4s\u001b[0m 13ms/step\n",
      "Epoch 25: early stopping\n",
      "Restoring model weights from the end of the best epoch: 15.\n",
      "\u001b[1m266/266\u001b[0m \u001b[32m━━━━━━━━━━━━━━━━━━━━\u001b[0m\u001b[37m\u001b[0m \u001b[1m5s\u001b[0m 18ms/step\n"
     ]
    },
    {
     "name": "stderr",
     "output_type": "stream",
     "text": [
      "[I 2024-07-11 22:14:31,137] Trial 31 finished with value: 0.8316258676655693 and parameters: {'filters': 42, 'kernel_size': 4, 'pool_size': 3, 'filters2': 29, 'kernel_size2': 4, 'pool_size2': 2, 'units': 195, 'dropout_rate': 0.3424131798846325, 'optimizer': 'rmsprop', 'epochs': 34, 'batch_size': 205}. Best is trial 24 with value: 0.8579260664434103.\n"
     ]
    },
    {
     "name": "stdout",
     "output_type": "stream",
     "text": [
      "Epoch 20: early stopping\n",
      "Restoring model weights from the end of the best epoch: 10.\n",
      "\u001b[1m266/266\u001b[0m \u001b[32m━━━━━━━━━━━━━━━━━━━━\u001b[0m\u001b[37m\u001b[0m \u001b[1m5s\u001b[0m 14ms/step\n",
      "Restoring model weights from the end of the best epoch: 14.\n",
      "\u001b[1m266/266\u001b[0m \u001b[32m━━━━━━━━━━━━━━━━━━━━\u001b[0m\u001b[37m\u001b[0m \u001b[1m3s\u001b[0m 11ms/step\n",
      "Epoch 24: early stopping\n",
      "Restoring model weights from the end of the best epoch: 14.\n",
      "\u001b[1m266/266\u001b[0m \u001b[32m━━━━━━━━━━━━━━━━━━━━\u001b[0m\u001b[37m\u001b[0m \u001b[1m5s\u001b[0m 14ms/step\n"
     ]
    },
    {
     "name": "stderr",
     "output_type": "stream",
     "text": [
      "[I 2024-07-11 22:15:09,003] Trial 32 finished with value: 0.8196980775034515 and parameters: {'filters': 39, 'kernel_size': 2, 'pool_size': 3, 'filters2': 40, 'kernel_size2': 4, 'pool_size2': 2, 'units': 200, 'dropout_rate': 0.3306570129192841, 'optimizer': 'rmsprop', 'epochs': 32, 'batch_size': 201}. Best is trial 24 with value: 0.8579260664434103.\n"
     ]
    },
    {
     "name": "stdout",
     "output_type": "stream",
     "text": [
      "Epoch 20: early stopping\n",
      "Restoring model weights from the end of the best epoch: 10.\n",
      "\u001b[1m266/266\u001b[0m \u001b[32m━━━━━━━━━━━━━━━━━━━━\u001b[0m\u001b[37m\u001b[0m \u001b[1m4s\u001b[0m 13ms/step\n",
      "Epoch 22: early stopping\n",
      "Restoring model weights from the end of the best epoch: 12.\n",
      "\u001b[1m266/266\u001b[0m \u001b[32m━━━━━━━━━━━━━━━━━━━━\u001b[0m\u001b[37m\u001b[0m \u001b[1m4s\u001b[0m 14ms/step\n"
     ]
    },
    {
     "name": "stderr",
     "output_type": "stream",
     "text": [
      "[I 2024-07-11 22:16:07,190] Trial 33 finished with value: 0.8294599204067069 and parameters: {'filters': 38, 'kernel_size': 4, 'pool_size': 3, 'filters2': 38, 'kernel_size2': 4, 'pool_size2': 2, 'units': 193, 'dropout_rate': 0.3449305689016199, 'optimizer': 'adam', 'epochs': 23, 'batch_size': 204}. Best is trial 24 with value: 0.8579260664434103.\n"
     ]
    },
    {
     "name": "stdout",
     "output_type": "stream",
     "text": [
      "Epoch 21: early stopping\n",
      "Restoring model weights from the end of the best epoch: 11.\n",
      "\u001b[1m266/266\u001b[0m \u001b[32m━━━━━━━━━━━━━━━━━━━━\u001b[0m\u001b[37m\u001b[0m \u001b[1m3s\u001b[0m 11ms/step\n"
     ]
    },
    {
     "name": "stderr",
     "output_type": "stream",
     "text": [
      "[I 2024-07-11 22:16:25,126] Trial 35 finished with value: 0.8225635002253678 and parameters: {'filters': 17, 'kernel_size': 4, 'pool_size': 3, 'filters2': 34, 'kernel_size2': 4, 'pool_size2': 2, 'units': 256, 'dropout_rate': 0.38174449951495015, 'optimizer': 'adam', 'epochs': 22, 'batch_size': 205}. Best is trial 24 with value: 0.8579260664434103.\n"
     ]
    },
    {
     "name": "stdout",
     "output_type": "stream",
     "text": [
      "Epoch 21: early stopping\n",
      "Restoring model weights from the end of the best epoch: 11.\n",
      "\u001b[1m266/266\u001b[0m \u001b[32m━━━━━━━━━━━━━━━━━━━━\u001b[0m\u001b[37m\u001b[0m \u001b[1m4s\u001b[0m 13ms/step\n"
     ]
    },
    {
     "name": "stderr",
     "output_type": "stream",
     "text": [
      "[I 2024-07-11 22:16:33,061] Trial 34 finished with value: 0.8124921044680011 and parameters: {'filters': 44, 'kernel_size': 4, 'pool_size': 3, 'filters2': 33, 'kernel_size2': 4, 'pool_size2': 2, 'units': 193, 'dropout_rate': 0.3949705583983794, 'optimizer': 'adam', 'epochs': 23, 'batch_size': 198}. Best is trial 24 with value: 0.8579260664434103.\n"
     ]
    },
    {
     "name": "stdout",
     "output_type": "stream",
     "text": [
      "Restoring model weights from the end of the best epoch: 19.\n",
      "\u001b[1m266/266\u001b[0m \u001b[32m━━━━━━━━━━━━━━━━━━━━\u001b[0m\u001b[37m\u001b[0m \u001b[1m5s\u001b[0m 15ms/step\n",
      "Epoch 19: early stopping\n",
      "Restoring model weights from the end of the best epoch: 9.\n",
      "\u001b[1m266/266\u001b[0m \u001b[32m━━━━━━━━━━━━━━━━━━━━\u001b[0m\u001b[37m\u001b[0m \u001b[1m4s\u001b[0m 14ms/step\n",
      "Epoch 18: early stopping\n",
      "Restoring model weights from the end of the best epoch: 8.\n",
      "\u001b[1m266/266\u001b[0m \u001b[32m━━━━━━━━━━━━━━━━━━━━\u001b[0m\u001b[37m\u001b[0m \u001b[1m5s\u001b[0m 18ms/step\n",
      "Restoring model weights from the end of the best epoch: 8.\n",
      "\u001b[1m266/266\u001b[0m \u001b[32m━━━━━━━━━━━━━━━━━━━━\u001b[0m\u001b[37m\u001b[0m \u001b[1m5s\u001b[0m 17ms/step\n",
      "Epoch 21: early stopping\n",
      "Restoring model weights from the end of the best epoch: 11.\n",
      "\u001b[1m266/266\u001b[0m \u001b[32m━━━━━━━━━━━━━━━━━━━━\u001b[0m\u001b[37m\u001b[0m \u001b[1m3s\u001b[0m 11ms/step\n"
     ]
    },
    {
     "name": "stderr",
     "output_type": "stream",
     "text": [
      "[I 2024-07-11 22:19:57,069] Trial 36 finished with value: 0.8467825963119641 and parameters: {'filters': 44, 'kernel_size': 4, 'pool_size': 2, 'filters2': 63, 'kernel_size2': 4, 'pool_size2': 2, 'units': 188, 'dropout_rate': 0.38471677789679976, 'optimizer': 'adam', 'epochs': 23, 'batch_size': 202}. Best is trial 24 with value: 0.8579260664434103.\n"
     ]
    },
    {
     "name": "stdout",
     "output_type": "stream",
     "text": [
      "Restoring model weights from the end of the best epoch: 7.\n",
      "\u001b[1m266/266\u001b[0m \u001b[32m━━━━━━━━━━━━━━━━━━━━\u001b[0m\u001b[37m\u001b[0m \u001b[1m4s\u001b[0m 13ms/step\n",
      "Epoch 21: early stopping\n",
      "Restoring model weights from the end of the best epoch: 11.\n",
      "\u001b[1m266/266\u001b[0m \u001b[32m━━━━━━━━━━━━━━━━━━━━\u001b[0m\u001b[37m\u001b[0m \u001b[1m4s\u001b[0m 14ms/step\n",
      "Epoch 22: early stopping\n",
      "Restoring model weights from the end of the best epoch: 12.\n",
      "\u001b[1m266/266\u001b[0m \u001b[32m━━━━━━━━━━━━━━━━━━━━\u001b[0m\u001b[37m\u001b[0m \u001b[1m4s\u001b[0m 13ms/step\n",
      "Restoring model weights from the end of the best epoch: 13.\n",
      "\u001b[1m266/266\u001b[0m \u001b[32m━━━━━━━━━━━━━━━━━━━━\u001b[0m\u001b[37m\u001b[0m \u001b[1m5s\u001b[0m 15ms/step\n",
      "Restoring model weights from the end of the best epoch: 10.\n",
      "Epoch 22: early stopping\n",
      "Restoring model weights from the end of the best epoch: 12.\n",
      "\u001b[1m266/266\u001b[0m \u001b[32m━━━━━━━━━━━━━━━━━━━━\u001b[0m\u001b[37m\u001b[0m \u001b[1m5s\u001b[0m 16ms/step\n",
      "\u001b[1m266/266\u001b[0m \u001b[32m━━━━━━━━━━━━━━━━━━━━\u001b[0m\u001b[37m\u001b[0m \u001b[1m5s\u001b[0m 17ms/step\n",
      "Restoring model weights from the end of the best epoch: 8.\n",
      "\u001b[1m266/266\u001b[0m \u001b[32m━━━━━━━━━━━━━━━━━━━━\u001b[0m\u001b[37m\u001b[0m \u001b[1m3s\u001b[0m 10ms/step\n",
      "Epoch 22: early stopping\n",
      "Restoring model weights from the end of the best epoch: 12.\n",
      "\u001b[1m266/266\u001b[0m \u001b[32m━━━━━━━━━━━━━━━━━━━━\u001b[0m\u001b[37m\u001b[0m \u001b[1m4s\u001b[0m 13ms/step\n",
      "Restoring model weights from the end of the best epoch: 8.\n",
      "\u001b[1m266/266\u001b[0m \u001b[32m━━━━━━━━━━━━━━━━━━━━\u001b[0m\u001b[37m\u001b[0m \u001b[1m5s\u001b[0m 16ms/step\n"
     ]
    },
    {
     "name": "stderr",
     "output_type": "stream",
     "text": [
      "[I 2024-07-11 22:25:03,460] Trial 40 finished with value: 0.845771617760425 and parameters: {'filters': 48, 'kernel_size': 5, 'pool_size': 2, 'filters2': 63, 'kernel_size2': 4, 'pool_size2': 2, 'units': 212, 'dropout_rate': 0.4092596224789147, 'optimizer': 'adam', 'epochs': 16, 'batch_size': 76}. Best is trial 24 with value: 0.8579260664434103.\n"
     ]
    },
    {
     "name": "stdout",
     "output_type": "stream",
     "text": [
      "Restoring model weights from the end of the best epoch: 17.\n",
      "\u001b[1m266/266\u001b[0m \u001b[32m━━━━━━━━━━━━━━━━━━━━\u001b[0m\u001b[37m\u001b[0m \u001b[1m6s\u001b[0m 18ms/step\n"
     ]
    },
    {
     "name": "stderr",
     "output_type": "stream",
     "text": [
      "[I 2024-07-11 22:26:08,736] Trial 37 finished with value: 0.853601940660431 and parameters: {'filters': 17, 'kernel_size': 4, 'pool_size': 2, 'filters2': 62, 'kernel_size2': 4, 'pool_size2': 2, 'units': 213, 'dropout_rate': 0.4057913037250389, 'optimizer': 'adam', 'epochs': 23, 'batch_size': 70}. Best is trial 24 with value: 0.8579260664434103.\n"
     ]
    },
    {
     "name": "stdout",
     "output_type": "stream",
     "text": [
      "Epoch 15: early stopping\n",
      "Restoring model weights from the end of the best epoch: 5.\n",
      "\u001b[1m266/266\u001b[0m \u001b[32m━━━━━━━━━━━━━━━━━━━━\u001b[0m\u001b[37m\u001b[0m \u001b[1m5s\u001b[0m 15ms/step\n"
     ]
    },
    {
     "name": "stderr",
     "output_type": "stream",
     "text": [
      "[I 2024-07-11 22:26:18,656] Trial 38 finished with value: 0.830372077642879 and parameters: {'filters': 49, 'kernel_size': 4, 'pool_size': 2, 'filters2': 64, 'kernel_size2': 4, 'pool_size2': 2, 'units': 252, 'dropout_rate': 0.3957143722362122, 'optimizer': 'adam', 'epochs': 23, 'batch_size': 69}. Best is trial 24 with value: 0.8579260664434103.\n"
     ]
    },
    {
     "name": "stdout",
     "output_type": "stream",
     "text": [
      "Restoring model weights from the end of the best epoch: 10.\n",
      "\u001b[1m266/266\u001b[0m \u001b[32m━━━━━━━━━━━━━━━━━━━━\u001b[0m\u001b[37m\u001b[0m \u001b[1m5s\u001b[0m 16ms/step\n",
      "Restoring model weights from the end of the best epoch: 15.\n",
      "\u001b[1m266/266\u001b[0m \u001b[32m━━━━━━━━━━━━━━━━━━━━\u001b[0m\u001b[37m\u001b[0m \u001b[1m5s\u001b[0m 19ms/step\n",
      "Restoring model weights from the end of the best epoch: 7.\n",
      "\u001b[1m266/266\u001b[0m \u001b[32m━━━━━━━━━━━━━━━━━━━━\u001b[0m\u001b[37m\u001b[0m \u001b[1m6s\u001b[0m 19ms/step\n"
     ]
    },
    {
     "name": "stderr",
     "output_type": "stream",
     "text": [
      "[I 2024-07-11 22:27:27,300] Trial 41 finished with value: 0.8453615119622745 and parameters: {'filters': 60, 'kernel_size': 5, 'pool_size': 2, 'filters2': 65, 'kernel_size2': 5, 'pool_size2': 2, 'units': 212, 'dropout_rate': 0.2268552869667742, 'optimizer': 'adam', 'epochs': 16, 'batch_size': 66}. Best is trial 24 with value: 0.8579260664434103.\n"
     ]
    },
    {
     "name": "stdout",
     "output_type": "stream",
     "text": [
      "Epoch 21: early stopping\n",
      "Restoring model weights from the end of the best epoch: 11.\n",
      "\u001b[1m105/266\u001b[0m \u001b[32m━━━━━━━\u001b[0m\u001b[37m━━━━━━━━━━━━━\u001b[0m \u001b[1m3s\u001b[0m 19ms/stepRestoring model weights from the end of the best epoch: 15.\n",
      "\u001b[1m266/266\u001b[0m \u001b[32m━━━━━━━━━━━━━━━━━━━━\u001b[0m\u001b[37m\u001b[0m \u001b[1m5s\u001b[0m 18ms/step\n",
      "\u001b[1m266/266\u001b[0m \u001b[32m━━━━━━━━━━━━━━━━━━━━\u001b[0m\u001b[37m\u001b[0m \u001b[1m4s\u001b[0m 13ms/step\n",
      "Restoring model weights from the end of the best epoch: 20.\n",
      "\u001b[1m 54/266\u001b[0m \u001b[32m━━━━\u001b[0m\u001b[37m━━━━━━━━━━━━━━━━\u001b[0m \u001b[1m3s\u001b[0m 19ms/stepRestoring model weights from the end of the best epoch: 16.\n",
      "\u001b[1m266/266\u001b[0m \u001b[32m━━━━━━━━━━━━━━━━━━━━\u001b[0m\u001b[37m\u001b[0m \u001b[1m5s\u001b[0m 19ms/step\n",
      "\u001b[1m266/266\u001b[0m \u001b[32m━━━━━━━━━━━━━━━━━━━━\u001b[0m\u001b[37m\u001b[0m \u001b[1m6s\u001b[0m 20ms/step\n",
      "Epoch 22: early stopping\n",
      "Restoring model weights from the end of the best epoch: 12.\n",
      "\u001b[1m266/266\u001b[0m \u001b[32m━━━━━━━━━━━━━━━━━━━━\u001b[0m\u001b[37m\u001b[0m \u001b[1m4s\u001b[0m 14ms/step\n"
     ]
    },
    {
     "name": "stderr",
     "output_type": "stream",
     "text": [
      "[I 2024-07-11 22:30:05,714] Trial 39 finished with value: 0.8589754274602033 and parameters: {'filters': 16, 'kernel_size': 4, 'pool_size': 2, 'filters2': 64, 'kernel_size2': 4, 'pool_size2': 2, 'units': 218, 'dropout_rate': 0.37795499819241474, 'optimizer': 'adam', 'epochs': 22, 'batch_size': 56}. Best is trial 39 with value: 0.8589754274602033.\n"
     ]
    },
    {
     "name": "stdout",
     "output_type": "stream",
     "text": [
      "Restoring model weights from the end of the best epoch: 13.\n",
      "\u001b[1m266/266\u001b[0m \u001b[32m━━━━━━━━━━━━━━━━━━━━\u001b[0m\u001b[37m\u001b[0m \u001b[1m6s\u001b[0m 20ms/step\n"
     ]
    },
    {
     "name": "stderr",
     "output_type": "stream",
     "text": [
      "[I 2024-07-11 22:30:12,576] Trial 43 finished with value: 0.8381589874587267 and parameters: {'filters': 32, 'kernel_size': 5, 'pool_size': 2, 'filters2': 63, 'kernel_size2': 5, 'pool_size2': 2, 'units': 222, 'dropout_rate': 0.43394048964764265, 'optimizer': 'adam', 'epochs': 16, 'batch_size': 219}. Best is trial 39 with value: 0.8589754274602033.\n"
     ]
    },
    {
     "name": "stdout",
     "output_type": "stream",
     "text": [
      "Restoring model weights from the end of the best epoch: 10.\n",
      "\u001b[1m266/266\u001b[0m \u001b[32m━━━━━━━━━━━━━━━━━━━━\u001b[0m\u001b[37m\u001b[0m \u001b[1m5s\u001b[0m 17ms/step\n"
     ]
    },
    {
     "name": "stderr",
     "output_type": "stream",
     "text": [
      "[I 2024-07-11 22:30:31,232] Trial 42 finished with value: 0.8547240873885245 and parameters: {'filters': 49, 'kernel_size': 5, 'pool_size': 2, 'filters2': 61, 'kernel_size2': 5, 'pool_size2': 2, 'units': 220, 'dropout_rate': 0.4193517878649493, 'optimizer': 'adam', 'epochs': 16, 'batch_size': 73}. Best is trial 39 with value: 0.8589754274602033.\n"
     ]
    },
    {
     "name": "stdout",
     "output_type": "stream",
     "text": [
      "Epoch 23: early stopping\n",
      "Restoring model weights from the end of the best epoch: 13.\n",
      "\u001b[1m195/266\u001b[0m \u001b[32m━━━━━━━━━━━━━━\u001b[0m\u001b[37m━━━━━━\u001b[0m \u001b[1m1s\u001b[0m 15ms/stepRestoring model weights from the end of the best epoch: 11.\n",
      "\u001b[1m266/266\u001b[0m \u001b[32m━━━━━━━━━━━━━━━━━━━━\u001b[0m\u001b[37m\u001b[0m \u001b[1m5s\u001b[0m 16ms/step\n",
      "\u001b[1m266/266\u001b[0m \u001b[32m━━━━━━━━━━━━━━━━━━━━\u001b[0m\u001b[37m\u001b[0m \u001b[1m7s\u001b[0m 23ms/step\n",
      "Restoring model weights from the end of the best epoch: 19.\n",
      "\u001b[1m266/266\u001b[0m \u001b[32m━━━━━━━━━━━━━━━━━━━━\u001b[0m\u001b[37m\u001b[0m \u001b[1m6s\u001b[0m 18ms/step\n",
      "Restoring model weights from the end of the best epoch: 17.\n",
      "\u001b[1m266/266\u001b[0m \u001b[32m━━━━━━━━━━━━━━━━━━━━\u001b[0m\u001b[37m\u001b[0m \u001b[1m5s\u001b[0m 18ms/step\n",
      "Restoring model weights from the end of the best epoch: 21.\n",
      "\u001b[1m 46/266\u001b[0m \u001b[32m━━━\u001b[0m\u001b[37m━━━━━━━━━━━━━━━━━\u001b[0m \u001b[1m3s\u001b[0m 14ms/stepRestoring model weights from the end of the best epoch: 15.\n",
      "\u001b[1m266/266\u001b[0m \u001b[32m━━━━━━━━━━━━━━━━━━━━\u001b[0m\u001b[37m\u001b[0m \u001b[1m4s\u001b[0m 14ms/step\n",
      "\u001b[1m256/266\u001b[0m \u001b[32m━━━━━━━━━━━━━━━━━━━\u001b[0m\u001b[37m━\u001b[0m \u001b[1m0s\u001b[0m 18ms/stepEpoch 19: early stopping\n",
      "\u001b[1m259/266\u001b[0m \u001b[32m━━━━━━━━━━━━━━━━━━━\u001b[0m\u001b[37m━\u001b[0m \u001b[1m0s\u001b[0m 18ms/stepRestoring model weights from the end of the best epoch: 9.\n",
      "\u001b[1m266/266\u001b[0m \u001b[32m━━━━━━━━━━━━━━━━━━━━\u001b[0m\u001b[37m\u001b[0m \u001b[1m6s\u001b[0m 20ms/step\n",
      "\u001b[1m 22/266\u001b[0m \u001b[32m━\u001b[0m\u001b[37m━━━━━━━━━━━━━━━━━━━\u001b[0m \u001b[1m4s\u001b[0m 20ms/step"
     ]
    },
    {
     "name": "stderr",
     "output_type": "stream",
     "text": [
      "[I 2024-07-11 22:33:14,289] Trial 46 finished with value: 0.8443432890084592 and parameters: {'filters': 32, 'kernel_size': 5, 'pool_size': 2, 'filters2': 59, 'kernel_size2': 5, 'pool_size2': 2, 'units': 228, 'dropout_rate': 0.35852918429401176, 'optimizer': 'adam', 'epochs': 16, 'batch_size': 218}. Best is trial 39 with value: 0.8589754274602033.\n"
     ]
    },
    {
     "name": "stdout",
     "output_type": "stream",
     "text": [
      "\u001b[1m266/266\u001b[0m \u001b[32m━━━━━━━━━━━━━━━━━━━━\u001b[0m\u001b[37m\u001b[0m \u001b[1m6s\u001b[0m 21ms/step\n"
     ]
    },
    {
     "name": "stderr",
     "output_type": "stream",
     "text": [
      "[I 2024-07-11 22:33:19,897] Trial 44 finished with value: 0.8388669557030647 and parameters: {'filters': 31, 'kernel_size': 5, 'pool_size': 2, 'filters2': 66, 'kernel_size2': 5, 'pool_size2': 2, 'units': 232, 'dropout_rate': 0.3639776368930799, 'optimizer': 'adam', 'epochs': 26, 'batch_size': 251}. Best is trial 39 with value: 0.8589754274602033.\n"
     ]
    },
    {
     "name": "stdout",
     "output_type": "stream",
     "text": [
      "Epoch 26: early stopping\n",
      "Restoring model weights from the end of the best epoch: 16.\n",
      "\u001b[1m151/266\u001b[0m \u001b[32m━━━━━━━━━━━\u001b[0m\u001b[37m━━━━━━━━━\u001b[0m \u001b[1m1s\u001b[0m 16ms/stepEpoch 26: early stopping\n",
      "Restoring model weights from the end of the best epoch: 16.\n",
      "\u001b[1m266/266\u001b[0m \u001b[32m━━━━━━━━━━━━━━━━━━━━\u001b[0m\u001b[37m\u001b[0m \u001b[1m5s\u001b[0m 16ms/step\n",
      "\u001b[1m121/266\u001b[0m \u001b[32m━━━━━━━━━\u001b[0m\u001b[37m━━━━━━━━━━━\u001b[0m \u001b[1m1s\u001b[0m 11ms/step"
     ]
    },
    {
     "name": "stderr",
     "output_type": "stream",
     "text": [
      "[I 2024-07-11 22:34:54,306] Trial 45 finished with value: 0.8543258667680728 and parameters: {'filters': 32, 'kernel_size': 5, 'pool_size': 2, 'filters2': 61, 'kernel_size2': 5, 'pool_size2': 2, 'units': 232, 'dropout_rate': 0.43489610875352686, 'optimizer': 'adam', 'epochs': 26, 'batch_size': 217}. Best is trial 39 with value: 0.8589754274602033.\n"
     ]
    },
    {
     "name": "stdout",
     "output_type": "stream",
     "text": [
      "\u001b[1m261/266\u001b[0m \u001b[32m━━━━━━━━━━━━━━━━━━━\u001b[0m\u001b[37m━\u001b[0m \u001b[1m0s\u001b[0m 13ms/stepEpoch 18: early stopping\n",
      "Restoring model weights from the end of the best epoch: 8.\n",
      "\u001b[1m266/266\u001b[0m \u001b[32m━━━━━━━━━━━━━━━━━━━━\u001b[0m\u001b[37m\u001b[0m \u001b[1m5s\u001b[0m 15ms/step\n",
      "\u001b[1m266/266\u001b[0m \u001b[32m━━━━━━━━━━━━━━━━━━━━\u001b[0m\u001b[37m\u001b[0m \u001b[1m8s\u001b[0m 21ms/step\n",
      "Restoring model weights from the end of the best epoch: 19.\n",
      "\u001b[1m266/266\u001b[0m \u001b[32m━━━━━━━━━━━━━━━━━━━━\u001b[0m\u001b[37m\u001b[0m \u001b[1m5s\u001b[0m 17ms/step\n",
      "Restoring model weights from the end of the best epoch: 18.\n",
      "\u001b[1m266/266\u001b[0m \u001b[32m━━━━━━━━━━━━━━━━━━━━\u001b[0m\u001b[37m\u001b[0m \u001b[1m4s\u001b[0m 14ms/step\n"
     ]
    },
    {
     "name": "stderr",
     "output_type": "stream",
     "text": [
      "[I 2024-07-11 22:37:10,108] Trial 48 finished with value: 0.850853811602951 and parameters: {'filters': 17, 'kernel_size': 4, 'pool_size': 2, 'filters2': 58, 'kernel_size2': 5, 'pool_size2': 2, 'units': 235, 'dropout_rate': 0.37315556405436, 'optimizer': 'adam', 'epochs': 26, 'batch_size': 254}. Best is trial 39 with value: 0.8589754274602033.\n"
     ]
    },
    {
     "name": "stdout",
     "output_type": "stream",
     "text": [
      "Epoch 19: early stopping\n",
      "Restoring model weights from the end of the best epoch: 9.\n",
      "\u001b[1m266/266\u001b[0m \u001b[32m━━━━━━━━━━━━━━━━━━━━\u001b[0m\u001b[37m\u001b[0m \u001b[1m4s\u001b[0m 13ms/step\n"
     ]
    },
    {
     "name": "stderr",
     "output_type": "stream",
     "text": [
      "[I 2024-07-11 22:37:25,745] Trial 47 finished with value: 0.8402571155850457 and parameters: {'filters': 30, 'kernel_size': 4, 'pool_size': 2, 'filters2': 59, 'kernel_size2': 5, 'pool_size2': 2, 'units': 231, 'dropout_rate': 0.41932847251247596, 'optimizer': 'adam', 'epochs': 27, 'batch_size': 256}. Best is trial 39 with value: 0.8589754274602033.\n"
     ]
    },
    {
     "name": "stdout",
     "output_type": "stream",
     "text": [
      "Epoch 17: early stopping\n",
      "Restoring model weights from the end of the best epoch: 7.\n",
      "\u001b[1m266/266\u001b[0m \u001b[32m━━━━━━━━━━━━━━━━━━━━\u001b[0m\u001b[37m\u001b[0m \u001b[1m3s\u001b[0m 10ms/step\n",
      "Epoch 21: early stopping\n",
      "Restoring model weights from the end of the best epoch: 11.\n",
      "\u001b[1m266/266\u001b[0m \u001b[32m━━━━━━━━━━━━━━━━━━━━\u001b[0m\u001b[37m\u001b[0m \u001b[1m4s\u001b[0m 12ms/step\n",
      "Epoch 21: early stopping\n",
      "Restoring model weights from the end of the best epoch: 11.\n",
      "\u001b[1m266/266\u001b[0m \u001b[32m━━━━━━━━━━━━━━━━━━━━\u001b[0m\u001b[37m\u001b[0m \u001b[1m4s\u001b[0m 11ms/step\n",
      "Epoch 23: early stopping\n",
      "Restoring model weights from the end of the best epoch: 13.\n",
      "\u001b[1m266/266\u001b[0m \u001b[32m━━━━━━━━━━━━━━━━━━━━\u001b[0m\u001b[37m\u001b[0m \u001b[1m5s\u001b[0m 17ms/step\n",
      "Epoch 18: early stopping\n",
      "Restoring model weights from the end of the best epoch: 8.\n",
      "\u001b[1m266/266\u001b[0m \u001b[32m━━━━━━━━━━━━━━━━━━━━\u001b[0m\u001b[37m\u001b[0m \u001b[1m5s\u001b[0m 14ms/step\n",
      "Epoch 27: early stopping\n",
      "Restoring model weights from the end of the best epoch: 17.\n",
      "\u001b[1m266/266\u001b[0m \u001b[32m━━━━━━━━━━━━━━━━━━━━\u001b[0m\u001b[37m\u001b[0m \u001b[1m4s\u001b[0m 12ms/step\n",
      "Epoch 25: early stopping\n",
      "Restoring model weights from the end of the best epoch: 15.\n",
      "\u001b[1m266/266\u001b[0m \u001b[32m━━━━━━━━━━━━━━━━━━━━\u001b[0m\u001b[37m\u001b[0m \u001b[1m4s\u001b[0m 13ms/step\n",
      "Epoch 22: early stopping\n",
      "Restoring model weights from the end of the best epoch: 12.\n",
      "\u001b[1m266/266\u001b[0m \u001b[32m━━━━━━━━━━━━━━━━━━━━\u001b[0m\u001b[37m\u001b[0m \u001b[1m5s\u001b[0m 14ms/step\n",
      "Epoch 22: early stopping\n",
      "Restoring model weights from the end of the best epoch: 12.\n",
      "\u001b[1m266/266\u001b[0m \u001b[32m━━━━━━━━━━━━━━━━━━━━\u001b[0m\u001b[37m\u001b[0m \u001b[1m4s\u001b[0m 13ms/step\n"
     ]
    },
    {
     "name": "stderr",
     "output_type": "stream",
     "text": [
      "[I 2024-07-11 22:42:53,723] Trial 49 finished with value: 0.8524799473312569 and parameters: {'filters': 16, 'kernel_size': 5, 'pool_size': 2, 'filters2': 57, 'kernel_size2': 5, 'pool_size2': 2, 'units': 235, 'dropout_rate': 0.3620803691401356, 'optimizer': 'adam', 'epochs': 26, 'batch_size': 53}. Best is trial 39 with value: 0.8589754274602033.\n"
     ]
    },
    {
     "name": "stdout",
     "output_type": "stream",
     "text": [
      "Epoch 26: early stopping\n",
      "Restoring model weights from the end of the best epoch: 16.\n",
      "\u001b[1m266/266\u001b[0m \u001b[32m━━━━━━━━━━━━━━━━━━━━\u001b[0m\u001b[37m\u001b[0m \u001b[1m3s\u001b[0m 10ms/step\n",
      "Epoch 19: early stopping\n",
      "Restoring model weights from the end of the best epoch: 9.\n",
      "\u001b[1m261/266\u001b[0m \u001b[32m━━━━━━━━━━━━━━━━━━━\u001b[0m\u001b[37m━\u001b[0m \u001b[1m0s\u001b[0m 11ms/stepEpoch 22: early stopping\n",
      "Restoring model weights from the end of the best epoch: 12.\n",
      "\u001b[1m266/266\u001b[0m \u001b[32m━━━━━━━━━━━━━━━━━━━━\u001b[0m\u001b[37m\u001b[0m \u001b[1m4s\u001b[0m 12ms/step\n",
      "\u001b[1m266/266\u001b[0m \u001b[32m━━━━━━━━━━━━━━━━━━━━\u001b[0m\u001b[37m\u001b[0m \u001b[1m5s\u001b[0m 16ms/step\n"
     ]
    },
    {
     "name": "stderr",
     "output_type": "stream",
     "text": [
      "[I 2024-07-11 22:44:10,454] Trial 51 finished with value: 0.8486014749831297 and parameters: {'filters': 19, 'kernel_size': 5, 'pool_size': 2, 'filters2': 69, 'kernel_size2': 5, 'pool_size2': 2, 'units': 180, 'dropout_rate': 0.4188878536741566, 'optimizer': 'adam', 'epochs': 26, 'batch_size': 56}. Best is trial 39 with value: 0.8589754274602033.\n"
     ]
    },
    {
     "name": "stdout",
     "output_type": "stream",
     "text": [
      "Epoch 19: early stopping\n",
      "Restoring model weights from the end of the best epoch: 9.\n",
      "\u001b[1m266/266\u001b[0m \u001b[32m━━━━━━━━━━━━━━━━━━━━\u001b[0m\u001b[37m\u001b[0m \u001b[1m4s\u001b[0m 14ms/step\n",
      "Epoch 17: early stopping\n",
      "Restoring model weights from the end of the best epoch: 7.\n",
      "\u001b[1m266/266\u001b[0m \u001b[32m━━━━━━━━━━━━━━━━━━━━\u001b[0m\u001b[37m\u001b[0m \u001b[1m3s\u001b[0m 11ms/step\n"
     ]
    },
    {
     "name": "stderr",
     "output_type": "stream",
     "text": [
      "[I 2024-07-11 22:45:22,030] Trial 50 finished with value: 0.8493596802254507 and parameters: {'filters': 17, 'kernel_size': 5, 'pool_size': 2, 'filters2': 70, 'kernel_size2': 5, 'pool_size2': 2, 'units': 237, 'dropout_rate': 0.4250088127344095, 'optimizer': 'adam', 'epochs': 26, 'batch_size': 52}. Best is trial 39 with value: 0.8589754274602033.\n"
     ]
    },
    {
     "name": "stdout",
     "output_type": "stream",
     "text": [
      "Epoch 18: early stopping\n",
      "Restoring model weights from the end of the best epoch: 8.\n",
      "\u001b[1m266/266\u001b[0m \u001b[32m━━━━━━━━━━━━━━━━━━━━\u001b[0m\u001b[37m\u001b[0m \u001b[1m4s\u001b[0m 11ms/step\n",
      "Epoch 16: early stopping\n",
      "Restoring model weights from the end of the best epoch: 6.\n",
      "\u001b[1m266/266\u001b[0m \u001b[32m━━━━━━━━━━━━━━━━━━━━\u001b[0m\u001b[37m\u001b[0m \u001b[1m3s\u001b[0m 9ms/step\n"
     ]
    },
    {
     "name": "stderr",
     "output_type": "stream",
     "text": [
      "[I 2024-07-11 22:46:28,605] Trial 52 finished with value: 0.8516346901616441 and parameters: {'filters': 17, 'kernel_size': 5, 'pool_size': 2, 'filters2': 69, 'kernel_size2': 5, 'pool_size2': 2, 'units': 237, 'dropout_rate': 0.4246083884955178, 'optimizer': 'adam', 'epochs': 29, 'batch_size': 55}. Best is trial 39 with value: 0.8589754274602033.\n"
     ]
    },
    {
     "name": "stdout",
     "output_type": "stream",
     "text": [
      "Epoch 19: early stopping\n",
      "Restoring model weights from the end of the best epoch: 9.\n",
      "\u001b[1m266/266\u001b[0m \u001b[32m━━━━━━━━━━━━━━━━━━━━\u001b[0m\u001b[37m\u001b[0m \u001b[1m3s\u001b[0m 9ms/step\n",
      "Epoch 18: early stopping\n",
      "Restoring model weights from the end of the best epoch: 8.\n",
      "\u001b[1m266/266\u001b[0m \u001b[32m━━━━━━━━━━━━━━━━━━━━\u001b[0m\u001b[37m\u001b[0m \u001b[1m3s\u001b[0m 8ms/step\n",
      "Epoch 24: early stopping\n",
      "Restoring model weights from the end of the best epoch: 14.\n",
      "\u001b[1m266/266\u001b[0m \u001b[32m━━━━━━━━━━━━━━━━━━━━\u001b[0m\u001b[37m\u001b[0m \u001b[1m4s\u001b[0m 14ms/step\n"
     ]
    },
    {
     "name": "stderr",
     "output_type": "stream",
     "text": [
      "[I 2024-07-11 22:47:26,816] Trial 53 finished with value: 0.8336917294552656 and parameters: {'filters': 21, 'kernel_size': 5, 'pool_size': 2, 'filters2': 69, 'kernel_size2': 5, 'pool_size2': 2, 'units': 34, 'dropout_rate': 0.4257725445404047, 'optimizer': 'adam', 'epochs': 29, 'batch_size': 54}. Best is trial 39 with value: 0.8589754274602033.\n"
     ]
    },
    {
     "name": "stdout",
     "output_type": "stream",
     "text": [
      "Epoch 22: early stopping\n",
      "Restoring model weights from the end of the best epoch: 12.\n",
      "\u001b[1m263/266\u001b[0m \u001b[32m━━━━━━━━━━━━━━━━━━━\u001b[0m\u001b[37m━\u001b[0m \u001b[1m0s\u001b[0m 9ms/stepEpoch 20: early stopping\n",
      "Restoring model weights from the end of the best epoch: 10.\n",
      "\u001b[1m266/266\u001b[0m \u001b[32m━━━━━━━━━━━━━━━━━━━━\u001b[0m\u001b[37m\u001b[0m \u001b[1m4s\u001b[0m 11ms/step\n"
     ]
    },
    {
     "name": "stderr",
     "output_type": "stream",
     "text": [
      "[I 2024-07-11 22:48:28,954] Trial 54 finished with value: 0.8550330911475044 and parameters: {'filters': 22, 'kernel_size': 5, 'pool_size': 2, 'filters2': 45, 'kernel_size2': 5, 'pool_size2': 2, 'units': 244, 'dropout_rate': 0.43802679058353516, 'optimizer': 'adam', 'epochs': 29, 'batch_size': 49}. Best is trial 39 with value: 0.8589754274602033.\n"
     ]
    },
    {
     "name": "stdout",
     "output_type": "stream",
     "text": [
      "\u001b[1m266/266\u001b[0m \u001b[32m━━━━━━━━━━━━━━━━━━━━\u001b[0m\u001b[37m\u001b[0m \u001b[1m5s\u001b[0m 16ms/step\n",
      "Epoch 26: early stopping\n",
      "Restoring model weights from the end of the best epoch: 16.\n",
      "\u001b[1m266/266\u001b[0m \u001b[32m━━━━━━━━━━━━━━━━━━━━\u001b[0m\u001b[37m\u001b[0m \u001b[1m3s\u001b[0m 10ms/step\n",
      "Epoch 17: early stopping\n",
      "Restoring model weights from the end of the best epoch: 7.\n",
      "\u001b[1m266/266\u001b[0m \u001b[32m━━━━━━━━━━━━━━━━━━━━\u001b[0m\u001b[37m\u001b[0m \u001b[1m5s\u001b[0m 18ms/step\n",
      "Epoch 18: early stopping\n",
      "Restoring model weights from the end of the best epoch: 8.\n",
      "\u001b[1m266/266\u001b[0m \u001b[32m━━━━━━━━━━━━━━━━━━━━\u001b[0m\u001b[37m\u001b[0m \u001b[1m3s\u001b[0m 11ms/step\n",
      "Epoch 18: early stopping\n",
      "Restoring model weights from the end of the best epoch: 8.\n",
      "\u001b[1m 43/266\u001b[0m \u001b[32m━━━\u001b[0m\u001b[37m━━━━━━━━━━━━━━━━━\u001b[0m \u001b[1m1s\u001b[0m 8ms/stepEpoch 21: early stopping\n",
      "Restoring model weights from the end of the best epoch: 11.\n",
      "\u001b[1m266/266\u001b[0m \u001b[32m━━━━━━━━━━━━━━━━━━━━\u001b[0m\u001b[37m\u001b[0m \u001b[1m3s\u001b[0m 10ms/step\n",
      "\u001b[1m266/266\u001b[0m \u001b[32m━━━━━━━━━━━━━━━━━━━━\u001b[0m\u001b[37m\u001b[0m \u001b[1m4s\u001b[0m 12ms/step\n",
      "Epoch 17: early stopping\n",
      "Restoring model weights from the end of the best epoch: 7.\n",
      "\u001b[1m236/266\u001b[0m \u001b[32m━━━━━━━━━━━━━━━━━\u001b[0m\u001b[37m━━━\u001b[0m \u001b[1m0s\u001b[0m 9ms/step Epoch 18: early stopping\n",
      "Restoring model weights from the end of the best epoch: 8.\n",
      "\u001b[1m266/266\u001b[0m \u001b[32m━━━━━━━━━━━━━━━━━━━━\u001b[0m\u001b[37m\u001b[0m \u001b[1m3s\u001b[0m 11ms/step\n",
      "\u001b[1m266/266\u001b[0m \u001b[32m━━━━━━━━━━━━━━━━━━━━\u001b[0m\u001b[37m\u001b[0m \u001b[1m5s\u001b[0m 15ms/step\n"
     ]
    },
    {
     "name": "stderr",
     "output_type": "stream",
     "text": [
      "[I 2024-07-11 22:51:32,788] Trial 57 finished with value: 0.8299855451276613 and parameters: {'filters': 23, 'kernel_size': 5, 'pool_size': 2, 'filters2': 45, 'kernel_size2': 5, 'pool_size2': 2, 'units': 219, 'dropout_rate': 0.4456061237155816, 'optimizer': 'adam', 'epochs': 21, 'batch_size': 88}. Best is trial 39 with value: 0.8589754274602033.\n"
     ]
    },
    {
     "name": "stdout",
     "output_type": "stream",
     "text": [
      "Epoch 21: early stopping\n",
      "Restoring model weights from the end of the best epoch: 11.\n",
      "\u001b[1m 74/266\u001b[0m \u001b[32m━━━━━\u001b[0m\u001b[37m━━━━━━━━━━━━━━━\u001b[0m \u001b[1m3s\u001b[0m 17ms/stepEpoch 22: early stopping\n",
      "Restoring model weights from the end of the best epoch: 12.\n",
      "\u001b[1m266/266\u001b[0m \u001b[32m━━━━━━━━━━━━━━━━━━━━\u001b[0m\u001b[37m\u001b[0m \u001b[1m3s\u001b[0m 12ms/step\n",
      "\u001b[1m154/266\u001b[0m \u001b[32m━━━━━━━━━━━\u001b[0m\u001b[37m━━━━━━━━━\u001b[0m \u001b[1m0s\u001b[0m 8ms/step"
     ]
    },
    {
     "name": "stderr",
     "output_type": "stream",
     "text": [
      "[I 2024-07-11 22:51:39,686] Trial 55 finished with value: 0.8361926072785707 and parameters: {'filters': 23, 'kernel_size': 5, 'pool_size': 3, 'filters2': 45, 'kernel_size2': 5, 'pool_size2': 2, 'units': 216, 'dropout_rate': 0.4369946710285692, 'optimizer': 'adam', 'epochs': 30, 'batch_size': 54}. Best is trial 39 with value: 0.8589754274602033.\n"
     ]
    },
    {
     "name": "stdout",
     "output_type": "stream",
     "text": [
      "\u001b[1m266/266\u001b[0m \u001b[32m━━━━━━━━━━━━━━━━━━━━\u001b[0m\u001b[37m\u001b[0m \u001b[1m4s\u001b[0m 12ms/step\n",
      "Epoch 28: early stopping\n",
      "Restoring model weights from the end of the best epoch: 18.\n",
      "\u001b[1m266/266\u001b[0m \u001b[32m━━━━━━━━━━━━━━━━━━━━\u001b[0m\u001b[37m\u001b[0m \u001b[1m3s\u001b[0m 11ms/step\n",
      "Epoch 26: early stopping\n",
      "Restoring model weights from the end of the best epoch: 16.\n",
      "\u001b[1m266/266\u001b[0m \u001b[32m━━━━━━━━━━━━━━━━━━━━\u001b[0m\u001b[37m\u001b[0m \u001b[1m5s\u001b[0m 14ms/step\n",
      "Epoch 21: early stopping\n",
      "Restoring model weights from the end of the best epoch: 11.\n",
      "\u001b[1m266/266\u001b[0m \u001b[32m━━━━━━━━━━━━━━━━━━━━\u001b[0m\u001b[37m\u001b[0m \u001b[1m4s\u001b[0m 13ms/step\n"
     ]
    },
    {
     "name": "stderr",
     "output_type": "stream",
     "text": [
      "[I 2024-07-11 22:53:56,379] Trial 59 finished with value: 0.8445650494672506 and parameters: {'filters': 22, 'kernel_size': 5, 'pool_size': 2, 'filters2': 44, 'kernel_size2': 2, 'pool_size2': 2, 'units': 217, 'dropout_rate': 0.44350506055813166, 'optimizer': 'adam', 'epochs': 21, 'batch_size': 89}. Best is trial 39 with value: 0.8589754274602033.\n"
     ]
    },
    {
     "name": "stdout",
     "output_type": "stream",
     "text": [
      "Epoch 24: early stopping\n",
      "Restoring model weights from the end of the best epoch: 14.\n",
      "\u001b[1m 68/266\u001b[0m \u001b[32m━━━━━\u001b[0m\u001b[37m━━━━━━━━━━━━━━━\u001b[0m \u001b[1m2s\u001b[0m 14ms/stepEpoch 22: early stopping\n",
      "Restoring model weights from the end of the best epoch: 12.\n",
      "\u001b[1m266/266\u001b[0m \u001b[32m━━━━━━━━━━━━━━━━━━━━\u001b[0m\u001b[37m\u001b[0m \u001b[1m5s\u001b[0m 13ms/step\n",
      "\u001b[1m266/266\u001b[0m \u001b[32m━━━━━━━━━━━━━━━━━━━━\u001b[0m\u001b[37m\u001b[0m \u001b[1m5s\u001b[0m 14ms/step\n"
     ]
    },
    {
     "name": "stderr",
     "output_type": "stream",
     "text": [
      "[I 2024-07-11 22:54:16,372] Trial 58 finished with value: 0.8500001171561574 and parameters: {'filters': 23, 'kernel_size': 5, 'pool_size': 2, 'filters2': 45, 'kernel_size2': 5, 'pool_size2': 2, 'units': 208, 'dropout_rate': 0.4430929092744146, 'optimizer': 'adam', 'epochs': 29, 'batch_size': 84}. Best is trial 39 with value: 0.8589754274602033.\n"
     ]
    },
    {
     "name": "stdout",
     "output_type": "stream",
     "text": [
      "Epoch 29: early stopping\n",
      "Restoring model weights from the end of the best epoch: 19.\n",
      "\u001b[1m266/266\u001b[0m \u001b[32m━━━━━━━━━━━━━━━━━━━━\u001b[0m\u001b[37m\u001b[0m \u001b[1m5s\u001b[0m 14ms/step\n"
     ]
    },
    {
     "name": "stderr",
     "output_type": "stream",
     "text": [
      "[I 2024-07-11 22:55:23,268] Trial 56 finished with value: 0.8532113497451724 and parameters: {'filters': 22, 'kernel_size': 5, 'pool_size': 2, 'filters2': 71, 'kernel_size2': 5, 'pool_size2': 2, 'units': 240, 'dropout_rate': 0.43854439839491977, 'optimizer': 'adam', 'epochs': 29, 'batch_size': 55}. Best is trial 39 with value: 0.8589754274602033.\n"
     ]
    },
    {
     "name": "stdout",
     "output_type": "stream",
     "text": [
      "Epoch 18: early stopping\n",
      "Restoring model weights from the end of the best epoch: 8.\n",
      "\u001b[1m266/266\u001b[0m \u001b[32m━━━━━━━━━━━━━━━━━━━━\u001b[0m\u001b[37m\u001b[0m \u001b[1m6s\u001b[0m 19ms/step\n",
      "Epoch 23: early stopping\n",
      "Restoring model weights from the end of the best epoch: 13.\n",
      "\u001b[1m102/266\u001b[0m \u001b[32m━━━━━━━\u001b[0m\u001b[37m━━━━━━━━━━━━━\u001b[0m \u001b[1m1s\u001b[0m 11ms/stepEpoch 20: early stopping\n",
      "Restoring model weights from the end of the best epoch: 10.\n",
      "\u001b[1m266/266\u001b[0m \u001b[32m━━━━━━━━━━━━━━━━━━━━\u001b[0m\u001b[37m\u001b[0m \u001b[1m4s\u001b[0m 12ms/step\n",
      "\u001b[1m150/266\u001b[0m \u001b[32m━━━━━━━━━━━\u001b[0m\u001b[37m━━━━━━━━━\u001b[0m \u001b[1m1s\u001b[0m 11ms/step"
     ]
    },
    {
     "name": "stderr",
     "output_type": "stream",
     "text": [
      "[I 2024-07-11 22:56:25,304] Trial 60 finished with value: 0.8505619478447267 and parameters: {'filters': 25, 'kernel_size': 5, 'pool_size': 2, 'filters2': 45, 'kernel_size2': 2, 'pool_size2': 2, 'units': 218, 'dropout_rate': 0.47522863809517313, 'optimizer': 'adam', 'epochs': 32, 'batch_size': 88}. Best is trial 39 with value: 0.8589754274602033.\n"
     ]
    },
    {
     "name": "stdout",
     "output_type": "stream",
     "text": [
      "\u001b[1m266/266\u001b[0m \u001b[32m━━━━━━━━━━━━━━━━━━━━\u001b[0m\u001b[37m\u001b[0m \u001b[1m5s\u001b[0m 16ms/step\n",
      "Epoch 24: early stopping\n",
      "Restoring model weights from the end of the best epoch: 14.\n",
      "\u001b[1m266/266\u001b[0m \u001b[32m━━━━━━━━━━━━━━━━━━━━\u001b[0m\u001b[37m\u001b[0m \u001b[1m4s\u001b[0m 12ms/step\n",
      "Epoch 24: early stopping\n",
      "Restoring model weights from the end of the best epoch: 14.\n",
      "\u001b[1m266/266\u001b[0m \u001b[32m━━━━━━━━━━━━━━━━━━━━\u001b[0m\u001b[37m\u001b[0m \u001b[1m5s\u001b[0m 15ms/step\n"
     ]
    },
    {
     "name": "stderr",
     "output_type": "stream",
     "text": [
      "[I 2024-07-11 22:57:42,150] Trial 62 finished with value: 0.8258782570166722 and parameters: {'filters': 26, 'kernel_size': 5, 'pool_size': 4, 'filters2': 46, 'kernel_size2': 2, 'pool_size2': 2, 'units': 246, 'dropout_rate': 0.4874698926986354, 'optimizer': 'adam', 'epochs': 32, 'batch_size': 129}. Best is trial 39 with value: 0.8589754274602033.\n"
     ]
    },
    {
     "name": "stdout",
     "output_type": "stream",
     "text": [
      "Epoch 21: early stopping\n",
      "Restoring model weights from the end of the best epoch: 11.\n",
      "\u001b[1m255/266\u001b[0m \u001b[32m━━━━━━━━━━━━━━━━━━━\u001b[0m\u001b[37m━\u001b[0m \u001b[1m0s\u001b[0m 16ms/stepEpoch 25: early stopping\n",
      "Restoring model weights from the end of the best epoch: 15.\n",
      "\u001b[1m266/266\u001b[0m \u001b[32m━━━━━━━━━━━━━━━━━━━━\u001b[0m\u001b[37m\u001b[0m \u001b[1m6s\u001b[0m 18ms/step\n",
      "\u001b[1m 91/266\u001b[0m \u001b[32m━━━━━━\u001b[0m\u001b[37m━━━━━━━━━━━━━━\u001b[0m \u001b[1m2s\u001b[0m 17ms/stepRestoring model weights from the end of the best epoch: 22.\n",
      "\u001b[1m266/266\u001b[0m \u001b[32m━━━━━━━━━━━━━━━━━━━━\u001b[0m\u001b[37m\u001b[0m \u001b[1m5s\u001b[0m 17ms/step\n",
      "\u001b[1m266/266\u001b[0m \u001b[32m━━━━━━━━━━━━━━━━━━━━\u001b[0m\u001b[37m\u001b[0m \u001b[1m5s\u001b[0m 15ms/step\n",
      "Epoch 19: early stopping\n",
      "Restoring model weights from the end of the best epoch: 9.\n",
      "\u001b[1m266/266\u001b[0m \u001b[32m━━━━━━━━━━━━━━━━━━━━\u001b[0m\u001b[37m\u001b[0m \u001b[1m5s\u001b[0m 16ms/step\n",
      "Epoch 23: early stopping\n",
      "Restoring model weights from the end of the best epoch: 13.\n",
      "\u001b[1m266/266\u001b[0m \u001b[32m━━━━━━━━━━━━━━━━━━━━\u001b[0m\u001b[37m\u001b[0m \u001b[1m5s\u001b[0m 17ms/step\n",
      "Epoch 20: early stopping\n",
      "Restoring model weights from the end of the best epoch: 10.\n",
      "\u001b[1m266/266\u001b[0m \u001b[32m━━━━━━━━━━━━━━━━━━━━\u001b[0m\u001b[37m\u001b[0m \u001b[1m5s\u001b[0m 17ms/step\n",
      "Epoch 22: early stopping\n",
      "Restoring model weights from the end of the best epoch: 12.\n",
      "\u001b[1m264/266\u001b[0m \u001b[32m━━━━━━━━━━━━━━━━━━━\u001b[0m\u001b[37m━\u001b[0m \u001b[1m0s\u001b[0m 18ms/stepEpoch 32: early stopping\n",
      "Restoring model weights from the end of the best epoch: 22.\n",
      "\u001b[1m266/266\u001b[0m \u001b[32m━━━━━━━━━━━━━━━━━━━━\u001b[0m\u001b[37m\u001b[0m \u001b[1m6s\u001b[0m 20ms/step\n",
      "\u001b[1m 18/266\u001b[0m \u001b[32m━\u001b[0m\u001b[37m━━━━━━━━━━━━━━━━━━━\u001b[0m \u001b[1m4s\u001b[0m 18ms/step"
     ]
    },
    {
     "name": "stderr",
     "output_type": "stream",
     "text": [
      "[I 2024-07-11 23:01:42,387] Trial 64 finished with value: 0.8047163410704231 and parameters: {'filters': 27, 'kernel_size': 3, 'pool_size': 4, 'filters2': 77, 'kernel_size2': 3, 'pool_size2': 2, 'units': 249, 'dropout_rate': 0.47177436888457663, 'optimizer': 'adam', 'epochs': 37, 'batch_size': 129}. Best is trial 39 with value: 0.8589754274602033.\n"
     ]
    },
    {
     "name": "stdout",
     "output_type": "stream",
     "text": [
      "\u001b[1m266/266\u001b[0m \u001b[32m━━━━━━━━━━━━━━━━━━━━\u001b[0m\u001b[37m\u001b[0m \u001b[1m6s\u001b[0m 20ms/step\n",
      "Epoch 26: early stopping\n",
      "Restoring model weights from the end of the best epoch: 16.\n",
      "\u001b[1m266/266\u001b[0m \u001b[32m━━━━━━━━━━━━━━━━━━━━\u001b[0m\u001b[37m\u001b[0m \u001b[1m5s\u001b[0m 17ms/step\n"
     ]
    },
    {
     "name": "stderr",
     "output_type": "stream",
     "text": [
      "[I 2024-07-11 23:02:42,290] Trial 61 finished with value: 0.8439400319792772 and parameters: {'filters': 25, 'kernel_size': 5, 'pool_size': 4, 'filters2': 80, 'kernel_size2': 2, 'pool_size2': 2, 'units': 243, 'dropout_rate': 0.4930110338193546, 'optimizer': 'adam', 'epochs': 31, 'batch_size': 87}. Best is trial 39 with value: 0.8589754274602033.\n"
     ]
    },
    {
     "name": "stdout",
     "output_type": "stream",
     "text": [
      "Epoch 22: early stopping\n",
      "Restoring model weights from the end of the best epoch: 12.\n",
      "\u001b[1m266/266\u001b[0m \u001b[32m━━━━━━━━━━━━━━━━━━━━\u001b[0m\u001b[37m\u001b[0m \u001b[1m5s\u001b[0m 17ms/step\n"
     ]
    },
    {
     "name": "stderr",
     "output_type": "stream",
     "text": [
      "[I 2024-07-11 23:03:21,011] Trial 63 finished with value: 0.8515632058981694 and parameters: {'filters': 28, 'kernel_size': 5, 'pool_size': 2, 'filters2': 80, 'kernel_size2': 5, 'pool_size2': 2, 'units': 246, 'dropout_rate': 0.4708407758398376, 'optimizer': 'adam', 'epochs': 38, 'batch_size': 125}. Best is trial 39 with value: 0.8589754274602033.\n"
     ]
    },
    {
     "name": "stdout",
     "output_type": "stream",
     "text": [
      "Epoch 19: early stopping\n",
      "Restoring model weights from the end of the best epoch: 9.\n",
      "\u001b[1m266/266\u001b[0m \u001b[32m━━━━━━━━━━━━━━━━━━━━\u001b[0m\u001b[37m\u001b[0m \u001b[1m7s\u001b[0m 24ms/step\n",
      "Epoch 24: early stopping\n",
      "Restoring model weights from the end of the best epoch: 14.\n",
      "\u001b[1m266/266\u001b[0m \u001b[32m━━━━━━━━━━━━━━━━━━━━\u001b[0m\u001b[37m\u001b[0m \u001b[1m6s\u001b[0m 19ms/step\n"
     ]
    },
    {
     "name": "stderr",
     "output_type": "stream",
     "text": [
      "[I 2024-07-11 23:04:37,422] Trial 66 finished with value: 0.8467543514433467 and parameters: {'filters': 28, 'kernel_size': 5, 'pool_size': 2, 'filters2': 80, 'kernel_size2': 5, 'pool_size2': 2, 'units': 247, 'dropout_rate': 0.46919570665017946, 'optimizer': 'adam', 'epochs': 38, 'batch_size': 240}. Best is trial 39 with value: 0.8589754274602033.\n"
     ]
    },
    {
     "name": "stdout",
     "output_type": "stream",
     "text": [
      "Epoch 28: early stopping\n",
      "Restoring model weights from the end of the best epoch: 18.\n",
      "\u001b[1m266/266\u001b[0m \u001b[32m━━━━━━━━━━━━━━━━━━━━\u001b[0m\u001b[37m\u001b[0m \u001b[1m6s\u001b[0m 20ms/step\n"
     ]
    },
    {
     "name": "stderr",
     "output_type": "stream",
     "text": [
      "[I 2024-07-11 23:05:37,069] Trial 65 finished with value: 0.8219091043006922 and parameters: {'filters': 27, 'kernel_size': 3, 'pool_size': 4, 'filters2': 81, 'kernel_size2': 3, 'pool_size2': 2, 'units': 208, 'dropout_rate': 0.4721123405141588, 'optimizer': 'adam', 'epochs': 37, 'batch_size': 107}. Best is trial 39 with value: 0.8589754274602033.\n"
     ]
    },
    {
     "name": "stdout",
     "output_type": "stream",
     "text": [
      "Epoch 23: early stopping\n",
      "Restoring model weights from the end of the best epoch: 13.\n",
      "\u001b[1m266/266\u001b[0m \u001b[32m━━━━━━━━━━━━━━━━━━━━\u001b[0m\u001b[37m\u001b[0m \u001b[1m5s\u001b[0m 17ms/step\n",
      "Epoch 24: early stopping\n",
      "Restoring model weights from the end of the best epoch: 14.\n",
      "\u001b[1m266/266\u001b[0m \u001b[32m━━━━━━━━━━━━━━━━━━━━\u001b[0m\u001b[37m\u001b[0m \u001b[1m7s\u001b[0m 23ms/step\n",
      "Restoring model weights from the end of the best epoch: 6.\n",
      "\u001b[1m266/266\u001b[0m \u001b[32m━━━━━━━━━━━━━━━━━━━━\u001b[0m\u001b[37m\u001b[0m \u001b[1m6s\u001b[0m 22ms/step\n",
      "Epoch 20: early stopping\n",
      "Restoring model weights from the end of the best epoch: 10.\n",
      "\u001b[1m266/266\u001b[0m \u001b[32m━━━━━━━━━━━━━━━━━━━━\u001b[0m\u001b[37m\u001b[0m \u001b[1m6s\u001b[0m 20ms/step\n",
      "Epoch 18: early stopping\n",
      "Restoring model weights from the end of the best epoch: 8.\n",
      "\u001b[1m266/266\u001b[0m \u001b[32m━━━━━━━━━━━━━━━━━━━━\u001b[0m\u001b[37m\u001b[0m \u001b[1m4s\u001b[0m 15ms/step\n",
      "Epoch 19: early stopping\n",
      "Restoring model weights from the end of the best epoch: 9.\n",
      "\u001b[1m266/266\u001b[0m \u001b[32m━━━━━━━━━━━━━━━━━━━━\u001b[0m\u001b[37m\u001b[0m \u001b[1m6s\u001b[0m 20ms/step\n",
      "Epoch 24: early stopping\n",
      "Restoring model weights from the end of the best epoch: 14.\n",
      "\u001b[1m 39/266\u001b[0m \u001b[32m━━\u001b[0m\u001b[37m━━━━━━━━━━━━━━━━━━\u001b[0m \u001b[1m4s\u001b[0m 18ms/stepEpoch 23: early stopping\n",
      "Restoring model weights from the end of the best epoch: 13.\n",
      "\u001b[1m266/266\u001b[0m \u001b[32m━━━━━━━━━━━━━━━━━━━━\u001b[0m\u001b[37m\u001b[0m \u001b[1m6s\u001b[0m 20ms/step\n",
      "\u001b[1m266/266\u001b[0m \u001b[32m━━━━━━━━━━━━━━━━━━━━\u001b[0m\u001b[37m\u001b[0m \u001b[1m6s\u001b[0m 19ms/step\n",
      "Epoch 23: early stopping\n",
      "Restoring model weights from the end of the best epoch: 13.\n",
      "\u001b[1m266/266\u001b[0m \u001b[32m━━━━━━━━━━━━━━━━━━━━\u001b[0m\u001b[37m\u001b[0m \u001b[1m6s\u001b[0m 19ms/step\n"
     ]
    },
    {
     "name": "stderr",
     "output_type": "stream",
     "text": [
      "[I 2024-07-11 23:16:00,016] Trial 69 finished with value: 0.8531249252583386 and parameters: {'filters': 72, 'kernel_size': 5, 'pool_size': 2, 'filters2': 53, 'kernel_size2': 5, 'pool_size2': 2, 'units': 207, 'dropout_rate': 0.41047569069012874, 'optimizer': 'adam', 'epochs': 24, 'batch_size': 107}. Best is trial 39 with value: 0.8589754274602033.\n"
     ]
    },
    {
     "name": "stdout",
     "output_type": "stream",
     "text": [
      "Restoring model weights from the end of the best epoch: 11.\n",
      "\u001b[1m266/266\u001b[0m \u001b[32m━━━━━━━━━━━━━━━━━━━━\u001b[0m\u001b[37m\u001b[0m \u001b[1m6s\u001b[0m 19ms/step\n",
      "Restoring model weights from the end of the best epoch: 21.\n",
      "\u001b[1m266/266\u001b[0m \u001b[32m━━━━━━━━━━━━━━━━━━━━\u001b[0m\u001b[37m\u001b[0m \u001b[1m6s\u001b[0m 21ms/step\n"
     ]
    },
    {
     "name": "stderr",
     "output_type": "stream",
     "text": [
      "[I 2024-07-11 23:17:34,357] Trial 70 finished with value: 0.8447847122919557 and parameters: {'filters': 98, 'kernel_size': 5, 'pool_size': 2, 'filters2': 99, 'kernel_size2': 5, 'pool_size2': 2, 'units': 203, 'dropout_rate': 0.4589188429214745, 'optimizer': 'adam', 'epochs': 24, 'batch_size': 240}. Best is trial 39 with value: 0.8589754274602033.\n"
     ]
    },
    {
     "name": "stdout",
     "output_type": "stream",
     "text": [
      "Epoch 17: early stopping\n",
      "Restoring model weights from the end of the best epoch: 7.\n",
      "\u001b[1m266/266\u001b[0m \u001b[32m━━━━━━━━━━━━━━━━━━━━\u001b[0m\u001b[37m\u001b[0m \u001b[1m5s\u001b[0m 16ms/step\n",
      "Epoch 20: early stopping\n",
      "Restoring model weights from the end of the best epoch: 10.\n",
      "\u001b[1m266/266\u001b[0m \u001b[32m━━━━━━━━━━━━━━━━━━━━\u001b[0m\u001b[37m\u001b[0m \u001b[1m5s\u001b[0m 18ms/step\n",
      "Epoch 23: early stopping\n",
      "Restoring model weights from the end of the best epoch: 13.\n",
      "\u001b[1m266/266\u001b[0m \u001b[32m━━━━━━━━━━━━━━━━━━━━\u001b[0m\u001b[37m\u001b[0m \u001b[1m6s\u001b[0m 18ms/step\n"
     ]
    },
    {
     "name": "stderr",
     "output_type": "stream",
     "text": [
      "[I 2024-07-11 23:19:47,048] Trial 67 finished with value: 0.8573747843148188 and parameters: {'filters': 74, 'kernel_size': 5, 'pool_size': 2, 'filters2': 80, 'kernel_size2': 5, 'pool_size2': 2, 'units': 246, 'dropout_rate': 0.4631684579622555, 'optimizer': 'adam', 'epochs': 24, 'batch_size': 44}. Best is trial 39 with value: 0.8589754274602033.\n"
     ]
    },
    {
     "name": "stdout",
     "output_type": "stream",
     "text": [
      "Restoring model weights from the end of the best epoch: 12.\n",
      "\u001b[1m266/266\u001b[0m \u001b[32m━━━━━━━━━━━━━━━━━━━━\u001b[0m\u001b[37m\u001b[0m \u001b[1m6s\u001b[0m 19ms/step\n",
      "Restoring model weights from the end of the best epoch: 13.\n",
      "\u001b[1m266/266\u001b[0m \u001b[32m━━━━━━━━━━━━━━━━━━━━\u001b[0m\u001b[37m\u001b[0m \u001b[1m5s\u001b[0m 16ms/step\n"
     ]
    },
    {
     "name": "stderr",
     "output_type": "stream",
     "text": [
      "[I 2024-07-11 23:21:07,612] Trial 71 finished with value: 0.8568918304230202 and parameters: {'filters': 37, 'kernel_size': 3, 'pool_size': 2, 'filters2': 95, 'kernel_size2': 5, 'pool_size2': 2, 'units': 204, 'dropout_rate': 0.4050880698753481, 'optimizer': 'adam', 'epochs': 13, 'batch_size': 33}. Best is trial 39 with value: 0.8589754274602033.\n"
     ]
    },
    {
     "name": "stdout",
     "output_type": "stream",
     "text": [
      "Restoring model weights from the end of the best epoch: 11.\n",
      "\u001b[1m266/266\u001b[0m \u001b[32m━━━━━━━━━━━━━━━━━━━━\u001b[0m\u001b[37m\u001b[0m \u001b[1m5s\u001b[0m 17ms/step\n",
      "Epoch 17: early stopping\n",
      "Restoring model weights from the end of the best epoch: 7.\n",
      "\u001b[1m266/266\u001b[0m \u001b[32m━━━━━━━━━━━━━━━━━━━━\u001b[0m\u001b[37m\u001b[0m \u001b[1m5s\u001b[0m 14ms/step\n"
     ]
    },
    {
     "name": "stderr",
     "output_type": "stream",
     "text": [
      "[I 2024-07-11 23:22:35,872] Trial 72 finished with value: 0.8513973734445465 and parameters: {'filters': 36, 'kernel_size': 5, 'pool_size': 2, 'filters2': 53, 'kernel_size2': 5, 'pool_size2': 2, 'units': 225, 'dropout_rate': 0.40732689037486175, 'optimizer': 'adam', 'epochs': 24, 'batch_size': 44}. Best is trial 39 with value: 0.8589754274602033.\n"
     ]
    },
    {
     "name": "stdout",
     "output_type": "stream",
     "text": [
      "Restoring model weights from the end of the best epoch: 9.\n",
      "\u001b[1m266/266\u001b[0m \u001b[32m━━━━━━━━━━━━━━━━━━━━\u001b[0m\u001b[37m\u001b[0m \u001b[1m5s\u001b[0m 16ms/step\n",
      "Restoring model weights from the end of the best epoch: 10.\n",
      "\u001b[1m266/266\u001b[0m \u001b[32m━━━━━━━━━━━━━━━━━━━━\u001b[0m\u001b[37m\u001b[0m \u001b[1m6s\u001b[0m 18ms/step\n",
      "Epoch 18: early stopping\n",
      "Restoring model weights from the end of the best epoch: 8.\n",
      "Restoring model weights from the end of the best epoch: 11.\n",
      "\u001b[1m266/266\u001b[0m \u001b[32m━━━━━━━━━━━━━━━━━━━━\u001b[0m\u001b[37m\u001b[0m \u001b[1m4s\u001b[0m 14ms/step\n",
      "\u001b[1m266/266\u001b[0m \u001b[32m━━━━━━━━━━━━━━━━━━━━\u001b[0m\u001b[37m\u001b[0m \u001b[1m4s\u001b[0m 14ms/step\n"
     ]
    },
    {
     "name": "stderr",
     "output_type": "stream",
     "text": [
      "[I 2024-07-11 23:25:22,249] Trial 68 finished with value: 0.8509478024574157 and parameters: {'filters': 36, 'kernel_size': 5, 'pool_size': 2, 'filters2': 83, 'kernel_size2': 5, 'pool_size2': 2, 'units': 203, 'dropout_rate': 0.4087212239522079, 'optimizer': 'adam', 'epochs': 24, 'batch_size': 32}. Best is trial 39 with value: 0.8589754274602033.\n"
     ]
    },
    {
     "name": "stdout",
     "output_type": "stream",
     "text": [
      "Restoring model weights from the end of the best epoch: 10.\n",
      "\u001b[1m266/266\u001b[0m \u001b[32m━━━━━━━━━━━━━━━━━━━━\u001b[0m\u001b[37m\u001b[0m \u001b[1m5s\u001b[0m 16ms/step\n",
      "Restoring model weights from the end of the best epoch: 11.\n",
      "\u001b[1m266/266\u001b[0m \u001b[32m━━━━━━━━━━━━━━━━━━━━\u001b[0m\u001b[37m\u001b[0m \u001b[1m5s\u001b[0m 18ms/step\n",
      "Restoring model weights from the end of the best epoch: 8.\n",
      "\u001b[1m266/266\u001b[0m \u001b[32m━━━━━━━━━━━━━━━━━━━━\u001b[0m\u001b[37m\u001b[0m \u001b[1m5s\u001b[0m 15ms/step\n",
      "Restoring model weights from the end of the best epoch: 9.\n",
      "\u001b[1m266/266\u001b[0m \u001b[32m━━━━━━━━━━━━━━━━━━━━\u001b[0m\u001b[37m\u001b[0m \u001b[1m6s\u001b[0m 19ms/step\n",
      "Restoring model weights from the end of the best epoch: 10.\n",
      "\u001b[1m266/266\u001b[0m \u001b[32m━━━━━━━━━━━━━━━━━━━━\u001b[0m\u001b[37m\u001b[0m \u001b[1m5s\u001b[0m 18ms/step\n"
     ]
    },
    {
     "name": "stderr",
     "output_type": "stream",
     "text": [
      "[I 2024-07-11 23:29:20,964] Trial 74 finished with value: 0.8508895389648844 and parameters: {'filters': 60, 'kernel_size': 4, 'pool_size': 2, 'filters2': 74, 'kernel_size2': 5, 'pool_size2': 2, 'units': 155, 'dropout_rate': 0.38359937529244503, 'optimizer': 'adam', 'epochs': 12, 'batch_size': 33}. Best is trial 39 with value: 0.8589754274602033.\n"
     ]
    },
    {
     "name": "stdout",
     "output_type": "stream",
     "text": [
      "Restoring model weights from the end of the best epoch: 9.\n",
      "\u001b[1m266/266\u001b[0m \u001b[32m━━━━━━━━━━━━━━━━━━━━\u001b[0m\u001b[37m\u001b[0m \u001b[1m5s\u001b[0m 17ms/step\n"
     ]
    },
    {
     "name": "stderr",
     "output_type": "stream",
     "text": [
      "[I 2024-07-11 23:29:47,365] Trial 73 finished with value: 0.8434852665026537 and parameters: {'filters': 101, 'kernel_size': 4, 'pool_size': 2, 'filters2': 55, 'kernel_size2': 5, 'pool_size2': 4, 'units': 225, 'dropout_rate': 0.4056285705514487, 'optimizer': 'adam', 'epochs': 13, 'batch_size': 33}. Best is trial 39 with value: 0.8589754274602033.\n"
     ]
    },
    {
     "name": "stdout",
     "output_type": "stream",
     "text": [
      "Restoring model weights from the end of the best epoch: 8.\n",
      "\u001b[1m266/266\u001b[0m \u001b[32m━━━━━━━━━━━━━━━━━━━━\u001b[0m\u001b[37m\u001b[0m \u001b[1m5s\u001b[0m 18ms/step\n",
      "Restoring model weights from the end of the best epoch: 8.\n",
      "Restoring model weights from the end of the best epoch: 11.\n",
      "\u001b[1m266/266\u001b[0m \u001b[32m━━━━━━━━━━━━━━━━━━━━\u001b[0m\u001b[37m\u001b[0m \u001b[1m6s\u001b[0m 22ms/step\n",
      "\u001b[1m266/266\u001b[0m \u001b[32m━━━━━━━━━━━━━━━━━━━━\u001b[0m\u001b[37m\u001b[0m \u001b[1m7s\u001b[0m 24ms/step\n",
      "Restoring model weights from the end of the best epoch: 8.\n",
      "\u001b[1m266/266\u001b[0m \u001b[32m━━━━━━━━━━━━━━━━━━━━\u001b[0m\u001b[37m\u001b[0m \u001b[1m7s\u001b[0m 22ms/step\n",
      "Restoring model weights from the end of the best epoch: 7.\n",
      "\u001b[1m266/266\u001b[0m \u001b[32m━━━━━━━━━━━━━━━━━━━━\u001b[0m\u001b[37m\u001b[0m \u001b[1m6s\u001b[0m 20ms/step\n",
      "Restoring model weights from the end of the best epoch: 6.\n",
      "\u001b[1m266/266\u001b[0m \u001b[32m━━━━━━━━━━━━━━━━━━━━\u001b[0m\u001b[37m\u001b[0m \u001b[1m6s\u001b[0m 19ms/step\n"
     ]
    },
    {
     "name": "stderr",
     "output_type": "stream",
     "text": [
      "[I 2024-07-11 23:34:20,141] Trial 75 finished with value: 0.8364961730355028 and parameters: {'filters': 74, 'kernel_size': 4, 'pool_size': 2, 'filters2': 92, 'kernel_size2': 4, 'pool_size2': 4, 'units': 224, 'dropout_rate': 0.45534741951686153, 'optimizer': 'adam', 'epochs': 14, 'batch_size': 35}. Best is trial 39 with value: 0.8589754274602033.\n"
     ]
    },
    {
     "name": "stdout",
     "output_type": "stream",
     "text": [
      "Restoring model weights from the end of the best epoch: 11.\n",
      "\u001b[1m266/266\u001b[0m \u001b[32m━━━━━━━━━━━━━━━━━━━━\u001b[0m\u001b[37m\u001b[0m \u001b[1m6s\u001b[0m 21ms/step\n",
      "Restoring model weights from the end of the best epoch: 6.\n",
      "\u001b[1m266/266\u001b[0m \u001b[32m━━━━━━━━━━━━━━━━━━━━\u001b[0m\u001b[37m\u001b[0m \u001b[1m5s\u001b[0m 16ms/step\n"
     ]
    },
    {
     "name": "stderr",
     "output_type": "stream",
     "text": [
      "[I 2024-07-11 23:35:07,698] Trial 78 finished with value: 0.8380850829192036 and parameters: {'filters': 58, 'kernel_size': 2, 'pool_size': 2, 'filters2': 96, 'kernel_size2': 5, 'pool_size2': 2, 'units': 180, 'dropout_rate': 0.38774951464759905, 'optimizer': 'adam', 'epochs': 12, 'batch_size': 63}. Best is trial 39 with value: 0.8589754274602033.\n"
     ]
    },
    {
     "name": "stdout",
     "output_type": "stream",
     "text": [
      "Restoring model weights from the end of the best epoch: 9.\n",
      "\u001b[1m266/266\u001b[0m \u001b[32m━━━━━━━━━━━━━━━━━━━━\u001b[0m\u001b[37m\u001b[0m \u001b[1m6s\u001b[0m 21ms/step\n"
     ]
    },
    {
     "name": "stderr",
     "output_type": "stream",
     "text": [
      "[I 2024-07-11 23:36:21,207] Trial 79 finished with value: 0.7808551573351753 and parameters: {'filters': 71, 'kernel_size': 2, 'pool_size': 2, 'filters2': 94, 'kernel_size2': 4, 'pool_size2': 4, 'units': 225, 'dropout_rate': 0.4595593821543354, 'optimizer': 'adam', 'epochs': 14, 'batch_size': 189}. Best is trial 39 with value: 0.8589754274602033.\n"
     ]
    },
    {
     "name": "stdout",
     "output_type": "stream",
     "text": [
      "Restoring model weights from the end of the best epoch: 10.\n",
      "\u001b[1m266/266\u001b[0m \u001b[32m━━━━━━━━━━━━━━━━━━━━\u001b[0m\u001b[37m\u001b[0m \u001b[1m6s\u001b[0m 20ms/step\n"
     ]
    },
    {
     "name": "stderr",
     "output_type": "stream",
     "text": [
      "[I 2024-07-11 23:37:08,407] Trial 77 finished with value: 0.8355447859927043 and parameters: {'filters': 89, 'kernel_size': 2, 'pool_size': 2, 'filters2': 90, 'kernel_size2': 5, 'pool_size2': 4, 'units': 177, 'dropout_rate': 0.38210011793322674, 'optimizer': 'adam', 'epochs': 12, 'batch_size': 33}. Best is trial 39 with value: 0.8589754274602033.\n"
     ]
    },
    {
     "name": "stdout",
     "output_type": "stream",
     "text": [
      "Restoring model weights from the end of the best epoch: 8.\n",
      "\u001b[1m266/266\u001b[0m \u001b[32m━━━━━━━━━━━━━━━━━━━━\u001b[0m\u001b[37m\u001b[0m \u001b[1m7s\u001b[0m 24ms/step\n"
     ]
    },
    {
     "name": "stderr",
     "output_type": "stream",
     "text": [
      "[I 2024-07-11 23:38:29,126] Trial 76 finished with value: 0.8506644904724093 and parameters: {'filters': 76, 'kernel_size': 3, 'pool_size': 2, 'filters2': 94, 'kernel_size2': 5, 'pool_size2': 2, 'units': 185, 'dropout_rate': 0.40913003148906457, 'optimizer': 'adam', 'epochs': 13, 'batch_size': 32}. Best is trial 39 with value: 0.8589754274602033.\n"
     ]
    },
    {
     "name": "stdout",
     "output_type": "stream",
     "text": [
      "Restoring model weights from the end of the best epoch: 9.\n",
      "\u001b[1m266/266\u001b[0m \u001b[32m━━━━━━━━━━━━━━━━━━━━\u001b[0m\u001b[37m\u001b[0m \u001b[1m7s\u001b[0m 23ms/step\n",
      "Restoring model weights from the end of the best epoch: 11.\n",
      "\u001b[1m266/266\u001b[0m \u001b[32m━━━━━━━━━━━━━━━━━━━━\u001b[0m\u001b[37m\u001b[0m \u001b[1m6s\u001b[0m 20ms/step\n",
      "Epoch 16: early stopping\n",
      "Restoring model weights from the end of the best epoch: 6.\n",
      "\u001b[1m266/266\u001b[0m \u001b[32m━━━━━━━━━━━━━━━━━━━━\u001b[0m\u001b[37m\u001b[0m \u001b[1m7s\u001b[0m 25ms/step\n",
      "Epoch 18: early stopping\n",
      "Restoring model weights from the end of the best epoch: 8.\n",
      "\u001b[1m266/266\u001b[0m \u001b[32m━━━━━━━━━━━━━━━━━━━━\u001b[0m\u001b[37m\u001b[0m \u001b[1m6s\u001b[0m 21ms/step\n",
      "Restoring model weights from the end of the best epoch: 9.\n",
      "\u001b[1m266/266\u001b[0m \u001b[32m━━━━━━━━━━━━━━━━━━━━\u001b[0m\u001b[37m\u001b[0m \u001b[1m6s\u001b[0m 19ms/step\n",
      "Restoring model weights from the end of the best epoch: 9.\n",
      "\u001b[1m266/266\u001b[0m \u001b[32m━━━━━━━━━━━━━━━━━━━━\u001b[0m\u001b[37m\u001b[0m \u001b[1m6s\u001b[0m 19ms/step\n",
      "Restoring model weights from the end of the best epoch: 15.\n",
      "\u001b[1m266/266\u001b[0m \u001b[32m━━━━━━━━━━━━━━━━━━━━\u001b[0m\u001b[37m\u001b[0m \u001b[1m7s\u001b[0m 23ms/step\n",
      "Restoring model weights from the end of the best epoch: 9.\n",
      "\u001b[1m266/266\u001b[0m \u001b[32m━━━━━━━━━━━━━━━━━━━━\u001b[0m\u001b[37m\u001b[0m \u001b[1m6s\u001b[0m 20ms/step\n"
     ]
    },
    {
     "name": "stderr",
     "output_type": "stream",
     "text": [
      "[I 2024-07-11 23:46:04,002] Trial 80 finished with value: 0.8569484661318127 and parameters: {'filters': 75, 'kernel_size': 2, 'pool_size': 2, 'filters2': 102, 'kernel_size2': 4, 'pool_size2': 2, 'units': 183, 'dropout_rate': 0.3883416949181884, 'optimizer': 'adam', 'epochs': 17, 'batch_size': 63}. Best is trial 39 with value: 0.8589754274602033.\n"
     ]
    },
    {
     "name": "stdout",
     "output_type": "stream",
     "text": [
      "Epoch 17: early stopping\n",
      "Restoring model weights from the end of the best epoch: 7.\n",
      "\u001b[1m266/266\u001b[0m \u001b[32m━━━━━━━━━━━━━━━━━━━━\u001b[0m\u001b[37m\u001b[0m \u001b[1m6s\u001b[0m 20ms/step\n",
      "Restoring model weights from the end of the best epoch: 9.\n",
      "\u001b[1m129/266\u001b[0m \u001b[32m━━━━━━━━━\u001b[0m\u001b[37m━━━━━━━━━━━\u001b[0m \u001b[1m2s\u001b[0m 19ms/stepRestoring model weights from the end of the best epoch: 13.\n",
      "\u001b[1m266/266\u001b[0m \u001b[32m━━━━━━━━━━━━━━━━━━━━\u001b[0m\u001b[37m\u001b[0m \u001b[1m6s\u001b[0m 21ms/step\n",
      "\u001b[1m 88/266\u001b[0m \u001b[32m━━━━━━\u001b[0m\u001b[37m━━━━━━━━━━━━━━\u001b[0m \u001b[1m4s\u001b[0m 27ms/step"
     ]
    },
    {
     "name": "stderr",
     "output_type": "stream",
     "text": [
      "[I 2024-07-11 23:48:53,931] Trial 83 finished with value: 0.8411077725583502 and parameters: {'filters': 39, 'kernel_size': 3, 'pool_size': 2, 'filters2': 103, 'kernel_size2': 4, 'pool_size2': 2, 'units': 112, 'dropout_rate': 0.31088981184192427, 'optimizer': 'adam', 'epochs': 17, 'batch_size': 77}. Best is trial 39 with value: 0.8589754274602033.\n"
     ]
    },
    {
     "name": "stdout",
     "output_type": "stream",
     "text": [
      "\u001b[1m266/266\u001b[0m \u001b[32m━━━━━━━━━━━━━━━━━━━━\u001b[0m\u001b[37m\u001b[0m \u001b[1m8s\u001b[0m 28ms/step\n",
      "Restoring model weights from the end of the best epoch: 13.\n",
      "\u001b[1m266/266\u001b[0m \u001b[32m━━━━━━━━━━━━━━━━━━━━\u001b[0m\u001b[37m\u001b[0m \u001b[1m7s\u001b[0m 25ms/step\n",
      "Restoring model weights from the end of the best epoch: 16.\n",
      "\u001b[1m266/266\u001b[0m \u001b[32m━━━━━━━━━━━━━━━━━━━━\u001b[0m\u001b[37m\u001b[0m \u001b[1m7s\u001b[0m 24ms/step\n",
      "Restoring model weights from the end of the best epoch: 10.\n",
      "\u001b[1m266/266\u001b[0m \u001b[32m━━━━━━━━━━━━━━━━━━━━\u001b[0m\u001b[37m\u001b[0m \u001b[1m7s\u001b[0m 23ms/step\n"
     ]
    },
    {
     "name": "stderr",
     "output_type": "stream",
     "text": [
      "[I 2024-07-11 23:52:32,326] Trial 84 finished with value: 0.8505409469154697 and parameters: {'filters': 47, 'kernel_size': 3, 'pool_size': 2, 'filters2': 110, 'kernel_size2': 4, 'pool_size2': 2, 'units': 230, 'dropout_rate': 0.3712985884283449, 'optimizer': 'adam', 'epochs': 18, 'batch_size': 78}. Best is trial 39 with value: 0.8589754274602033.\n"
     ]
    },
    {
     "name": "stdout",
     "output_type": "stream",
     "text": [
      "Restoring model weights from the end of the best epoch: 9.\n",
      "\u001b[1m266/266\u001b[0m \u001b[32m━━━━━━━━━━━━━━━━━━━━\u001b[0m\u001b[37m\u001b[0m \u001b[1m8s\u001b[0m 28ms/step\n",
      "Epoch 16: early stopping\n",
      "Restoring model weights from the end of the best epoch: 6.\n",
      "\u001b[1m266/266\u001b[0m \u001b[32m━━━━━━━━━━━━━━━━━━━━\u001b[0m\u001b[37m\u001b[0m \u001b[1m7s\u001b[0m 25ms/step\n",
      "Restoring model weights from the end of the best epoch: 12.\n",
      "\u001b[1m266/266\u001b[0m \u001b[32m━━━━━━━━━━━━━━━━━━━━\u001b[0m\u001b[37m\u001b[0m \u001b[1m7s\u001b[0m 24ms/step\n"
     ]
    },
    {
     "name": "stderr",
     "output_type": "stream",
     "text": [
      "[I 2024-07-11 23:57:40,709] Trial 82 finished with value: 0.8593766594874016 and parameters: {'filters': 122, 'kernel_size': 3, 'pool_size': 2, 'filters2': 61, 'kernel_size2': 4, 'pool_size2': 2, 'units': 255, 'dropout_rate': 0.3716489107063351, 'optimizer': 'adam', 'epochs': 18, 'batch_size': 44}. Best is trial 82 with value: 0.8593766594874016.\n"
     ]
    },
    {
     "name": "stdout",
     "output_type": "stream",
     "text": [
      "Restoring model weights from the end of the best epoch: 14.\n",
      "\u001b[1m266/266\u001b[0m \u001b[32m━━━━━━━━━━━━━━━━━━━━\u001b[0m\u001b[37m\u001b[0m \u001b[1m7s\u001b[0m 24ms/step\n"
     ]
    },
    {
     "name": "stderr",
     "output_type": "stream",
     "text": [
      "[I 2024-07-11 23:59:31,193] Trial 85 finished with value: 0.8603585951523648 and parameters: {'filters': 40, 'kernel_size': 3, 'pool_size': 2, 'filters2': 100, 'kernel_size2': 4, 'pool_size2': 2, 'units': 252, 'dropout_rate': 0.3739257235585098, 'optimizer': 'adam', 'epochs': 17, 'batch_size': 45}. Best is trial 85 with value: 0.8603585951523648.\n"
     ]
    },
    {
     "name": "stdout",
     "output_type": "stream",
     "text": [
      "Restoring model weights from the end of the best epoch: 12.\n",
      "\u001b[1m266/266\u001b[0m \u001b[32m━━━━━━━━━━━━━━━━━━━━\u001b[0m\u001b[37m\u001b[0m \u001b[1m9s\u001b[0m 30ms/step\n"
     ]
    },
    {
     "name": "stderr",
     "output_type": "stream",
     "text": [
      "[I 2024-07-12 00:00:29,292] Trial 81 finished with value: 0.8414255018742697 and parameters: {'filters': 90, 'kernel_size': 2, 'pool_size': 2, 'filters2': 100, 'kernel_size2': 4, 'pool_size2': 2, 'units': 183, 'dropout_rate': 0.3773187966287433, 'optimizer': 'adam', 'epochs': 18, 'batch_size': 45}. Best is trial 85 with value: 0.8603585951523648.\n"
     ]
    },
    {
     "name": "stdout",
     "output_type": "stream",
     "text": [
      "Restoring model weights from the end of the best epoch: 12.\n",
      "\u001b[1m266/266\u001b[0m \u001b[32m━━━━━━━━━━━━━━━━━━━━\u001b[0m\u001b[37m\u001b[0m \u001b[1m9s\u001b[0m 32ms/step\n",
      "Restoring model weights from the end of the best epoch: 15.\n",
      "\u001b[1m266/266\u001b[0m \u001b[32m━━━━━━━━━━━━━━━━━━━━\u001b[0m\u001b[37m\u001b[0m \u001b[1m9s\u001b[0m 31ms/step\n",
      "Epoch 18: early stopping\n",
      "Restoring model weights from the end of the best epoch: 8.\n",
      "\u001b[1m266/266\u001b[0m \u001b[32m━━━━━━━━━━━━━━━━━━━━\u001b[0m\u001b[37m\u001b[0m \u001b[1m8s\u001b[0m 28ms/step\n",
      "Restoring model weights from the end of the best epoch: 15.\n",
      "\u001b[1m266/266\u001b[0m \u001b[32m━━━━━━━━━━━━━━━━━━━━\u001b[0m\u001b[37m\u001b[0m \u001b[1m8s\u001b[0m 28ms/step\n",
      "Epoch 15: early stopping\n",
      "Restoring model weights from the end of the best epoch: 5.\n",
      "\u001b[1m266/266\u001b[0m \u001b[32m━━━━━━━━━━━━━━━━━━━━\u001b[0m\u001b[37m\u001b[0m \u001b[1m9s\u001b[0m 30ms/step\n",
      "Restoring model weights from the end of the best epoch: 9.\n",
      "\u001b[1m266/266\u001b[0m \u001b[32m━━━━━━━━━━━━━━━━━━━━\u001b[0m\u001b[37m\u001b[0m \u001b[1m9s\u001b[0m 31ms/step\n",
      "Restoring model weights from the end of the best epoch: 14.\n",
      "\u001b[1m266/266\u001b[0m \u001b[32m━━━━━━━━━━━━━━━━━━━━\u001b[0m\u001b[37m\u001b[0m \u001b[1m8s\u001b[0m 29ms/step\n"
     ]
    },
    {
     "name": "stderr",
     "output_type": "stream",
     "text": [
      "[I 2024-07-12 00:11:14,483] Trial 86 finished with value: 0.8593347788360765 and parameters: {'filters': 77, 'kernel_size': 3, 'pool_size': 2, 'filters2': 105, 'kernel_size2': 4, 'pool_size2': 2, 'units': 255, 'dropout_rate': 0.37201816578523006, 'optimizer': 'adam', 'epochs': 17, 'batch_size': 47}. Best is trial 85 with value: 0.8603585951523648.\n"
     ]
    },
    {
     "name": "stdout",
     "output_type": "stream",
     "text": [
      "Restoring model weights from the end of the best epoch: 15.\n",
      "\u001b[1m266/266\u001b[0m \u001b[32m━━━━━━━━━━━━━━━━━━━━\u001b[0m\u001b[37m\u001b[0m \u001b[1m6s\u001b[0m 20ms/step\n",
      "Restoring model weights from the end of the best epoch: 12.\n",
      "\u001b[1m256/266\u001b[0m \u001b[32m━━━━━━━━━━━━━━━━━━━\u001b[0m\u001b[37m━\u001b[0m \u001b[1m0s\u001b[0m 20ms/stepRestoring model weights from the end of the best epoch: 10.\n",
      "\u001b[1m266/266\u001b[0m \u001b[32m━━━━━━━━━━━━━━━━━━━━\u001b[0m\u001b[37m\u001b[0m \u001b[1m6s\u001b[0m 21ms/step\n",
      "\u001b[1m  1/266\u001b[0m \u001b[37m━━━━━━━━━━━━━━━━━━━━\u001b[0m \u001b[1m2:37\u001b[0m 595ms/step"
     ]
    },
    {
     "name": "stderr",
     "output_type": "stream",
     "text": [
      "[I 2024-07-12 00:16:25,220] Trial 87 finished with value: 0.8514415861349304 and parameters: {'filters': 88, 'kernel_size': 2, 'pool_size': 2, 'filters2': 118, 'kernel_size2': 4, 'pool_size2': 2, 'units': 253, 'dropout_rate': 0.41614841881969483, 'optimizer': 'adam', 'epochs': 19, 'batch_size': 48}. Best is trial 85 with value: 0.8603585951523648.\n"
     ]
    },
    {
     "name": "stdout",
     "output_type": "stream",
     "text": [
      "\u001b[1m266/266\u001b[0m \u001b[32m━━━━━━━━━━━━━━━━━━━━\u001b[0m\u001b[37m\u001b[0m \u001b[1m9s\u001b[0m 33ms/step\n",
      "Restoring model weights from the end of the best epoch: 9.\n",
      "\u001b[1m266/266\u001b[0m \u001b[32m━━━━━━━━━━━━━━━━━━━━\u001b[0m\u001b[37m\u001b[0m \u001b[1m9s\u001b[0m 30ms/step\n",
      "Restoring model weights from the end of the best epoch: 10.\n",
      "\u001b[1m266/266\u001b[0m \u001b[32m━━━━━━━━━━━━━━━━━━━━\u001b[0m\u001b[37m\u001b[0m \u001b[1m8s\u001b[0m 26ms/step\n",
      "Restoring model weights from the end of the best epoch: 13.\n",
      "\u001b[1m266/266\u001b[0m \u001b[32m━━━━━━━━━━━━━━━━━━━━\u001b[0m\u001b[37m\u001b[0m \u001b[1m5s\u001b[0m 19ms/step\n",
      "Restoring model weights from the end of the best epoch: 14.\n",
      "\u001b[1m266/266\u001b[0m \u001b[32m━━━━━━━━━━━━━━━━━━━━\u001b[0m\u001b[37m\u001b[0m \u001b[1m9s\u001b[0m 29ms/step\n"
     ]
    },
    {
     "name": "stderr",
     "output_type": "stream",
     "text": [
      "[I 2024-07-12 00:23:24,303] Trial 88 finished with value: 0.8582798663870502 and parameters: {'filters': 68, 'kernel_size': 2, 'pool_size': 2, 'filters2': 107, 'kernel_size2': 4, 'pool_size2': 2, 'units': 256, 'dropout_rate': 0.3740192958969357, 'optimizer': 'adam', 'epochs': 21, 'batch_size': 49}. Best is trial 85 with value: 0.8603585951523648.\n"
     ]
    },
    {
     "name": "stdout",
     "output_type": "stream",
     "text": [
      "Epoch 19: early stopping\n",
      "Restoring model weights from the end of the best epoch: 9.\n",
      "\u001b[1m266/266\u001b[0m \u001b[32m━━━━━━━━━━━━━━━━━━━━\u001b[0m\u001b[37m\u001b[0m \u001b[1m8s\u001b[0m 27ms/step\n"
     ]
    },
    {
     "name": "stderr",
     "output_type": "stream",
     "text": [
      "[I 2024-07-12 00:25:26,175] Trial 89 finished with value: 0.8559864227430444 and parameters: {'filters': 68, 'kernel_size': 3, 'pool_size': 2, 'filters2': 106, 'kernel_size2': 4, 'pool_size2': 2, 'units': 256, 'dropout_rate': 0.4311566149065226, 'optimizer': 'adam', 'epochs': 19, 'batch_size': 46}. Best is trial 85 with value: 0.8603585951523648.\n"
     ]
    },
    {
     "name": "stdout",
     "output_type": "stream",
     "text": [
      "Restoring model weights from the end of the best epoch: 15.\n",
      "\u001b[1m266/266\u001b[0m \u001b[32m━━━━━━━━━━━━━━━━━━━━\u001b[0m\u001b[37m\u001b[0m \u001b[1m7s\u001b[0m 24ms/step\n"
     ]
    },
    {
     "name": "stderr",
     "output_type": "stream",
     "text": [
      "[I 2024-07-12 00:25:44,486] Trial 91 finished with value: 0.8511161324953062 and parameters: {'filters': 106, 'kernel_size': 3, 'pool_size': 2, 'filters2': 109, 'kernel_size2': 4, 'pool_size2': 2, 'units': 256, 'dropout_rate': 0.35259012356524105, 'optimizer': 'adam', 'epochs': 15, 'batch_size': 47}. Best is trial 85 with value: 0.8603585951523648.\n"
     ]
    },
    {
     "name": "stdout",
     "output_type": "stream",
     "text": [
      "Epoch 19: early stopping\n",
      "Restoring model weights from the end of the best epoch: 9.\n",
      "\u001b[1m266/266\u001b[0m \u001b[32m━━━━━━━━━━━━━━━━━━━━\u001b[0m\u001b[37m\u001b[0m \u001b[1m8s\u001b[0m 30ms/step\n",
      "Epoch 17: early stopping\n",
      "Restoring model weights from the end of the best epoch: 7.\n",
      "\u001b[1m266/266\u001b[0m \u001b[32m━━━━━━━━━━━━━━━━━━━━\u001b[0m\u001b[37m\u001b[0m \u001b[1m8s\u001b[0m 27ms/step\n",
      "Restoring model weights from the end of the best epoch: 9.\n",
      "\u001b[1m266/266\u001b[0m \u001b[32m━━━━━━━━━━━━━━━━━━━━\u001b[0m\u001b[37m\u001b[0m \u001b[1m7s\u001b[0m 25ms/step\n"
     ]
    },
    {
     "name": "stderr",
     "output_type": "stream",
     "text": [
      "[I 2024-07-12 00:29:04,345] Trial 90 finished with value: 0.8570679849656592 and parameters: {'filters': 105, 'kernel_size': 3, 'pool_size': 2, 'filters2': 103, 'kernel_size2': 4, 'pool_size2': 2, 'units': 240, 'dropout_rate': 0.375560496398812, 'optimizer': 'adam', 'epochs': 17, 'batch_size': 45}. Best is trial 85 with value: 0.8603585951523648.\n"
     ]
    },
    {
     "name": "stdout",
     "output_type": "stream",
     "text": [
      "Epoch 19: early stopping\n",
      "Restoring model weights from the end of the best epoch: 9.\n",
      "\u001b[1m266/266\u001b[0m \u001b[32m━━━━━━━━━━━━━━━━━━━━\u001b[0m\u001b[37m\u001b[0m \u001b[1m8s\u001b[0m 27ms/step\n",
      "Epoch 19: early stopping\n",
      "Restoring model weights from the end of the best epoch: 9.\n",
      "\u001b[1m266/266\u001b[0m \u001b[32m━━━━━━━━━━━━━━━━━━━━\u001b[0m\u001b[37m\u001b[0m \u001b[1m8s\u001b[0m 29ms/step\n",
      "Epoch 16: early stopping\n",
      "Restoring model weights from the end of the best epoch: 6.\n",
      "\u001b[1m266/266\u001b[0m \u001b[32m━━━━━━━━━━━━━━━━━━━━\u001b[0m\u001b[37m\u001b[0m \u001b[1m8s\u001b[0m 26ms/step\n",
      "Restoring model weights from the end of the best epoch: 14.\n",
      "\u001b[1m266/266\u001b[0m \u001b[32m━━━━━━━━━━━━━━━━━━━━\u001b[0m\u001b[37m\u001b[0m \u001b[1m7s\u001b[0m 25ms/step\n",
      "Restoring model weights from the end of the best epoch: 14.\n",
      "\u001b[1m266/266\u001b[0m \u001b[32m━━━━━━━━━━━━━━━━━━━━\u001b[0m\u001b[37m\u001b[0m \u001b[1m7s\u001b[0m 24ms/step\n"
     ]
    },
    {
     "name": "stderr",
     "output_type": "stream",
     "text": [
      "[I 2024-07-12 00:37:18,391] Trial 92 finished with value: 0.8549638672299581 and parameters: {'filters': 78, 'kernel_size': 3, 'pool_size': 2, 'filters2': 105, 'kernel_size2': 4, 'pool_size2': 2, 'units': 256, 'dropout_rate': 0.351378174591872, 'optimizer': 'adam', 'epochs': 21, 'batch_size': 61}. Best is trial 85 with value: 0.8603585951523648.\n"
     ]
    },
    {
     "name": "stdout",
     "output_type": "stream",
     "text": [
      "Epoch 19: early stopping\n",
      "Restoring model weights from the end of the best epoch: 9.\n",
      "\u001b[1m266/266\u001b[0m \u001b[32m━━━━━━━━━━━━━━━━━━━━\u001b[0m\u001b[37m\u001b[0m \u001b[1m9s\u001b[0m 31ms/step\n",
      "Restoring model weights from the end of the best epoch: 16.\n",
      "\u001b[1m266/266\u001b[0m \u001b[32m━━━━━━━━━━━━━━━━━━━━\u001b[0m\u001b[37m\u001b[0m \u001b[1m8s\u001b[0m 27ms/step\n",
      "Restoring model weights from the end of the best epoch: 17.\n",
      "\u001b[1m266/266\u001b[0m \u001b[32m━━━━━━━━━━━━━━━━━━━━\u001b[0m\u001b[37m\u001b[0m \u001b[1m8s\u001b[0m 27ms/step\n",
      "Restoring model weights from the end of the best epoch: 13.\n",
      "\u001b[1m266/266\u001b[0m \u001b[32m━━━━━━━━━━━━━━━━━━━━\u001b[0m\u001b[37m\u001b[0m \u001b[1m9s\u001b[0m 31ms/step\n",
      "Epoch 19: early stopping\n",
      "Restoring model weights from the end of the best epoch: 9.\n",
      "\u001b[1m266/266\u001b[0m \u001b[32m━━━━━━━━━━━━━━━━━━━━\u001b[0m\u001b[37m\u001b[0m \u001b[1m7s\u001b[0m 26ms/step\n",
      "Epoch 21: early stopping\n",
      "Restoring model weights from the end of the best epoch: 11.\n",
      "\u001b[1m266/266\u001b[0m \u001b[32m━━━━━━━━━━━━━━━━━━━━\u001b[0m\u001b[37m\u001b[0m \u001b[1m9s\u001b[0m 32ms/step\n"
     ]
    },
    {
     "name": "stderr",
     "output_type": "stream",
     "text": [
      "[I 2024-07-12 00:47:15,267] Trial 93 finished with value: 0.8476981004756965 and parameters: {'filters': 121, 'kernel_size': 3, 'pool_size': 2, 'filters2': 106, 'kernel_size2': 4, 'pool_size2': 3, 'units': 256, 'dropout_rate': 0.35514008125366203, 'optimizer': 'adam', 'epochs': 21, 'batch_size': 40}. Best is trial 85 with value: 0.8603585951523648.\n"
     ]
    },
    {
     "name": "stdout",
     "output_type": "stream",
     "text": [
      "Epoch 18: early stopping\n",
      "Restoring model weights from the end of the best epoch: 8.\n",
      "\u001b[1m266/266\u001b[0m \u001b[32m━━━━━━━━━━━━━━━━━━━━\u001b[0m\u001b[37m\u001b[0m \u001b[1m7s\u001b[0m 24ms/step\n"
     ]
    },
    {
     "name": "stderr",
     "output_type": "stream",
     "text": [
      "[I 2024-07-12 00:48:11,193] Trial 96 finished with value: 0.8519313306678331 and parameters: {'filters': 68, 'kernel_size': 3, 'pool_size': 2, 'filters2': 105, 'kernel_size2': 4, 'pool_size2': 2, 'units': 252, 'dropout_rate': 0.36784414405372345, 'optimizer': 'adam', 'epochs': 20, 'batch_size': 65}. Best is trial 85 with value: 0.8603585951523648.\n"
     ]
    },
    {
     "name": "stdout",
     "output_type": "stream",
     "text": [
      "Restoring model weights from the end of the best epoch: 14.\n",
      "\u001b[1m266/266\u001b[0m \u001b[32m━━━━━━━━━━━━━━━━━━━━\u001b[0m\u001b[37m\u001b[0m \u001b[1m8s\u001b[0m 26ms/step\n"
     ]
    },
    {
     "name": "stderr",
     "output_type": "stream",
     "text": [
      "[I 2024-07-12 00:50:14,152] Trial 94 finished with value: 0.844389642232235 and parameters: {'filters': 124, 'kernel_size': 3, 'pool_size': 2, 'filters2': 108, 'kernel_size2': 4, 'pool_size2': 3, 'units': 253, 'dropout_rate': 0.35250852200239924, 'optimizer': 'adam', 'epochs': 21, 'batch_size': 63}. Best is trial 85 with value: 0.8603585951523648.\n"
     ]
    },
    {
     "name": "stdout",
     "output_type": "stream",
     "text": [
      "Epoch 21: early stopping\n",
      "Restoring model weights from the end of the best epoch: 11.\n",
      "\u001b[1m266/266\u001b[0m \u001b[32m━━━━━━━━━━━━━━━━━━━━\u001b[0m\u001b[37m\u001b[0m \u001b[1m6s\u001b[0m 20ms/step\n",
      "Restoring model weights from the end of the best epoch: 10.\n",
      "\u001b[1m266/266\u001b[0m \u001b[32m━━━━━━━━━━━━━━━━━━━━\u001b[0m\u001b[37m\u001b[0m \u001b[1m7s\u001b[0m 24ms/step\n",
      "Restoring model weights from the end of the best epoch: 12.\n",
      "\u001b[1m266/266\u001b[0m \u001b[32m━━━━━━━━━━━━━━━━━━━━\u001b[0m\u001b[37m\u001b[0m \u001b[1m6s\u001b[0m 21ms/step\n",
      "Epoch 19: early stopping\n",
      "Restoring model weights from the end of the best epoch: 9.\n",
      "\u001b[1m266/266\u001b[0m \u001b[32m━━━━━━━━━━━━━━━━━━━━\u001b[0m\u001b[37m\u001b[0m \u001b[1m6s\u001b[0m 22ms/step\n"
     ]
    },
    {
     "name": "stderr",
     "output_type": "stream",
     "text": [
      "[I 2024-07-12 00:54:58,718] Trial 95 finished with value: 0.8532650034902427 and parameters: {'filters': 79, 'kernel_size': 3, 'pool_size': 2, 'filters2': 128, 'kernel_size2': 4, 'pool_size2': 3, 'units': 251, 'dropout_rate': 0.3532072118479093, 'optimizer': 'adam', 'epochs': 21, 'batch_size': 39}. Best is trial 85 with value: 0.8603585951523648.\n"
     ]
    },
    {
     "name": "stdout",
     "output_type": "stream",
     "text": [
      "Restoring model weights from the end of the best epoch: 10.\n",
      "\u001b[1m266/266\u001b[0m \u001b[32m━━━━━━━━━━━━━━━━━━━━\u001b[0m\u001b[37m\u001b[0m \u001b[1m5s\u001b[0m 17ms/step\n",
      "Epoch 20: early stopping\n",
      "Restoring model weights from the end of the best epoch: 10.\n",
      "\u001b[1m266/266\u001b[0m \u001b[32m━━━━━━━━━━━━━━━━━━━━\u001b[0m\u001b[37m\u001b[0m \u001b[1m5s\u001b[0m 16ms/step\n"
     ]
    },
    {
     "name": "stderr",
     "output_type": "stream",
     "text": [
      "[I 2024-07-12 00:59:07,633] Trial 97 finished with value: 0.8575057011695321 and parameters: {'filters': 126, 'kernel_size': 3, 'pool_size': 2, 'filters2': 106, 'kernel_size2': 4, 'pool_size2': 2, 'units': 252, 'dropout_rate': 0.3677646098968316, 'optimizer': 'adam', 'epochs': 21, 'batch_size': 40}. Best is trial 85 with value: 0.8603585951523648.\n"
     ]
    },
    {
     "name": "stdout",
     "output_type": "stream",
     "text": [
      "Restoring model weights from the end of the best epoch: 15.\n",
      "\u001b[1m266/266\u001b[0m \u001b[32m━━━━━━━━━━━━━━━━━━━━\u001b[0m\u001b[37m\u001b[0m \u001b[1m3s\u001b[0m 10ms/step\n"
     ]
    },
    {
     "name": "stderr",
     "output_type": "stream",
     "text": [
      "[I 2024-07-12 00:59:48,152] Trial 98 finished with value: 0.8584342121366859 and parameters: {'filters': 128, 'kernel_size': 3, 'pool_size': 2, 'filters2': 113, 'kernel_size2': 4, 'pool_size2': 2, 'units': 240, 'dropout_rate': 0.38926121446361966, 'optimizer': 'adam', 'epochs': 17, 'batch_size': 40}. Best is trial 85 with value: 0.8603585951523648.\n"
     ]
    },
    {
     "name": "stdout",
     "output_type": "stream",
     "text": [
      "Restoring model weights from the end of the best epoch: 11.\n",
      "\u001b[1m266/266\u001b[0m \u001b[32m━━━━━━━━━━━━━━━━━━━━\u001b[0m\u001b[37m\u001b[0m \u001b[1m1s\u001b[0m 4ms/step\n"
     ]
    },
    {
     "name": "stderr",
     "output_type": "stream",
     "text": [
      "[I 2024-07-12 01:00:54,979] Trial 99 finished with value: 0.8599789135804711 and parameters: {'filters': 114, 'kernel_size': 3, 'pool_size': 2, 'filters2': 115, 'kernel_size2': 4, 'pool_size2': 2, 'units': 239, 'dropout_rate': 0.3677862285578353, 'optimizer': 'adam', 'epochs': 17, 'batch_size': 61}. Best is trial 85 with value: 0.8603585951523648.\n"
     ]
    },
    {
     "name": "stdout",
     "output_type": "stream",
     "text": [
      "Best trial:\n",
      "Value: 0.8603585951523648\n",
      "Params:\n",
      "    filters: 40\n",
      "    kernel_size: 3\n",
      "    pool_size: 2\n",
      "    filters2: 100\n",
      "    kernel_size2: 4\n",
      "    pool_size2: 2\n",
      "    units: 252\n",
      "    dropout_rate: 0.3739257235585098\n",
      "    optimizer: adam\n",
      "    epochs: 17\n",
      "    batch_size: 45\n"
     ]
    }
   ],
   "source": [
    "import tensorflow as tf\n",
    "from tensorflow.keras.models import Sequential\n",
    "from tensorflow.keras.layers import Conv1D, MaxPooling1D, Flatten, Dense, Dropout, Input\n",
    "from tensorflow.keras.callbacks import EarlyStopping\n",
    "from sklearn.model_selection import StratifiedKFold\n",
    "from sklearn.metrics import f1_score\n",
    "import optuna\n",
    "from tensorflow.keras import backend as K\n",
    "\n",
    "# Reshape the data for CNN\n",
    "X_train_reshaped = X_train.reshape((X_train.shape[0], X_train.shape[1], 1))\n",
    "\n",
    "# Define a custom F1-score metric\n",
    "def f1_score_metric(y_true, y_pred):\n",
    "    y_true = K.cast(y_true, 'float32')\n",
    "    y_pred = K.round(K.cast(y_pred, 'float32'))\n",
    "    tp = K.sum(K.cast(y_true * y_pred, 'float32'), axis=0)\n",
    "    tn = K.sum(K.cast((1 - y_true) * (1 - y_pred), 'float32'), axis=0)\n",
    "    fp = K.sum(K.cast((1 - y_true) * y_pred, 'float32'), axis=0)\n",
    "    fn = K.sum(K.cast(y_true * (1 - y_pred), 'float32'), axis=0)\n",
    "\n",
    "    p = tp / (tp + fp + K.epsilon())\n",
    "    r = tp / (tp + fn + K.epsilon())\n",
    "    \n",
    "    f1 = 2 * p * r / (p + r + K.epsilon())\n",
    "    f1 = K.mean(f1)\n",
    "    return f1\n",
    "\n",
    "# Define the model creation function\n",
    "def create_model(trial):\n",
    "    model = Sequential()\n",
    "    model.add(Input(shape=(X_train_reshaped.shape[1], 1)))\n",
    "    model.add(Conv1D(filters=trial.suggest_int('filters', 16, 128), \n",
    "                     kernel_size=trial.suggest_int('kernel_size', 2, 5), \n",
    "                     activation='relu'))\n",
    "    model.add(MaxPooling1D(pool_size=trial.suggest_int('pool_size', 2, 4)))\n",
    "    model.add(Conv1D(filters=trial.suggest_int('filters2', 16, 128), \n",
    "                     kernel_size=trial.suggest_int('kernel_size2', 2, 5), \n",
    "                     activation='relu'))\n",
    "    model.add(MaxPooling1D(pool_size=trial.suggest_int('pool_size2', 2, 4)))\n",
    "    model.add(Flatten())\n",
    "    model.add(Dense(units=trial.suggest_int('units', 32, 256), activation='relu'))\n",
    "    model.add(Dropout(rate=trial.suggest_float('dropout_rate', 0.2, 0.5)))\n",
    "    model.add(Dense(1, activation='sigmoid'))\n",
    "    \n",
    "    model.compile(optimizer=trial.suggest_categorical('optimizer', ['adam', 'rmsprop']),\n",
    "                  loss='binary_crossentropy',\n",
    "                  metrics=[f1_score_metric])\n",
    "    return model\n",
    "\n",
    "# Define the objective function for Optuna\n",
    "def objective(trial):\n",
    "    skf = StratifiedKFold(n_splits=3, shuffle=True, random_state=42)\n",
    "    f1_scores = []\n",
    "\n",
    "    for train_index, valid_index in skf.split(X_train_reshaped, y_train):\n",
    "        X_t, X_v = X_train_reshaped[train_index], X_train_reshaped[valid_index]\n",
    "        y_t, y_v = y_train[train_index], y_train[valid_index]\n",
    "\n",
    "        model = create_model(trial)\n",
    "        early_stopping = EarlyStopping(monitor='f1_score_metric', min_delta=0.001, patience=10, verbose=1, mode='max', restore_best_weights=True)\n",
    "        model.fit(X_t, y_t, \n",
    "                  epochs=trial.suggest_int('epochs', 10, 50), \n",
    "                  batch_size=trial.suggest_int('batch_size', 32, 256),\n",
    "                  validation_data=(X_v, y_v), \n",
    "                  callbacks=[early_stopping], \n",
    "                  verbose=0)\n",
    "        \n",
    "        y_pred = (model.predict(X_v) > 0.5).astype(\"int32\")\n",
    "        f1 = f1_score(y_v, y_pred, pos_label=1)\n",
    "        f1_scores.append(f1)\n",
    "    \n",
    "    return np.mean(f1_scores)\n",
    "\n",
    "# Create an Optuna study and optimize the objective function\n",
    "study = optuna.create_study(direction='maximize')\n",
    "study.optimize(objective, n_trials=100, n_jobs=6)\n",
    "\n",
    "# Print the best parameters\n",
    "print('Best trial:')\n",
    "trial = study.best_trial\n",
    "print(f'Value: {trial.value}')\n",
    "print('Params:')\n",
    "for key, value in trial.params.items():\n",
    "    print(f'    {key}: {value}')"
   ]
  },
  {
   "cell_type": "code",
   "execution_count": 8,
   "metadata": {},
   "outputs": [
    {
     "name": "stdout",
     "output_type": "stream",
     "text": [
      "Epoch 1/17\n",
      "\u001b[1m453/453\u001b[0m \u001b[32m━━━━━━━━━━━━━━━━━━━━\u001b[0m\u001b[37m\u001b[0m \u001b[1m7s\u001b[0m 12ms/step - f1_score_metric: 0.0080 - loss: 0.1876 - val_f1_score_metric: 0.0129 - val_loss: 0.1072\n",
      "Epoch 2/17\n",
      "\u001b[1m453/453\u001b[0m \u001b[32m━━━━━━━━━━━━━━━━━━━━\u001b[0m\u001b[37m\u001b[0m \u001b[1m5s\u001b[0m 12ms/step - f1_score_metric: 0.0145 - loss: 0.1061 - val_f1_score_metric: 0.0147 - val_loss: 0.0892\n",
      "Epoch 3/17\n",
      "\u001b[1m453/453\u001b[0m \u001b[32m━━━━━━━━━━━━━━━━━━━━\u001b[0m\u001b[37m\u001b[0m \u001b[1m6s\u001b[0m 12ms/step - f1_score_metric: 0.0144 - loss: 0.0899 - val_f1_score_metric: 0.0177 - val_loss: 0.0881\n",
      "Epoch 4/17\n",
      "\u001b[1m453/453\u001b[0m \u001b[32m━━━━━━━━━━━━━━━━━━━━\u001b[0m\u001b[37m\u001b[0m \u001b[1m6s\u001b[0m 12ms/step - f1_score_metric: 0.0165 - loss: 0.0774 - val_f1_score_metric: 0.0154 - val_loss: 0.0756\n",
      "Epoch 5/17\n",
      "\u001b[1m453/453\u001b[0m \u001b[32m━━━━━━━━━━━━━━━━━━━━\u001b[0m\u001b[37m\u001b[0m \u001b[1m6s\u001b[0m 12ms/step - f1_score_metric: 0.0172 - loss: 0.0637 - val_f1_score_metric: 0.0161 - val_loss: 0.0711\n",
      "Epoch 6/17\n",
      "\u001b[1m453/453\u001b[0m \u001b[32m━━━━━━━━━━━━━━━━━━━━\u001b[0m\u001b[37m\u001b[0m \u001b[1m5s\u001b[0m 12ms/step - f1_score_metric: 0.0158 - loss: 0.0574 - val_f1_score_metric: 0.0143 - val_loss: 0.0762\n",
      "Epoch 7/17\n",
      "\u001b[1m453/453\u001b[0m \u001b[32m━━━━━━━━━━━━━━━━━━━━\u001b[0m\u001b[37m\u001b[0m \u001b[1m6s\u001b[0m 12ms/step - f1_score_metric: 0.0162 - loss: 0.0514 - val_f1_score_metric: 0.0168 - val_loss: 0.0636\n",
      "Epoch 8/17\n",
      "\u001b[1m453/453\u001b[0m \u001b[32m━━━━━━━━━━━━━━━━━━━━\u001b[0m\u001b[37m\u001b[0m \u001b[1m6s\u001b[0m 12ms/step - f1_score_metric: 0.0170 - loss: 0.0449 - val_f1_score_metric: 0.0160 - val_loss: 0.0620\n",
      "Epoch 9/17\n",
      "\u001b[1m453/453\u001b[0m \u001b[32m━━━━━━━━━━━━━━━━━━━━\u001b[0m\u001b[37m\u001b[0m \u001b[1m6s\u001b[0m 12ms/step - f1_score_metric: 0.0181 - loss: 0.0373 - val_f1_score_metric: 0.0160 - val_loss: 0.0749\n",
      "Epoch 10/17\n",
      "\u001b[1m453/453\u001b[0m \u001b[32m━━━━━━━━━━━━━━━━━━━━\u001b[0m\u001b[37m\u001b[0m \u001b[1m5s\u001b[0m 12ms/step - f1_score_metric: 0.0166 - loss: 0.0334 - val_f1_score_metric: 0.0150 - val_loss: 0.0959\n",
      "Epoch 11/17\n",
      "\u001b[1m453/453\u001b[0m \u001b[32m━━━━━━━━━━━━━━━━━━━━\u001b[0m\u001b[37m\u001b[0m \u001b[1m6s\u001b[0m 12ms/step - f1_score_metric: 0.0169 - loss: 0.0341 - val_f1_score_metric: 0.0160 - val_loss: 0.0726\n",
      "Epoch 12/17\n",
      "\u001b[1m453/453\u001b[0m \u001b[32m━━━━━━━━━━━━━━━━━━━━\u001b[0m\u001b[37m\u001b[0m \u001b[1m6s\u001b[0m 12ms/step - f1_score_metric: 0.0170 - loss: 0.0280 - val_f1_score_metric: 0.0175 - val_loss: 0.0735\n",
      "Epoch 13/17\n",
      "\u001b[1m453/453\u001b[0m \u001b[32m━━━━━━━━━━━━━━━━━━━━\u001b[0m\u001b[37m\u001b[0m \u001b[1m6s\u001b[0m 12ms/step - f1_score_metric: 0.0166 - loss: 0.0280 - val_f1_score_metric: 0.0166 - val_loss: 0.0722\n",
      "Epoch 14/17\n",
      "\u001b[1m453/453\u001b[0m \u001b[32m━━━━━━━━━━━━━━━━━━━━\u001b[0m\u001b[37m\u001b[0m \u001b[1m6s\u001b[0m 12ms/step - f1_score_metric: 0.0170 - loss: 0.0281 - val_f1_score_metric: 0.0162 - val_loss: 0.0698\n",
      "Epoch 15/17\n",
      "\u001b[1m453/453\u001b[0m \u001b[32m━━━━━━━━━━━━━━━━━━━━\u001b[0m\u001b[37m\u001b[0m \u001b[1m6s\u001b[0m 12ms/step - f1_score_metric: 0.0174 - loss: 0.0251 - val_f1_score_metric: 0.0158 - val_loss: 0.0858\n",
      "Epoch 16/17\n",
      "\u001b[1m453/453\u001b[0m \u001b[32m━━━━━━━━━━━━━━━━━━━━\u001b[0m\u001b[37m\u001b[0m \u001b[1m6s\u001b[0m 12ms/step - f1_score_metric: 0.0175 - loss: 0.0233 - val_f1_score_metric: 0.0170 - val_loss: 0.0799\n",
      "Epoch 17/17\n",
      "\u001b[1m453/453\u001b[0m \u001b[32m━━━━━━━━━━━━━━━━━━━━\u001b[0m\u001b[37m\u001b[0m \u001b[1m6s\u001b[0m 12ms/step - f1_score_metric: 0.0177 - loss: 0.0234 - val_f1_score_metric: 0.0159 - val_loss: 0.0805\n",
      "Model saved to D:\\Projects\\Summer-2024-ECE-597-Group8\\data\\models\\best_cnn_model_bow.keras\n"
     ]
    }
   ],
   "source": [
    "# Ensure the directory exists\n",
    "os.makedirs(os.path.dirname(model_path), exist_ok=True)\n",
    "\n",
    "# Create the model with the best parameters from Optuna\n",
    "best_params = study.best_trial.params\n",
    "\n",
    "model = Sequential()\n",
    "model.add(Input(shape=(X_train_reshaped.shape[1], 1)))\n",
    "model.add(Conv1D(filters=best_params['filters'], \n",
    "                 kernel_size=best_params['kernel_size'], \n",
    "                 activation='relu'))\n",
    "model.add(MaxPooling1D(pool_size=best_params['pool_size']))\n",
    "model.add(Conv1D(filters=best_params['filters2'], \n",
    "                 kernel_size=best_params['kernel_size2'], \n",
    "                 activation='relu'))\n",
    "model.add(MaxPooling1D(pool_size=best_params['pool_size2']))\n",
    "model.add(Flatten())\n",
    "model.add(Dense(units=best_params['units'], activation='relu'))\n",
    "model.add(Dropout(rate=best_params['dropout_rate']))\n",
    "model.add(Dense(1, activation='sigmoid'))\n",
    "\n",
    "model.compile(optimizer=best_params['optimizer'],\n",
    "              loss='binary_crossentropy',\n",
    "              metrics=[f1_score_metric])\n",
    "\n",
    "# Train the model with the entire training data\n",
    "history = model.fit(X_train_reshaped, y_train, \n",
    "                    epochs=best_params['epochs'], \n",
    "                    batch_size=best_params['batch_size'], \n",
    "                    validation_split=0.2)\n",
    "\n",
    "# Save the trained model to a file\n",
    "model.save(model_path)\n",
    "print(f\"Model saved to {model_path}\")"
   ]
  },
  {
   "cell_type": "code",
   "execution_count": 9,
   "metadata": {},
   "outputs": [
    {
     "name": "stdout",
     "output_type": "stream",
     "text": [
      "Model loaded from D:\\Projects\\Summer-2024-ECE-597-Group8\\data\\models\\best_cnn_model_bow.keras\n",
      "\u001b[1m89/89\u001b[0m \u001b[32m━━━━━━━━━━━━━━━━━━━━\u001b[0m\u001b[37m\u001b[0m \u001b[1m0s\u001b[0m 3ms/step\n",
      "Classification Report:\n",
      "\n",
      "              precision    recall  f1-score   support\n",
      "\n",
      "     Class 0       0.98      1.00      0.99      2588\n",
      "     Class 1       0.94      0.83      0.89       241\n",
      "\n",
      "    accuracy                           0.98      2829\n",
      "   macro avg       0.96      0.91      0.94      2829\n",
      "weighted avg       0.98      0.98      0.98      2829\n",
      "\n"
     ]
    }
   ],
   "source": [
    "# Reshape the test data for CNN\n",
    "X_test_reshaped = X_test.reshape((X_test.shape[0], X_test.shape[1], 1))\n",
    "\n",
    "# Load the saved model\n",
    "model = tf.keras.models.load_model(model_path, custom_objects={'f1_score_metric': f1_score_metric})\n",
    "print(f\"Model loaded from {model_path}\")\n",
    "\n",
    "# Make predictions on the test data\n",
    "y_pred_probs = model.predict(X_test_reshaped)\n",
    "y_pred = (y_pred_probs > 0.5).astype(int)\n",
    "\n",
    "# Generate the classification report\n",
    "report = classification_report(y_test, y_pred, target_names=['Class 0', 'Class 1'])\n",
    "print(\"Classification Report:\\n\")\n",
    "print(report)"
   ]
  },
  {
   "cell_type": "code",
   "execution_count": null,
   "metadata": {},
   "outputs": [],
   "source": []
  }
 ],
 "metadata": {
  "kernelspec": {
   "display_name": "Python 3",
   "language": "python",
   "name": "python3"
  },
  "language_info": {
   "codemirror_mode": {
    "name": "ipython",
    "version": 3
   },
   "file_extension": ".py",
   "mimetype": "text/x-python",
   "name": "python",
   "nbconvert_exporter": "python",
   "pygments_lexer": "ipython3",
   "version": "3.12.4"
  }
 },
 "nbformat": 4,
 "nbformat_minor": 2
}
