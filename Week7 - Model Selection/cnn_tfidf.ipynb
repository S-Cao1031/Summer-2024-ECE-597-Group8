{
 "cells": [
  {
   "cell_type": "code",
   "execution_count": 1,
   "metadata": {},
   "outputs": [],
   "source": [
    "import os\n",
    "import matplotlib.pyplot as plt\n",
    "import numpy as np\n",
    "import pandas as pd\n",
    "from sklearn.compose import ColumnTransformer\n",
    "from sklearn.metrics import (\n",
    "    accuracy_score,\n",
    "    auc,\n",
    "    average_precision_score,\n",
    "    classification_report,\n",
    "    confusion_matrix,\n",
    "    precision_recall_curve,\n",
    "    roc_auc_score,\n",
    "    roc_curve,\n",
    ")\n",
    "from sklearn.model_selection import (\n",
    "    cross_val_predict,\n",
    "    cross_val_score,\n",
    "    train_test_split,\n",
    "    KFold,\n",
    ")\n",
    "from sklearn.pipeline import Pipeline\n",
    "from sklearn.preprocessing import FunctionTransformer, RobustScaler"
   ]
  },
  {
   "cell_type": "code",
   "execution_count": 13,
   "metadata": {},
   "outputs": [],
   "source": [
    "project_root = \"D:\\\\Projects\\\\Summer-2024-ECE-597-Group8\"\n",
    "data_path = os.path.join(project_root, \"data\", \"processed\", \"features_tfidf_labels.csv\")\n",
    "model_path = os.path.join(project_root, 'data', 'models', 'best_cnn_model.keras')\n",
    "random_state = 42\n",
    "test_size = 0.1"
   ]
  },
  {
   "cell_type": "code",
   "execution_count": 3,
   "metadata": {},
   "outputs": [],
   "source": [
    "df = pd.read_csv(data_path)\n",
    "df = df.drop(columns=[\"js_code\"])"
   ]
  },
  {
   "cell_type": "code",
   "execution_count": 4,
   "metadata": {},
   "outputs": [],
   "source": [
    "def log_transform(x):\n",
    "    return np.log1p(x)"
   ]
  },
  {
   "cell_type": "code",
   "execution_count": 5,
   "metadata": {},
   "outputs": [],
   "source": [
    "pipeline_log_transform_RobustScaler = Pipeline(\n",
    "    steps=[\n",
    "        (\"log_transform\", FunctionTransformer(log_transform)),\n",
    "        (\"RobustScaler\", RobustScaler()),\n",
    "    ]\n",
    ")\n",
    "\n",
    "features_preprocessor = ColumnTransformer(\n",
    "    transformers=[\n",
    "        (\n",
    "            \"log_transform_RobustScaler\",\n",
    "            pipeline_log_transform_RobustScaler,\n",
    "            [\n",
    "                \"Word_Count\",\n",
    "                \"Homoglyphs\",\n",
    "                \"Total_Abnormal_Count\",\n",
    "                \"html_tags\",\n",
    "            ],\n",
    "        ),\n",
    "    ],\n",
    "    remainder=\"passthrough\",\n",
    ")"
   ]
  },
  {
   "cell_type": "code",
   "execution_count": 6,
   "metadata": {},
   "outputs": [],
   "source": [
    "X = features_preprocessor.fit_transform(df.drop(columns=[\"Label\"]))\n",
    "y = df[\"Label\"].to_numpy()\n",
    "\n",
    "X_train, X_test, y_train, y_test = train_test_split(\n",
    "    X, y, test_size=test_size, random_state=random_state\n",
    ")"
   ]
  },
  {
   "cell_type": "code",
   "execution_count": 7,
   "metadata": {},
   "outputs": [
    {
     "data": {
      "text/plain": [
       "array([0, 0, 0, ..., 0, 0, 0], dtype=int64)"
      ]
     },
     "execution_count": 7,
     "metadata": {},
     "output_type": "execute_result"
    }
   ],
   "source": [
    "y_train"
   ]
  },
  {
   "cell_type": "code",
   "execution_count": 8,
   "metadata": {},
   "outputs": [
    {
     "name": "stderr",
     "output_type": "stream",
     "text": [
      "[I 2024-07-02 04:27:10,125] A new study created in memory with name: no-name-39b46be8-e5c8-4b54-90c2-de9040835dfb\n"
     ]
    },
    {
     "name": "stdout",
     "output_type": "stream",
     "text": [
      "\u001b[1m266/266\u001b[0m \u001b[32m━━━━━━━━━━━━━━━━━━━━\u001b[0m\u001b[37m\u001b[0m \u001b[1m5s\u001b[0m 17ms/step\n",
      "\u001b[1m266/266\u001b[0m \u001b[32m━━━━━━━━━━━━━━━━━━━━\u001b[0m\u001b[37m\u001b[0m \u001b[1m4s\u001b[0m 14ms/step\n",
      "\u001b[1m266/266\u001b[0m \u001b[32m━━━━━━━━━━━━━━━━━━━━\u001b[0m\u001b[37m\u001b[0m \u001b[1m5s\u001b[0m 16ms/step\n",
      "\u001b[1m266/266\u001b[0m \u001b[32m━━━━━━━━━━━━━━━━━━━━\u001b[0m\u001b[37m\u001b[0m \u001b[1m4s\u001b[0m 15ms/step\n",
      "\u001b[1m266/266\u001b[0m \u001b[32m━━━━━━━━━━━━━━━━━━━━\u001b[0m\u001b[37m\u001b[0m \u001b[1m5s\u001b[0m 17ms/step\n",
      "\u001b[1m266/266\u001b[0m \u001b[32m━━━━━━━━━━━━━━━━━━━━\u001b[0m\u001b[37m\u001b[0m \u001b[1m4s\u001b[0m 14ms/step\n",
      "\u001b[1m266/266\u001b[0m \u001b[32m━━━━━━━━━━━━━━━━━━━━\u001b[0m\u001b[37m\u001b[0m \u001b[1m5s\u001b[0m 15ms/step\n",
      "\u001b[1m266/266\u001b[0m \u001b[32m━━━━━━━━━━━━━━━━━━━━\u001b[0m\u001b[37m\u001b[0m \u001b[1m4s\u001b[0m 13ms/step\n",
      "\u001b[1m266/266\u001b[0m \u001b[32m━━━━━━━━━━━━━━━━━━━━\u001b[0m\u001b[37m\u001b[0m \u001b[1m5s\u001b[0m 15ms/step\n",
      "\u001b[1m266/266\u001b[0m \u001b[32m━━━━━━━━━━━━━━━━━━━━\u001b[0m\u001b[37m\u001b[0m \u001b[1m4s\u001b[0m 15ms/step\n",
      "\u001b[1m266/266\u001b[0m \u001b[32m━━━━━━━━━━━━━━━━━━━━\u001b[0m\u001b[37m\u001b[0m \u001b[1m5s\u001b[0m 17ms/step\n",
      "\u001b[1m266/266\u001b[0m \u001b[32m━━━━━━━━━━━━━━━━━━━━\u001b[0m\u001b[37m\u001b[0m \u001b[1m4s\u001b[0m 14ms/step\n"
     ]
    },
    {
     "name": "stderr",
     "output_type": "stream",
     "text": [
      "[I 2024-07-02 04:32:49,599] Trial 5 finished with value: 0.8115591237029692 and parameters: {'filters': 49, 'kernel_size': 4, 'pool_size': 3, 'filters2': 64, 'kernel_size2': 2, 'pool_size2': 3, 'units': 200, 'dropout_rate': 0.45353720280360194, 'optimizer': 'rmsprop', 'epochs': 15, 'batch_size': 119}. Best is trial 5 with value: 0.8115591237029692.\n"
     ]
    },
    {
     "name": "stdout",
     "output_type": "stream",
     "text": [
      "\u001b[1m266/266\u001b[0m \u001b[32m━━━━━━━━━━━━━━━━━━━━\u001b[0m\u001b[37m\u001b[0m \u001b[1m5s\u001b[0m 15ms/step\n",
      "\u001b[1m266/266\u001b[0m \u001b[32m━━━━━━━━━━━━━━━━━━━━\u001b[0m\u001b[37m\u001b[0m \u001b[1m4s\u001b[0m 14ms/step\n"
     ]
    },
    {
     "name": "stderr",
     "output_type": "stream",
     "text": [
      "[I 2024-07-02 04:33:53,542] Trial 3 finished with value: 0.8012086759780738 and parameters: {'filters': 61, 'kernel_size': 4, 'pool_size': 4, 'filters2': 69, 'kernel_size2': 5, 'pool_size2': 4, 'units': 88, 'dropout_rate': 0.4732658279711917, 'optimizer': 'adam', 'epochs': 33, 'batch_size': 222}. Best is trial 5 with value: 0.8115591237029692.\n"
     ]
    },
    {
     "name": "stdout",
     "output_type": "stream",
     "text": [
      "\u001b[1m266/266\u001b[0m \u001b[32m━━━━━━━━━━━━━━━━━━━━\u001b[0m\u001b[37m\u001b[0m \u001b[1m5s\u001b[0m 15ms/step\n",
      "\u001b[1m266/266\u001b[0m \u001b[32m━━━━━━━━━━━━━━━━━━━━\u001b[0m\u001b[37m\u001b[0m \u001b[1m5s\u001b[0m 18ms/step\n"
     ]
    },
    {
     "name": "stderr",
     "output_type": "stream",
     "text": [
      "[I 2024-07-02 04:34:25,983] Trial 1 finished with value: 0.822586544537668 and parameters: {'filters': 76, 'kernel_size': 5, 'pool_size': 3, 'filters2': 78, 'kernel_size2': 4, 'pool_size2': 3, 'units': 78, 'dropout_rate': 0.3423116894702696, 'optimizer': 'rmsprop', 'epochs': 25, 'batch_size': 144}. Best is trial 1 with value: 0.822586544537668.\n"
     ]
    },
    {
     "name": "stdout",
     "output_type": "stream",
     "text": [
      "\u001b[1m266/266\u001b[0m \u001b[32m━━━━━━━━━━━━━━━━━━━━\u001b[0m\u001b[37m\u001b[0m \u001b[1m5s\u001b[0m 18ms/step\n"
     ]
    },
    {
     "name": "stderr",
     "output_type": "stream",
     "text": [
      "[I 2024-07-02 04:34:52,580] Trial 0 finished with value: 0.8296903029732393 and parameters: {'filters': 64, 'kernel_size': 2, 'pool_size': 2, 'filters2': 102, 'kernel_size2': 4, 'pool_size2': 4, 'units': 54, 'dropout_rate': 0.28718528575202473, 'optimizer': 'adam', 'epochs': 17, 'batch_size': 132}. Best is trial 0 with value: 0.8296903029732393.\n"
     ]
    },
    {
     "name": "stdout",
     "output_type": "stream",
     "text": [
      "\u001b[1m266/266\u001b[0m \u001b[32m━━━━━━━━━━━━━━━━━━━━\u001b[0m\u001b[37m\u001b[0m \u001b[1m4s\u001b[0m 14ms/step\n"
     ]
    },
    {
     "name": "stderr",
     "output_type": "stream",
     "text": [
      "[I 2024-07-02 04:35:27,915] Trial 2 finished with value: 0.825278657547949 and parameters: {'filters': 97, 'kernel_size': 4, 'pool_size': 4, 'filters2': 16, 'kernel_size2': 5, 'pool_size2': 2, 'units': 113, 'dropout_rate': 0.4385504502083028, 'optimizer': 'rmsprop', 'epochs': 37, 'batch_size': 179}. Best is trial 0 with value: 0.8296903029732393.\n"
     ]
    },
    {
     "name": "stdout",
     "output_type": "stream",
     "text": [
      "\u001b[1m266/266\u001b[0m \u001b[32m━━━━━━━━━━━━━━━━━━━━\u001b[0m\u001b[37m\u001b[0m \u001b[1m4s\u001b[0m 14ms/step\n"
     ]
    },
    {
     "name": "stderr",
     "output_type": "stream",
     "text": [
      "[I 2024-07-02 04:36:07,959] Trial 4 finished with value: 0.8028630638083882 and parameters: {'filters': 74, 'kernel_size': 2, 'pool_size': 3, 'filters2': 46, 'kernel_size2': 4, 'pool_size2': 3, 'units': 66, 'dropout_rate': 0.2169408107721786, 'optimizer': 'adam', 'epochs': 26, 'batch_size': 164}. Best is trial 0 with value: 0.8296903029732393.\n"
     ]
    },
    {
     "name": "stdout",
     "output_type": "stream",
     "text": [
      "\u001b[1m266/266\u001b[0m \u001b[32m━━━━━━━━━━━━━━━━━━━━\u001b[0m\u001b[37m\u001b[0m \u001b[1m4s\u001b[0m 12ms/step\n",
      "\u001b[1m266/266\u001b[0m \u001b[32m━━━━━━━━━━━━━━━━━━━━\u001b[0m\u001b[37m\u001b[0m \u001b[1m4s\u001b[0m 12ms/step\n",
      "\u001b[1m266/266\u001b[0m \u001b[32m━━━━━━━━━━━━━━━━━━━━\u001b[0m\u001b[37m\u001b[0m \u001b[1m6s\u001b[0m 19ms/step\n",
      "\u001b[1m266/266\u001b[0m \u001b[32m━━━━━━━━━━━━━━━━━━━━\u001b[0m\u001b[37m\u001b[0m \u001b[1m4s\u001b[0m 13ms/step\n",
      "\u001b[1m266/266\u001b[0m \u001b[32m━━━━━━━━━━━━━━━━━━━━\u001b[0m\u001b[37m\u001b[0m \u001b[1m5s\u001b[0m 17ms/step\n",
      "\u001b[1m 96/266\u001b[0m \u001b[32m━━━━━━━\u001b[0m\u001b[37m━━━━━━━━━━━━━\u001b[0m \u001b[1m2s\u001b[0m 15ms/step"
     ]
    },
    {
     "name": "stderr",
     "output_type": "stream",
     "text": [
      "[I 2024-07-02 04:38:27,134] Trial 6 finished with value: 0.8337203835411207 and parameters: {'filters': 53, 'kernel_size': 5, 'pool_size': 2, 'filters2': 24, 'kernel_size2': 2, 'pool_size2': 3, 'units': 243, 'dropout_rate': 0.2579635168764459, 'optimizer': 'rmsprop', 'epochs': 34, 'batch_size': 189}. Best is trial 6 with value: 0.8337203835411207.\n"
     ]
    },
    {
     "name": "stdout",
     "output_type": "stream",
     "text": [
      "\u001b[1m266/266\u001b[0m \u001b[32m━━━━━━━━━━━━━━━━━━━━\u001b[0m\u001b[37m\u001b[0m \u001b[1m7s\u001b[0m 22ms/step\n",
      "\u001b[1m266/266\u001b[0m \u001b[32m━━━━━━━━━━━━━━━━━━━━\u001b[0m\u001b[37m\u001b[0m \u001b[1m5s\u001b[0m 16ms/step\n",
      "\u001b[1m266/266\u001b[0m \u001b[32m━━━━━━━━━━━━━━━━━━━━\u001b[0m\u001b[37m\u001b[0m \u001b[1m6s\u001b[0m 20ms/step\n",
      "\u001b[1m266/266\u001b[0m \u001b[32m━━━━━━━━━━━━━━━━━━━━\u001b[0m\u001b[37m\u001b[0m \u001b[1m6s\u001b[0m 22ms/step\n",
      "\u001b[1m266/266\u001b[0m \u001b[32m━━━━━━━━━━━━━━━━━━━━\u001b[0m\u001b[37m\u001b[0m \u001b[1m4s\u001b[0m 12ms/step\n",
      "\u001b[1m266/266\u001b[0m \u001b[32m━━━━━━━━━━━━━━━━━━━━\u001b[0m\u001b[37m\u001b[0m \u001b[1m5s\u001b[0m 17ms/step\n"
     ]
    },
    {
     "name": "stderr",
     "output_type": "stream",
     "text": [
      "[I 2024-07-02 04:41:11,296] Trial 8 finished with value: 0.8250531445169512 and parameters: {'filters': 70, 'kernel_size': 5, 'pool_size': 3, 'filters2': 50, 'kernel_size2': 3, 'pool_size2': 2, 'units': 63, 'dropout_rate': 0.34462304545479694, 'optimizer': 'rmsprop', 'epochs': 22, 'batch_size': 108}. Best is trial 6 with value: 0.8337203835411207.\n"
     ]
    },
    {
     "name": "stdout",
     "output_type": "stream",
     "text": [
      "\u001b[1m266/266\u001b[0m \u001b[32m━━━━━━━━━━━━━━━━━━━━\u001b[0m\u001b[37m\u001b[0m \u001b[1m6s\u001b[0m 18ms/step\n",
      "\u001b[1m266/266\u001b[0m \u001b[32m━━━━━━━━━━━━━━━━━━━━\u001b[0m\u001b[37m\u001b[0m \u001b[1m6s\u001b[0m 19ms/step\n"
     ]
    },
    {
     "name": "stderr",
     "output_type": "stream",
     "text": [
      "[I 2024-07-02 04:42:15,864] Trial 7 finished with value: 0.8496254988782487 and parameters: {'filters': 94, 'kernel_size': 4, 'pool_size': 2, 'filters2': 93, 'kernel_size2': 4, 'pool_size2': 2, 'units': 241, 'dropout_rate': 0.2542745085657352, 'optimizer': 'rmsprop', 'epochs': 26, 'batch_size': 155}. Best is trial 7 with value: 0.8496254988782487.\n"
     ]
    },
    {
     "name": "stdout",
     "output_type": "stream",
     "text": [
      "\u001b[1m266/266\u001b[0m \u001b[32m━━━━━━━━━━━━━━━━━━━━\u001b[0m\u001b[37m\u001b[0m \u001b[1m4s\u001b[0m 14ms/step\n",
      "\u001b[1m266/266\u001b[0m \u001b[32m━━━━━━━━━━━━━━━━━━━━\u001b[0m\u001b[37m\u001b[0m \u001b[1m5s\u001b[0m 17ms/step\n",
      "\u001b[1m266/266\u001b[0m \u001b[32m━━━━━━━━━━━━━━━━━━━━\u001b[0m\u001b[37m\u001b[0m \u001b[1m6s\u001b[0m 18ms/step\n",
      "\u001b[1m266/266\u001b[0m \u001b[32m━━━━━━━━━━━━━━━━━━━━\u001b[0m\u001b[37m\u001b[0m \u001b[1m5s\u001b[0m 15ms/step\n",
      "\u001b[1m266/266\u001b[0m \u001b[32m━━━━━━━━━━━━━━━━━━━━\u001b[0m\u001b[37m\u001b[0m \u001b[1m4s\u001b[0m 13ms/step\n",
      "\u001b[1m266/266\u001b[0m \u001b[32m━━━━━━━━━━━━━━━━━━━━\u001b[0m\u001b[37m\u001b[0m \u001b[1m5s\u001b[0m 16ms/step\n"
     ]
    },
    {
     "name": "stderr",
     "output_type": "stream",
     "text": [
      "[I 2024-07-02 04:43:34,577] Trial 12 finished with value: 0.8153263198702829 and parameters: {'filters': 30, 'kernel_size': 3, 'pool_size': 2, 'filters2': 104, 'kernel_size2': 3, 'pool_size2': 2, 'units': 37, 'dropout_rate': 0.4167435277820649, 'optimizer': 'rmsprop', 'epochs': 20, 'batch_size': 204}. Best is trial 7 with value: 0.8496254988782487.\n"
     ]
    },
    {
     "name": "stdout",
     "output_type": "stream",
     "text": [
      "\u001b[1m266/266\u001b[0m \u001b[32m━━━━━━━━━━━━━━━━━━━━\u001b[0m\u001b[37m\u001b[0m \u001b[1m4s\u001b[0m 14ms/step\n"
     ]
    },
    {
     "name": "stderr",
     "output_type": "stream",
     "text": [
      "[I 2024-07-02 04:43:44,021] Trial 10 finished with value: 0.8315132694216693 and parameters: {'filters': 46, 'kernel_size': 4, 'pool_size': 2, 'filters2': 117, 'kernel_size2': 4, 'pool_size2': 4, 'units': 69, 'dropout_rate': 0.26409732358271026, 'optimizer': 'rmsprop', 'epochs': 23, 'batch_size': 138}. Best is trial 7 with value: 0.8496254988782487.\n"
     ]
    },
    {
     "name": "stdout",
     "output_type": "stream",
     "text": [
      "\u001b[1m266/266\u001b[0m \u001b[32m━━━━━━━━━━━━━━━━━━━━\u001b[0m\u001b[37m\u001b[0m \u001b[1m3s\u001b[0m 10ms/step\n",
      "\u001b[1m266/266\u001b[0m \u001b[32m━━━━━━━━━━━━━━━━━━━━\u001b[0m\u001b[37m\u001b[0m \u001b[1m5s\u001b[0m 17ms/step\n"
     ]
    },
    {
     "name": "stderr",
     "output_type": "stream",
     "text": [
      "[I 2024-07-02 04:44:57,110] Trial 9 finished with value: 0.8359509486048693 and parameters: {'filters': 122, 'kernel_size': 3, 'pool_size': 3, 'filters2': 100, 'kernel_size2': 3, 'pool_size2': 3, 'units': 173, 'dropout_rate': 0.25136548931418085, 'optimizer': 'adam', 'epochs': 37, 'batch_size': 102}. Best is trial 7 with value: 0.8496254988782487.\n"
     ]
    },
    {
     "name": "stdout",
     "output_type": "stream",
     "text": [
      "\u001b[1m266/266\u001b[0m \u001b[32m━━━━━━━━━━━━━━━━━━━━\u001b[0m\u001b[37m\u001b[0m \u001b[1m5s\u001b[0m 16ms/step\n"
     ]
    },
    {
     "name": "stderr",
     "output_type": "stream",
     "text": [
      "[I 2024-07-02 04:45:10,476] Trial 11 finished with value: 0.8274855516496352 and parameters: {'filters': 122, 'kernel_size': 5, 'pool_size': 4, 'filters2': 56, 'kernel_size2': 4, 'pool_size2': 2, 'units': 85, 'dropout_rate': 0.37769137430381916, 'optimizer': 'rmsprop', 'epochs': 20, 'batch_size': 66}. Best is trial 7 with value: 0.8496254988782487.\n"
     ]
    },
    {
     "name": "stdout",
     "output_type": "stream",
     "text": [
      "\u001b[1m266/266\u001b[0m \u001b[32m━━━━━━━━━━━━━━━━━━━━\u001b[0m\u001b[37m\u001b[0m \u001b[1m6s\u001b[0m 19ms/step\n",
      "\u001b[1m266/266\u001b[0m \u001b[32m━━━━━━━━━━━━━━━━━━━━\u001b[0m\u001b[37m\u001b[0m \u001b[1m5s\u001b[0m 18ms/step\n",
      "\u001b[1m266/266\u001b[0m \u001b[32m━━━━━━━━━━━━━━━━━━━━\u001b[0m\u001b[37m\u001b[0m \u001b[1m5s\u001b[0m 16ms/step\n"
     ]
    },
    {
     "name": "stderr",
     "output_type": "stream",
     "text": [
      "[I 2024-07-02 04:47:09,402] Trial 14 finished with value: 0.6935205316938688 and parameters: {'filters': 67, 'kernel_size': 2, 'pool_size': 4, 'filters2': 29, 'kernel_size2': 5, 'pool_size2': 3, 'units': 134, 'dropout_rate': 0.24830876384343048, 'optimizer': 'rmsprop', 'epochs': 18, 'batch_size': 104}. Best is trial 7 with value: 0.8496254988782487.\n"
     ]
    },
    {
     "name": "stdout",
     "output_type": "stream",
     "text": [
      "\u001b[1m266/266\u001b[0m \u001b[32m━━━━━━━━━━━━━━━━━━━━\u001b[0m\u001b[37m\u001b[0m \u001b[1m7s\u001b[0m 25ms/step\n",
      "\u001b[1m266/266\u001b[0m \u001b[32m━━━━━━━━━━━━━━━━━━━━\u001b[0m\u001b[37m\u001b[0m \u001b[1m4s\u001b[0m 15ms/step\n",
      "\u001b[1m 13/266\u001b[0m \u001b[37m━━━━━━━━━━━━━━━━━━━━\u001b[0m \u001b[1m5s\u001b[0m 20ms/step   s"
     ]
    },
    {
     "name": "stderr",
     "output_type": "stream",
     "text": [
      "[I 2024-07-02 04:48:21,730] Trial 13 finished with value: 0.7727523551554909 and parameters: {'filters': 23, 'kernel_size': 2, 'pool_size': 4, 'filters2': 116, 'kernel_size2': 5, 'pool_size2': 2, 'units': 124, 'dropout_rate': 0.38045821462438467, 'optimizer': 'rmsprop', 'epochs': 48, 'batch_size': 164}. Best is trial 7 with value: 0.8496254988782487.\n"
     ]
    },
    {
     "name": "stdout",
     "output_type": "stream",
     "text": [
      "\u001b[1m266/266\u001b[0m \u001b[32m━━━━━━━━━━━━━━━━━━━━\u001b[0m\u001b[37m\u001b[0m \u001b[1m6s\u001b[0m 21ms/step\n",
      "\u001b[1m266/266\u001b[0m \u001b[32m━━━━━━━━━━━━━━━━━━━━\u001b[0m\u001b[37m\u001b[0m \u001b[1m6s\u001b[0m 20ms/step\n",
      "\u001b[1m266/266\u001b[0m \u001b[32m━━━━━━━━━━━━━━━━━━━━\u001b[0m\u001b[37m\u001b[0m \u001b[1m7s\u001b[0m 23ms/step\n",
      "\u001b[1m266/266\u001b[0m \u001b[32m━━━━━━━━━━━━━━━━━━━━\u001b[0m\u001b[37m\u001b[0m \u001b[1m8s\u001b[0m 26ms/step\n",
      "\u001b[1m266/266\u001b[0m \u001b[32m━━━━━━━━━━━━━━━━━━━━\u001b[0m\u001b[37m\u001b[0m \u001b[1m6s\u001b[0m 22ms/step\n"
     ]
    },
    {
     "name": "stderr",
     "output_type": "stream",
     "text": [
      "[I 2024-07-02 04:52:15,876] Trial 16 finished with value: 0.8444412236623969 and parameters: {'filters': 121, 'kernel_size': 5, 'pool_size': 2, 'filters2': 22, 'kernel_size2': 2, 'pool_size2': 2, 'units': 254, 'dropout_rate': 0.20863951788129412, 'optimizer': 'rmsprop', 'epochs': 48, 'batch_size': 63}. Best is trial 7 with value: 0.8496254988782487.\n"
     ]
    },
    {
     "name": "stdout",
     "output_type": "stream",
     "text": [
      "\u001b[1m266/266\u001b[0m \u001b[32m━━━━━━━━━━━━━━━━━━━━\u001b[0m\u001b[37m\u001b[0m \u001b[1m7s\u001b[0m 23ms/step\n",
      "\u001b[1m266/266\u001b[0m \u001b[32m━━━━━━━━━━━━━━━━━━━━\u001b[0m\u001b[37m\u001b[0m \u001b[1m8s\u001b[0m 29ms/step\n",
      "\u001b[1m266/266\u001b[0m \u001b[32m━━━━━━━━━━━━━━━━━━━━\u001b[0m\u001b[37m\u001b[0m \u001b[1m9s\u001b[0m 31ms/step\n",
      "\u001b[1m266/266\u001b[0m \u001b[32m━━━━━━━━━━━━━━━━━━━━\u001b[0m\u001b[37m\u001b[0m \u001b[1m8s\u001b[0m 27ms/step\n",
      "\u001b[1m266/266\u001b[0m \u001b[32m━━━━━━━━━━━━━━━━━━━━\u001b[0m\u001b[37m\u001b[0m \u001b[1m8s\u001b[0m 27ms/step\n",
      "\u001b[1m266/266\u001b[0m \u001b[32m━━━━━━━━━━━━━━━━━━━━\u001b[0m\u001b[37m\u001b[0m \u001b[1m9s\u001b[0m 31ms/step\n",
      "\u001b[1m266/266\u001b[0m \u001b[32m━━━━━━━━━━━━━━━━━━━━\u001b[0m\u001b[37m\u001b[0m \u001b[1m6s\u001b[0m 21ms/step\n"
     ]
    },
    {
     "name": "stderr",
     "output_type": "stream",
     "text": [
      "[I 2024-07-02 04:57:18,830] Trial 18 finished with value: 0.8548464101024509 and parameters: {'filters': 127, 'kernel_size': 3, 'pool_size': 2, 'filters2': 92, 'kernel_size2': 3, 'pool_size2': 2, 'units': 163, 'dropout_rate': 0.20130686821548316, 'optimizer': 'adam', 'epochs': 47, 'batch_size': 256}. Best is trial 18 with value: 0.8548464101024509.\n"
     ]
    },
    {
     "name": "stdout",
     "output_type": "stream",
     "text": [
      "\u001b[1m266/266\u001b[0m \u001b[32m━━━━━━━━━━━━━━━━━━━━\u001b[0m\u001b[37m\u001b[0m \u001b[1m8s\u001b[0m 29ms/step\n",
      "\u001b[1m266/266\u001b[0m \u001b[32m━━━━━━━━━━━━━━━━━━━━\u001b[0m\u001b[37m\u001b[0m \u001b[1m6s\u001b[0m 19ms/step\n",
      "\u001b[1m 58/266\u001b[0m \u001b[32m━━━━\u001b[0m\u001b[37m━━━━━━━━━━━━━━━━\u001b[0m \u001b[1m4s\u001b[0m 23ms/step"
     ]
    },
    {
     "name": "stderr",
     "output_type": "stream",
     "text": [
      "[I 2024-07-02 04:58:28,433] Trial 17 finished with value: 0.8255804559147402 and parameters: {'filters': 128, 'kernel_size': 3, 'pool_size': 4, 'filters2': 90, 'kernel_size2': 3, 'pool_size2': 2, 'units': 176, 'dropout_rate': 0.20671264802679315, 'optimizer': 'adam', 'epochs': 47, 'batch_size': 59}. Best is trial 18 with value: 0.8548464101024509.\n"
     ]
    },
    {
     "name": "stdout",
     "output_type": "stream",
     "text": [
      "\u001b[1m266/266\u001b[0m \u001b[32m━━━━━━━━━━━━━━━━━━━━\u001b[0m\u001b[37m\u001b[0m \u001b[1m7s\u001b[0m 27ms/step\n"
     ]
    },
    {
     "name": "stderr",
     "output_type": "stream",
     "text": [
      "[I 2024-07-02 04:58:34,572] Trial 15 finished with value: 0.8466387943991124 and parameters: {'filters': 124, 'kernel_size': 3, 'pool_size': 2, 'filters2': 118, 'kernel_size2': 5, 'pool_size2': 2, 'units': 165, 'dropout_rate': 0.2172191704235863, 'optimizer': 'adam', 'epochs': 48, 'batch_size': 47}. Best is trial 18 with value: 0.8548464101024509.\n"
     ]
    },
    {
     "name": "stdout",
     "output_type": "stream",
     "text": [
      "\u001b[1m266/266\u001b[0m \u001b[32m━━━━━━━━━━━━━━━━━━━━\u001b[0m\u001b[37m\u001b[0m \u001b[1m9s\u001b[0m 32ms/step\n",
      "\u001b[1m266/266\u001b[0m \u001b[32m━━━━━━━━━━━━━━━━━━━━\u001b[0m\u001b[37m\u001b[0m \u001b[1m10s\u001b[0m 37ms/step\n",
      "\u001b[1m266/266\u001b[0m \u001b[32m━━━━━━━━━━━━━━━━━━━━\u001b[0m\u001b[37m\u001b[0m \u001b[1m10s\u001b[0m 35ms/step\n"
     ]
    },
    {
     "name": "stderr",
     "output_type": "stream",
     "text": [
      "[I 2024-07-02 05:01:15,105] Trial 20 finished with value: 0.8537119775262068 and parameters: {'filters': 128, 'kernel_size': 3, 'pool_size': 2, 'filters2': 88, 'kernel_size2': 3, 'pool_size2': 2, 'units': 177, 'dropout_rate': 0.2029981573799472, 'optimizer': 'adam', 'epochs': 41, 'batch_size': 66}. Best is trial 18 with value: 0.8548464101024509.\n"
     ]
    },
    {
     "name": "stdout",
     "output_type": "stream",
     "text": [
      "\u001b[1m266/266\u001b[0m \u001b[32m━━━━━━━━━━━━━━━━━━━━\u001b[0m\u001b[37m\u001b[0m \u001b[1m10s\u001b[0m 34ms/step\n",
      "\u001b[1m266/266\u001b[0m \u001b[32m━━━━━━━━━━━━━━━━━━━━\u001b[0m\u001b[37m\u001b[0m \u001b[1m8s\u001b[0m 29ms/step\n",
      "\u001b[1m266/266\u001b[0m \u001b[32m━━━━━━━━━━━━━━━━━━━━\u001b[0m\u001b[37m\u001b[0m \u001b[1m7s\u001b[0m 25ms/step\n",
      "\u001b[1m266/266\u001b[0m \u001b[32m━━━━━━━━━━━━━━━━━━━━\u001b[0m\u001b[37m\u001b[0m \u001b[1m6s\u001b[0m 20ms/step\n"
     ]
    },
    {
     "name": "stderr",
     "output_type": "stream",
     "text": [
      "[I 2024-07-02 05:04:27,274] Trial 19 finished with value: 0.8420796347273817 and parameters: {'filters': 128, 'kernel_size': 3, 'pool_size': 2, 'filters2': 90, 'kernel_size2': 3, 'pool_size2': 2, 'units': 182, 'dropout_rate': 0.20471472477519714, 'optimizer': 'adam', 'epochs': 45, 'batch_size': 32}. Best is trial 18 with value: 0.8548464101024509.\n"
     ]
    },
    {
     "name": "stdout",
     "output_type": "stream",
     "text": [
      "\u001b[1m266/266\u001b[0m \u001b[32m━━━━━━━━━━━━━━━━━━━━\u001b[0m\u001b[37m\u001b[0m \u001b[1m6s\u001b[0m 20ms/step\n",
      "\u001b[1m266/266\u001b[0m \u001b[32m━━━━━━━━━━━━━━━━━━━━\u001b[0m\u001b[37m\u001b[0m \u001b[1m7s\u001b[0m 23ms/step\n"
     ]
    },
    {
     "name": "stderr",
     "output_type": "stream",
     "text": [
      "[I 2024-07-02 05:04:50,367] Trial 22 finished with value: 0.8172637954715362 and parameters: {'filters': 100, 'kernel_size': 3, 'pool_size': 2, 'filters2': 86, 'kernel_size2': 3, 'pool_size2': 2, 'units': 218, 'dropout_rate': 0.31372999146942215, 'optimizer': 'adam', 'epochs': 10, 'batch_size': 251}. Best is trial 18 with value: 0.8548464101024509.\n"
     ]
    },
    {
     "name": "stdout",
     "output_type": "stream",
     "text": [
      "\u001b[1m266/266\u001b[0m \u001b[32m━━━━━━━━━━━━━━━━━━━━\u001b[0m\u001b[37m\u001b[0m \u001b[1m12s\u001b[0m 42ms/step\n",
      "\u001b[1m266/266\u001b[0m \u001b[32m━━━━━━━━━━━━━━━━━━━━\u001b[0m\u001b[37m\u001b[0m \u001b[1m9s\u001b[0m 32ms/step\n",
      "\u001b[1m266/266\u001b[0m \u001b[32m━━━━━━━━━━━━━━━━━━━━\u001b[0m\u001b[37m\u001b[0m \u001b[1m11s\u001b[0m 41ms/step\n"
     ]
    },
    {
     "name": "stderr",
     "output_type": "stream",
     "text": [
      "[I 2024-07-02 05:07:06,074] Trial 21 finished with value: 0.8407490595307263 and parameters: {'filters': 103, 'kernel_size': 3, 'pool_size': 2, 'filters2': 85, 'kernel_size2': 2, 'pool_size2': 2, 'units': 252, 'dropout_rate': 0.20575787452887037, 'optimizer': 'rmsprop', 'epochs': 49, 'batch_size': 46}. Best is trial 18 with value: 0.8548464101024509.\n"
     ]
    },
    {
     "name": "stdout",
     "output_type": "stream",
     "text": [
      "\u001b[1m266/266\u001b[0m \u001b[32m━━━━━━━━━━━━━━━━━━━━\u001b[0m\u001b[37m\u001b[0m \u001b[1m13s\u001b[0m 47ms/step\n"
     ]
    },
    {
     "name": "stderr",
     "output_type": "stream",
     "text": [
      "[I 2024-07-02 05:08:15,826] Trial 24 finished with value: 0.8281075552071956 and parameters: {'filters': 102, 'kernel_size': 3, 'pool_size': 2, 'filters2': 82, 'kernel_size2': 3, 'pool_size2': 2, 'units': 222, 'dropout_rate': 0.30239026684313935, 'optimizer': 'adam', 'epochs': 11, 'batch_size': 252}. Best is trial 18 with value: 0.8548464101024509.\n"
     ]
    },
    {
     "name": "stdout",
     "output_type": "stream",
     "text": [
      "\u001b[1m266/266\u001b[0m \u001b[32m━━━━━━━━━━━━━━━━━━━━\u001b[0m\u001b[37m\u001b[0m \u001b[1m12s\u001b[0m 40ms/step\n",
      "\u001b[1m266/266\u001b[0m \u001b[32m━━━━━━━━━━━━━━━━━━━━\u001b[0m\u001b[37m\u001b[0m \u001b[1m10s\u001b[0m 34ms/step\n",
      "\u001b[1m266/266\u001b[0m \u001b[32m━━━━━━━━━━━━━━━━━━━━\u001b[0m\u001b[37m\u001b[0m \u001b[1m11s\u001b[0m 40ms/step\n"
     ]
    },
    {
     "name": "stderr",
     "output_type": "stream",
     "text": [
      "[I 2024-07-02 05:11:54,601] Trial 23 finished with value: 0.8488588138584138 and parameters: {'filters': 101, 'kernel_size': 3, 'pool_size': 2, 'filters2': 82, 'kernel_size2': 3, 'pool_size2': 2, 'units': 225, 'dropout_rate': 0.3039084991385882, 'optimizer': 'adam', 'epochs': 30, 'batch_size': 255}. Best is trial 18 with value: 0.8548464101024509.\n"
     ]
    },
    {
     "name": "stdout",
     "output_type": "stream",
     "text": [
      "\u001b[1m266/266\u001b[0m \u001b[32m━━━━━━━━━━━━━━━━━━━━\u001b[0m\u001b[37m\u001b[0m \u001b[1m9s\u001b[0m 32ms/step\n",
      "\u001b[1m266/266\u001b[0m \u001b[32m━━━━━━━━━━━━━━━━━━━━\u001b[0m\u001b[37m\u001b[0m \u001b[1m9s\u001b[0m 31ms/step\n",
      "\u001b[1m266/266\u001b[0m \u001b[32m━━━━━━━━━━━━━━━━━━━━\u001b[0m\u001b[37m\u001b[0m \u001b[1m9s\u001b[0m 34ms/step\n",
      "\u001b[1m266/266\u001b[0m \u001b[32m━━━━━━━━━━━━━━━━━━━━\u001b[0m\u001b[37m\u001b[0m \u001b[1m8s\u001b[0m 30ms/step\n",
      "\u001b[1m266/266\u001b[0m \u001b[32m━━━━━━━━━━━━━━━━━━━━\u001b[0m\u001b[37m\u001b[0m \u001b[1m11s\u001b[0m 39ms/step\n",
      "\u001b[1m266/266\u001b[0m \u001b[32m━━━━━━━━━━━━━━━━━━━━\u001b[0m\u001b[37m\u001b[0m \u001b[1m9s\u001b[0m 32ms/step\n",
      "\u001b[1m266/266\u001b[0m \u001b[32m━━━━━━━━━━━━━━━━━━━━\u001b[0m\u001b[37m\u001b[0m \u001b[1m9s\u001b[0m 31ms/step\n",
      "\u001b[1m266/266\u001b[0m \u001b[32m━━━━━━━━━━━━━━━━━━━━\u001b[0m\u001b[37m\u001b[0m \u001b[1m8s\u001b[0m 26ms/step\n"
     ]
    },
    {
     "name": "stderr",
     "output_type": "stream",
     "text": [
      "[I 2024-07-02 05:17:33,679] Trial 25 finished with value: 0.8461621870037422 and parameters: {'filters': 109, 'kernel_size': 3, 'pool_size': 2, 'filters2': 81, 'kernel_size2': 3, 'pool_size2': 3, 'units': 211, 'dropout_rate': 0.3191422743340663, 'optimizer': 'adam', 'epochs': 42, 'batch_size': 251}. Best is trial 18 with value: 0.8548464101024509.\n"
     ]
    },
    {
     "name": "stdout",
     "output_type": "stream",
     "text": [
      "\u001b[1m266/266\u001b[0m \u001b[32m━━━━━━━━━━━━━━━━━━━━\u001b[0m\u001b[37m\u001b[0m \u001b[1m9s\u001b[0m 32ms/step\n"
     ]
    },
    {
     "name": "stderr",
     "output_type": "stream",
     "text": [
      "[I 2024-07-02 05:19:16,741] Trial 26 finished with value: 0.848504070312682 and parameters: {'filters': 105, 'kernel_size': 4, 'pool_size': 2, 'filters2': 82, 'kernel_size2': 3, 'pool_size2': 2, 'units': 218, 'dropout_rate': 0.30047286791448763, 'optimizer': 'adam', 'epochs': 43, 'batch_size': 248}. Best is trial 18 with value: 0.8548464101024509.\n"
     ]
    },
    {
     "name": "stdout",
     "output_type": "stream",
     "text": [
      "\u001b[1m266/266\u001b[0m \u001b[32m━━━━━━━━━━━━━━━━━━━━\u001b[0m\u001b[37m\u001b[0m \u001b[1m8s\u001b[0m 26ms/step\n"
     ]
    },
    {
     "name": "stderr",
     "output_type": "stream",
     "text": [
      "[I 2024-07-02 05:20:16,323] Trial 27 finished with value: 0.8618945791353747 and parameters: {'filters': 105, 'kernel_size': 4, 'pool_size': 2, 'filters2': 79, 'kernel_size2': 3, 'pool_size2': 2, 'units': 219, 'dropout_rate': 0.28897492290973636, 'optimizer': 'adam', 'epochs': 42, 'batch_size': 239}. Best is trial 27 with value: 0.8618945791353747.\n"
     ]
    },
    {
     "name": "stdout",
     "output_type": "stream",
     "text": [
      "\u001b[1m266/266\u001b[0m \u001b[32m━━━━━━━━━━━━━━━━━━━━\u001b[0m\u001b[37m\u001b[0m \u001b[1m6s\u001b[0m 21ms/step\n",
      "\u001b[1m266/266\u001b[0m \u001b[32m━━━━━━━━━━━━━━━━━━━━\u001b[0m\u001b[37m\u001b[0m \u001b[1m7s\u001b[0m 25ms/step\n",
      "\u001b[1m266/266\u001b[0m \u001b[32m━━━━━━━━━━━━━━━━━━━━\u001b[0m\u001b[37m\u001b[0m \u001b[1m7s\u001b[0m 25ms/step\n"
     ]
    },
    {
     "name": "stderr",
     "output_type": "stream",
     "text": [
      "[I 2024-07-02 05:21:59,353] Trial 28 finished with value: 0.8614810539173577 and parameters: {'filters': 108, 'kernel_size': 4, 'pool_size': 2, 'filters2': 76, 'kernel_size2': 3, 'pool_size2': 2, 'units': 225, 'dropout_rate': 0.2979082685585368, 'optimizer': 'adam', 'epochs': 42, 'batch_size': 255}. Best is trial 27 with value: 0.8618945791353747.\n"
     ]
    },
    {
     "name": "stdout",
     "output_type": "stream",
     "text": [
      "\u001b[1m266/266\u001b[0m \u001b[32m━━━━━━━━━━━━━━━━━━━━\u001b[0m\u001b[37m\u001b[0m \u001b[1m6s\u001b[0m 21ms/step\n",
      "\u001b[1m266/266\u001b[0m \u001b[32m━━━━━━━━━━━━━━━━━━━━\u001b[0m\u001b[37m\u001b[0m \u001b[1m6s\u001b[0m 21ms/step\n",
      "\u001b[1m266/266\u001b[0m \u001b[32m━━━━━━━━━━━━━━━━━━━━\u001b[0m\u001b[37m\u001b[0m \u001b[1m5s\u001b[0m 17ms/step\n",
      "\u001b[1m266/266\u001b[0m \u001b[32m━━━━━━━━━━━━━━━━━━━━\u001b[0m\u001b[37m\u001b[0m \u001b[1m7s\u001b[0m 23ms/step\n"
     ]
    },
    {
     "name": "stderr",
     "output_type": "stream",
     "text": [
      "[I 2024-07-02 05:25:06,227] Trial 30 finished with value: 0.8317917791172594 and parameters: {'filters': 84, 'kernel_size': 4, 'pool_size': 3, 'filters2': 97, 'kernel_size2': 4, 'pool_size2': 3, 'units': 152, 'dropout_rate': 0.2356934956851179, 'optimizer': 'adam', 'epochs': 42, 'batch_size': 86}. Best is trial 27 with value: 0.8618945791353747.\n"
     ]
    },
    {
     "name": "stdout",
     "output_type": "stream",
     "text": [
      "\u001b[1m266/266\u001b[0m \u001b[32m━━━━━━━━━━━━━━━━━━━━\u001b[0m\u001b[37m\u001b[0m \u001b[1m7s\u001b[0m 23ms/step\n"
     ]
    },
    {
     "name": "stderr",
     "output_type": "stream",
     "text": [
      "[I 2024-07-02 05:25:15,617] Trial 29 finished with value: 0.847857244706793 and parameters: {'filters': 89, 'kernel_size': 4, 'pool_size': 2, 'filters2': 97, 'kernel_size2': 4, 'pool_size2': 3, 'units': 152, 'dropout_rate': 0.2336885650871256, 'optimizer': 'adam', 'epochs': 42, 'batch_size': 88}. Best is trial 27 with value: 0.8618945791353747.\n"
     ]
    },
    {
     "name": "stdout",
     "output_type": "stream",
     "text": [
      "\u001b[1m266/266\u001b[0m \u001b[32m━━━━━━━━━━━━━━━━━━━━\u001b[0m\u001b[37m\u001b[0m \u001b[1m8s\u001b[0m 29ms/step\n",
      "\u001b[1m266/266\u001b[0m \u001b[32m━━━━━━━━━━━━━━━━━━━━\u001b[0m\u001b[37m\u001b[0m \u001b[1m8s\u001b[0m 29ms/step\n",
      "\u001b[1m266/266\u001b[0m \u001b[32m━━━━━━━━━━━━━━━━━━━━\u001b[0m\u001b[37m\u001b[0m \u001b[1m7s\u001b[0m 25ms/step\n",
      "\u001b[1m266/266\u001b[0m \u001b[32m━━━━━━━━━━━━━━━━━━━━\u001b[0m\u001b[37m\u001b[0m \u001b[1m8s\u001b[0m 28ms/step\n",
      "\u001b[1m266/266\u001b[0m \u001b[32m━━━━━━━━━━━━━━━━━━━━\u001b[0m\u001b[37m\u001b[0m \u001b[1m7s\u001b[0m 26ms/step\n",
      "\u001b[1m266/266\u001b[0m \u001b[32m━━━━━━━━━━━━━━━━━━━━\u001b[0m\u001b[37m\u001b[0m \u001b[1m8s\u001b[0m 29ms/step\n",
      "\u001b[1m266/266\u001b[0m \u001b[32m━━━━━━━━━━━━━━━━━━━━\u001b[0m\u001b[37m\u001b[0m \u001b[1m6s\u001b[0m 20ms/step\n"
     ]
    },
    {
     "name": "stderr",
     "output_type": "stream",
     "text": [
      "[I 2024-07-02 05:30:40,199] Trial 31 finished with value: 0.84247946728386 and parameters: {'filters': 83, 'kernel_size': 4, 'pool_size': 3, 'filters2': 97, 'kernel_size2': 4, 'pool_size2': 2, 'units': 157, 'dropout_rate': 0.23627122648369422, 'optimizer': 'adam', 'epochs': 41, 'batch_size': 85}. Best is trial 27 with value: 0.8618945791353747.\n"
     ]
    },
    {
     "name": "stdout",
     "output_type": "stream",
     "text": [
      "\u001b[1m266/266\u001b[0m \u001b[32m━━━━━━━━━━━━━━━━━━━━\u001b[0m\u001b[37m\u001b[0m \u001b[1m9s\u001b[0m 32ms/step\n",
      "\u001b[1m266/266\u001b[0m \u001b[32m━━━━━━━━━━━━━━━━━━━━\u001b[0m\u001b[37m\u001b[0m \u001b[1m9s\u001b[0m 30ms/step\n",
      "\u001b[1m266/266\u001b[0m \u001b[32m━━━━━━━━━━━━━━━━━━━━\u001b[0m\u001b[37m\u001b[0m \u001b[1m8s\u001b[0m 29ms/step\n",
      "\u001b[1m266/266\u001b[0m \u001b[32m━━━━━━━━━━━━━━━━━━━━\u001b[0m\u001b[37m\u001b[0m \u001b[1m10s\u001b[0m 35ms/step\n"
     ]
    },
    {
     "name": "stderr",
     "output_type": "stream",
     "text": [
      "[I 2024-07-02 05:35:04,201] Trial 32 finished with value: 0.8406084408848938 and parameters: {'filters': 85, 'kernel_size': 4, 'pool_size': 3, 'filters2': 97, 'kernel_size2': 4, 'pool_size2': 3, 'units': 153, 'dropout_rate': 0.236998657850565, 'optimizer': 'adam', 'epochs': 42, 'batch_size': 80}. Best is trial 27 with value: 0.8618945791353747.\n"
     ]
    },
    {
     "name": "stdout",
     "output_type": "stream",
     "text": [
      "\u001b[1m266/266\u001b[0m \u001b[32m━━━━━━━━━━━━━━━━━━━━\u001b[0m\u001b[37m\u001b[0m \u001b[1m11s\u001b[0m 38ms/step\n",
      "\u001b[1m266/266\u001b[0m \u001b[32m━━━━━━━━━━━━━━━━━━━━\u001b[0m\u001b[37m\u001b[0m \u001b[1m10s\u001b[0m 34ms/step\n"
     ]
    },
    {
     "name": "stderr",
     "output_type": "stream",
     "text": [
      "[I 2024-07-02 05:36:26,451] Trial 33 finished with value: 0.8435862790427722 and parameters: {'filters': 87, 'kernel_size': 4, 'pool_size': 3, 'filters2': 68, 'kernel_size2': 2, 'pool_size2': 3, 'units': 155, 'dropout_rate': 0.23399836544694966, 'optimizer': 'adam', 'epochs': 40, 'batch_size': 217}. Best is trial 27 with value: 0.8618945791353747.\n"
     ]
    },
    {
     "name": "stdout",
     "output_type": "stream",
     "text": [
      "\u001b[1m266/266\u001b[0m \u001b[32m━━━━━━━━━━━━━━━━━━━━\u001b[0m\u001b[37m\u001b[0m \u001b[1m11s\u001b[0m 38ms/step\n"
     ]
    },
    {
     "name": "stderr",
     "output_type": "stream",
     "text": [
      "[I 2024-07-02 05:37:20,670] Trial 34 finished with value: 0.8424388372791972 and parameters: {'filters': 87, 'kernel_size': 4, 'pool_size': 3, 'filters2': 105, 'kernel_size2': 2, 'pool_size2': 3, 'units': 196, 'dropout_rate': 0.2779050848259045, 'optimizer': 'adam', 'epochs': 39, 'batch_size': 228}. Best is trial 27 with value: 0.8618945791353747.\n"
     ]
    },
    {
     "name": "stdout",
     "output_type": "stream",
     "text": [
      "\u001b[1m266/266\u001b[0m \u001b[32m━━━━━━━━━━━━━━━━━━━━\u001b[0m\u001b[37m\u001b[0m \u001b[1m12s\u001b[0m 43ms/step\n",
      "\u001b[1m266/266\u001b[0m \u001b[32m━━━━━━━━━━━━━━━━━━━━\u001b[0m\u001b[37m\u001b[0m \u001b[1m13s\u001b[0m 46ms/step\n",
      "\u001b[1m266/266\u001b[0m \u001b[32m━━━━━━━━━━━━━━━━━━━━\u001b[0m\u001b[37m\u001b[0m \u001b[1m12s\u001b[0m 43ms/step\n",
      "\u001b[1m266/266\u001b[0m \u001b[32m━━━━━━━━━━━━━━━━━━━━\u001b[0m\u001b[37m\u001b[0m \u001b[1m14s\u001b[0m 51ms/step\n",
      "\u001b[1m266/266\u001b[0m \u001b[32m━━━━━━━━━━━━━━━━━━━━\u001b[0m\u001b[37m\u001b[0m \u001b[1m13s\u001b[0m 46ms/step\n"
     ]
    },
    {
     "name": "stderr",
     "output_type": "stream",
     "text": [
      "[I 2024-07-02 05:42:48,440] Trial 36 finished with value: 0.8603432878722179 and parameters: {'filters': 116, 'kernel_size': 4, 'pool_size': 2, 'filters2': 108, 'kernel_size2': 2, 'pool_size2': 2, 'units': 200, 'dropout_rate': 0.2769092719010992, 'optimizer': 'adam', 'epochs': 38, 'batch_size': 229}. Best is trial 27 with value: 0.8618945791353747.\n"
     ]
    },
    {
     "name": "stdout",
     "output_type": "stream",
     "text": [
      "\u001b[1m266/266\u001b[0m \u001b[32m━━━━━━━━━━━━━━━━━━━━\u001b[0m\u001b[37m\u001b[0m \u001b[1m11s\u001b[0m 40ms/step\n"
     ]
    },
    {
     "name": "stderr",
     "output_type": "stream",
     "text": [
      "[I 2024-07-02 05:43:16,522] Trial 35 finished with value: 0.8100311184622718 and parameters: {'filters': 114, 'kernel_size': 4, 'pool_size': 3, 'filters2': 108, 'kernel_size2': 2, 'pool_size2': 4, 'units': 197, 'dropout_rate': 0.28203879043281677, 'optimizer': 'adam', 'epochs': 39, 'batch_size': 230}. Best is trial 27 with value: 0.8618945791353747.\n"
     ]
    },
    {
     "name": "stdout",
     "output_type": "stream",
     "text": [
      "\u001b[1m266/266\u001b[0m \u001b[32m━━━━━━━━━━━━━━━━━━━━\u001b[0m\u001b[37m\u001b[0m \u001b[1m14s\u001b[0m 51ms/step\n",
      "\u001b[1m266/266\u001b[0m \u001b[32m━━━━━━━━━━━━━━━━━━━━\u001b[0m\u001b[37m\u001b[0m \u001b[1m14s\u001b[0m 52ms/step\n"
     ]
    },
    {
     "name": "stderr",
     "output_type": "stream",
     "text": [
      "[I 2024-07-02 05:46:59,367] Trial 37 finished with value: 0.8475285381206215 and parameters: {'filters': 114, 'kernel_size': 2, 'pool_size': 2, 'filters2': 107, 'kernel_size2': 2, 'pool_size2': 2, 'units': 190, 'dropout_rate': 0.2868688922929622, 'optimizer': 'adam', 'epochs': 39, 'batch_size': 233}. Best is trial 27 with value: 0.8618945791353747.\n"
     ]
    },
    {
     "name": "stdout",
     "output_type": "stream",
     "text": [
      "\u001b[1m266/266\u001b[0m \u001b[32m━━━━━━━━━━━━━━━━━━━━\u001b[0m\u001b[37m\u001b[0m \u001b[1m12s\u001b[0m 41ms/step\n",
      "\u001b[1m266/266\u001b[0m \u001b[32m━━━━━━━━━━━━━━━━━━━━\u001b[0m\u001b[37m\u001b[0m \u001b[1m12s\u001b[0m 44ms/step\n",
      "\u001b[1m266/266\u001b[0m \u001b[32m━━━━━━━━━━━━━━━━━━━━\u001b[0m\u001b[37m\u001b[0m \u001b[1m13s\u001b[0m 46ms/step\n",
      "\u001b[1m266/266\u001b[0m \u001b[32m━━━━━━━━━━━━━━━━━━━━\u001b[0m\u001b[37m\u001b[0m \u001b[1m13s\u001b[0m 47ms/step\n",
      "\u001b[1m266/266\u001b[0m \u001b[32m━━━━━━━━━━━━━━━━━━━━\u001b[0m\u001b[37m\u001b[0m \u001b[1m12s\u001b[0m 42ms/step\n"
     ]
    },
    {
     "name": "stderr",
     "output_type": "stream",
     "text": [
      "[I 2024-07-02 05:52:10,091] Trial 38 finished with value: 0.8482137534816506 and parameters: {'filters': 113, 'kernel_size': 2, 'pool_size': 2, 'filters2': 71, 'kernel_size2': 2, 'pool_size2': 2, 'units': 195, 'dropout_rate': 0.2760334598571279, 'optimizer': 'adam', 'epochs': 38, 'batch_size': 229}. Best is trial 27 with value: 0.8618945791353747.\n"
     ]
    },
    {
     "name": "stdout",
     "output_type": "stream",
     "text": [
      "\u001b[1m266/266\u001b[0m \u001b[32m━━━━━━━━━━━━━━━━━━━━\u001b[0m\u001b[37m\u001b[0m \u001b[1m14s\u001b[0m 50ms/step\n",
      "\u001b[1m266/266\u001b[0m \u001b[32m━━━━━━━━━━━━━━━━━━━━\u001b[0m\u001b[37m\u001b[0m \u001b[1m13s\u001b[0m 46ms/step\n"
     ]
    },
    {
     "name": "stderr",
     "output_type": "stream",
     "text": [
      "[I 2024-07-02 05:53:57,369] Trial 39 finished with value: 0.8480272601710431 and parameters: {'filters': 113, 'kernel_size': 2, 'pool_size': 2, 'filters2': 73, 'kernel_size2': 3, 'pool_size2': 2, 'units': 195, 'dropout_rate': 0.27360919590348853, 'optimizer': 'adam', 'epochs': 39, 'batch_size': 235}. Best is trial 27 with value: 0.8618945791353747.\n"
     ]
    },
    {
     "name": "stdout",
     "output_type": "stream",
     "text": [
      "\u001b[1m266/266\u001b[0m \u001b[32m━━━━━━━━━━━━━━━━━━━━\u001b[0m\u001b[37m\u001b[0m \u001b[1m11s\u001b[0m 39ms/step\n"
     ]
    },
    {
     "name": "stderr",
     "output_type": "stream",
     "text": [
      "[I 2024-07-02 05:54:23,917] Trial 40 finished with value: 0.8481574764713123 and parameters: {'filters': 114, 'kernel_size': 2, 'pool_size': 2, 'filters2': 110, 'kernel_size2': 3, 'pool_size2': 2, 'units': 193, 'dropout_rate': 0.27402089002452323, 'optimizer': 'adam', 'epochs': 37, 'batch_size': 234}. Best is trial 27 with value: 0.8618945791353747.\n"
     ]
    },
    {
     "name": "stdout",
     "output_type": "stream",
     "text": [
      "\u001b[1m266/266\u001b[0m \u001b[32m━━━━━━━━━━━━━━━━━━━━\u001b[0m\u001b[37m\u001b[0m \u001b[1m14s\u001b[0m 52ms/step\n",
      "\u001b[1m266/266\u001b[0m \u001b[32m━━━━━━━━━━━━━━━━━━━━\u001b[0m\u001b[37m\u001b[0m \u001b[1m13s\u001b[0m 49ms/step\n",
      "\u001b[1m266/266\u001b[0m \u001b[32m━━━━━━━━━━━━━━━━━━━━\u001b[0m\u001b[37m\u001b[0m \u001b[1m11s\u001b[0m 39ms/step\n",
      "\u001b[1m266/266\u001b[0m \u001b[32m━━━━━━━━━━━━━━━━━━━━\u001b[0m\u001b[37m\u001b[0m \u001b[1m15s\u001b[0m 54ms/step\n",
      "\u001b[1m266/266\u001b[0m \u001b[32m━━━━━━━━━━━━━━━━━━━━\u001b[0m\u001b[37m\u001b[0m \u001b[1m14s\u001b[0m 51ms/step\n",
      "\u001b[1m266/266\u001b[0m \u001b[32m━━━━━━━━━━━━━━━━━━━━\u001b[0m\u001b[37m\u001b[0m \u001b[1m12s\u001b[0m 44ms/step\n",
      "\u001b[1m266/266\u001b[0m \u001b[32m━━━━━━━━━━━━━━━━━━━━\u001b[0m\u001b[37m\u001b[0m \u001b[1m14s\u001b[0m 51ms/step\n"
     ]
    },
    {
     "name": "stderr",
     "output_type": "stream",
     "text": [
      "[I 2024-07-02 06:01:50,567] Trial 42 finished with value: 0.8508317733257863 and parameters: {'filters': 113, 'kernel_size': 5, 'pool_size': 2, 'filters2': 127, 'kernel_size2': 2, 'pool_size2': 2, 'units': 234, 'dropout_rate': 0.3299195058232611, 'optimizer': 'adam', 'epochs': 36, 'batch_size': 237}. Best is trial 27 with value: 0.8618945791353747.\n"
     ]
    },
    {
     "name": "stdout",
     "output_type": "stream",
     "text": [
      "\u001b[1m266/266\u001b[0m \u001b[32m━━━━━━━━━━━━━━━━━━━━\u001b[0m\u001b[37m\u001b[0m \u001b[1m8s\u001b[0m 29ms/step\n"
     ]
    },
    {
     "name": "stderr",
     "output_type": "stream",
     "text": [
      "[I 2024-07-02 06:03:29,247] Trial 41 finished with value: 0.8359466028116381 and parameters: {'filters': 113, 'kernel_size': 4, 'pool_size': 2, 'filters2': 125, 'kernel_size2': 2, 'pool_size2': 4, 'units': 196, 'dropout_rate': 0.27891419030725295, 'optimizer': 'adam', 'epochs': 45, 'batch_size': 235}. Best is trial 27 with value: 0.8618945791353747.\n"
     ]
    },
    {
     "name": "stdout",
     "output_type": "stream",
     "text": [
      "\u001b[1m266/266\u001b[0m \u001b[32m━━━━━━━━━━━━━━━━━━━━\u001b[0m\u001b[37m\u001b[0m \u001b[1m11s\u001b[0m 38ms/step\n"
     ]
    },
    {
     "name": "stderr",
     "output_type": "stream",
     "text": [
      "[I 2024-07-02 06:05:53,913] Trial 43 finished with value: 0.8566039207545204 and parameters: {'filters': 113, 'kernel_size': 5, 'pool_size': 2, 'filters2': 76, 'kernel_size2': 2, 'pool_size2': 2, 'units': 234, 'dropout_rate': 0.3684008898291414, 'optimizer': 'adam', 'epochs': 45, 'batch_size': 194}. Best is trial 27 with value: 0.8618945791353747.\n"
     ]
    },
    {
     "name": "stdout",
     "output_type": "stream",
     "text": [
      "\u001b[1m266/266\u001b[0m \u001b[32m━━━━━━━━━━━━━━━━━━━━\u001b[0m\u001b[37m\u001b[0m \u001b[1m10s\u001b[0m 36ms/step\n",
      "\u001b[1m266/266\u001b[0m \u001b[32m━━━━━━━━━━━━━━━━━━━━\u001b[0m\u001b[37m\u001b[0m \u001b[1m9s\u001b[0m 33ms/step\n",
      "\u001b[1m266/266\u001b[0m \u001b[32m━━━━━━━━━━━━━━━━━━━━\u001b[0m\u001b[37m\u001b[0m \u001b[1m12s\u001b[0m 42ms/step\n",
      "\u001b[1m266/266\u001b[0m \u001b[32m━━━━━━━━━━━━━━━━━━━━\u001b[0m\u001b[37m\u001b[0m \u001b[1m12s\u001b[0m 43ms/step\n",
      "\u001b[1m266/266\u001b[0m \u001b[32m━━━━━━━━━━━━━━━━━━━━\u001b[0m\u001b[37m\u001b[0m \u001b[1m10s\u001b[0m 34ms/step\n",
      "\u001b[1m266/266\u001b[0m \u001b[32m━━━━━━━━━━━━━━━━━━━━\u001b[0m\u001b[37m\u001b[0m \u001b[1m13s\u001b[0m 46ms/step\n",
      "\u001b[1m266/266\u001b[0m \u001b[32m━━━━━━━━━━━━━━━━━━━━\u001b[0m\u001b[37m\u001b[0m \u001b[1m14s\u001b[0m 48ms/step\n"
     ]
    },
    {
     "name": "stderr",
     "output_type": "stream",
     "text": [
      "[I 2024-07-02 06:11:36,491] Trial 45 finished with value: 0.8534323075551162 and parameters: {'filters': 94, 'kernel_size': 5, 'pool_size': 2, 'filters2': 128, 'kernel_size2': 3, 'pool_size2': 2, 'units': 233, 'dropout_rate': 0.33670817820320054, 'optimizer': 'adam', 'epochs': 34, 'batch_size': 207}. Best is trial 27 with value: 0.8618945791353747.\n"
     ]
    },
    {
     "name": "stdout",
     "output_type": "stream",
     "text": [
      "\u001b[1m266/266\u001b[0m \u001b[32m━━━━━━━━━━━━━━━━━━━━\u001b[0m\u001b[37m\u001b[0m \u001b[1m10s\u001b[0m 34ms/step\n",
      "\u001b[1m266/266\u001b[0m \u001b[32m━━━━━━━━━━━━━━━━━━━━\u001b[0m\u001b[37m\u001b[0m \u001b[1m10s\u001b[0m 37ms/step\n"
     ]
    },
    {
     "name": "stderr",
     "output_type": "stream",
     "text": [
      "[I 2024-07-02 06:13:26,240] Trial 44 finished with value: 0.8548975679675573 and parameters: {'filters': 117, 'kernel_size': 5, 'pool_size': 2, 'filters2': 126, 'kernel_size2': 3, 'pool_size2': 2, 'units': 236, 'dropout_rate': 0.3293739555785312, 'optimizer': 'adam', 'epochs': 35, 'batch_size': 205}. Best is trial 27 with value: 0.8618945791353747.\n"
     ]
    },
    {
     "name": "stdout",
     "output_type": "stream",
     "text": [
      "\u001b[1m266/266\u001b[0m \u001b[32m━━━━━━━━━━━━━━━━━━━━\u001b[0m\u001b[37m\u001b[0m \u001b[1m6s\u001b[0m 20ms/step\n",
      "\u001b[1m266/266\u001b[0m \u001b[32m━━━━━━━━━━━━━━━━━━━━\u001b[0m\u001b[37m\u001b[0m \u001b[1m8s\u001b[0m 28ms/step\n",
      "\u001b[1m 67/266\u001b[0m \u001b[32m━━━━━\u001b[0m\u001b[37m━━━━━━━━━━━━━━━\u001b[0m \u001b[1m2s\u001b[0m 14ms/step"
     ]
    },
    {
     "name": "stderr",
     "output_type": "stream",
     "text": [
      "[I 2024-07-02 06:15:00,595] Trial 46 finished with value: 0.8555105470476524 and parameters: {'filters': 95, 'kernel_size': 4, 'pool_size': 2, 'filters2': 126, 'kernel_size2': 3, 'pool_size2': 2, 'units': 229, 'dropout_rate': 0.3314561447412347, 'optimizer': 'adam', 'epochs': 45, 'batch_size': 209}. Best is trial 27 with value: 0.8618945791353747.\n"
     ]
    },
    {
     "name": "stdout",
     "output_type": "stream",
     "text": [
      "\u001b[1m266/266\u001b[0m \u001b[32m━━━━━━━━━━━━━━━━━━━━\u001b[0m\u001b[37m\u001b[0m \u001b[1m5s\u001b[0m 16ms/step\n",
      "\u001b[1m266/266\u001b[0m \u001b[32m━━━━━━━━━━━━━━━━━━━━\u001b[0m\u001b[37m\u001b[0m \u001b[1m5s\u001b[0m 17ms/step\n"
     ]
    },
    {
     "name": "stderr",
     "output_type": "stream",
     "text": [
      "[I 2024-07-02 06:15:27,684] Trial 47 finished with value: 0.8489827554277986 and parameters: {'filters': 120, 'kernel_size': 4, 'pool_size': 2, 'filters2': 75, 'kernel_size2': 3, 'pool_size2': 2, 'units': 209, 'dropout_rate': 0.36883519090699146, 'optimizer': 'adam', 'epochs': 45, 'batch_size': 207}. Best is trial 27 with value: 0.8618945791353747.\n"
     ]
    },
    {
     "name": "stdout",
     "output_type": "stream",
     "text": [
      "\u001b[1m266/266\u001b[0m \u001b[32m━━━━━━━━━━━━━━━━━━━━\u001b[0m\u001b[37m\u001b[0m \u001b[1m3s\u001b[0m 9ms/step\n"
     ]
    },
    {
     "name": "stderr",
     "output_type": "stream",
     "text": [
      "[I 2024-07-02 06:16:42,671] Trial 48 finished with value: 0.8489754289359647 and parameters: {'filters': 93, 'kernel_size': 4, 'pool_size': 2, 'filters2': 62, 'kernel_size2': 3, 'pool_size2': 2, 'units': 208, 'dropout_rate': 0.4981406534873368, 'optimizer': 'adam', 'epochs': 32, 'batch_size': 214}. Best is trial 27 with value: 0.8618945791353747.\n"
     ]
    },
    {
     "name": "stdout",
     "output_type": "stream",
     "text": [
      "\u001b[1m266/266\u001b[0m \u001b[32m━━━━━━━━━━━━━━━━━━━━\u001b[0m\u001b[37m\u001b[0m \u001b[1m1s\u001b[0m 3ms/step\n"
     ]
    },
    {
     "name": "stderr",
     "output_type": "stream",
     "text": [
      "[I 2024-07-02 06:16:44,516] Trial 49 finished with value: 0.8545192064009268 and parameters: {'filters': 93, 'kernel_size': 5, 'pool_size': 2, 'filters2': 58, 'kernel_size2': 2, 'pool_size2': 2, 'units': 237, 'dropout_rate': 0.3674243746928667, 'optimizer': 'adam', 'epochs': 45, 'batch_size': 194}. Best is trial 27 with value: 0.8618945791353747.\n"
     ]
    },
    {
     "name": "stdout",
     "output_type": "stream",
     "text": [
      "Best trial:\n",
      "Value: 0.8618945791353747\n",
      "Params:\n",
      "    filters: 105\n",
      "    kernel_size: 4\n",
      "    pool_size: 2\n",
      "    filters2: 79\n",
      "    kernel_size2: 3\n",
      "    pool_size2: 2\n",
      "    units: 219\n",
      "    dropout_rate: 0.28897492290973636\n",
      "    optimizer: adam\n",
      "    epochs: 42\n",
      "    batch_size: 239\n"
     ]
    }
   ],
   "source": [
    "import numpy as np\n",
    "import pandas as pd\n",
    "import tensorflow as tf\n",
    "from tensorflow.keras.models import Sequential\n",
    "from tensorflow.keras.layers import Conv1D, MaxPooling1D, Flatten, Dense, Dropout, Input\n",
    "from tensorflow.keras.callbacks import EarlyStopping\n",
    "from sklearn.model_selection import StratifiedKFold\n",
    "from sklearn.metrics import f1_score\n",
    "import optuna\n",
    "from tensorflow.keras import backend as K\n",
    "\n",
    "# Reshape the data for CNN\n",
    "X_train_reshaped = X_train.reshape((X_train.shape[0], X_train.shape[1], 1))\n",
    "\n",
    "# Define a custom F1-score metric\n",
    "def f1_score_metric(y_true, y_pred):\n",
    "    y_true = K.cast(y_true, 'float32')\n",
    "    y_pred = K.round(K.cast(y_pred, 'float32'))\n",
    "    tp = K.sum(K.cast(y_true * y_pred, 'float32'), axis=0)\n",
    "    tn = K.sum(K.cast((1 - y_true) * (1 - y_pred), 'float32'), axis=0)\n",
    "    fp = K.sum(K.cast((1 - y_true) * y_pred, 'float32'), axis=0)\n",
    "    fn = K.sum(K.cast(y_true * (1 - y_pred), 'float32'), axis=0)\n",
    "\n",
    "    p = tp / (tp + fp + K.epsilon())\n",
    "    r = tp / (tp + fn + K.epsilon())\n",
    "    \n",
    "    f1 = 2 * p * r / (p + r + K.epsilon())\n",
    "    f1 = K.mean(f1)\n",
    "    return f1\n",
    "\n",
    "# Define the model creation function\n",
    "def create_model(trial):\n",
    "    model = Sequential()\n",
    "    model.add(Input(shape=(X_train_reshaped.shape[1], 1)))\n",
    "    model.add(Conv1D(filters=trial.suggest_int('filters', 16, 128), \n",
    "                     kernel_size=trial.suggest_int('kernel_size', 2, 5), \n",
    "                     activation='relu'))\n",
    "    model.add(MaxPooling1D(pool_size=trial.suggest_int('pool_size', 2, 4)))\n",
    "    model.add(Conv1D(filters=trial.suggest_int('filters2', 16, 128), \n",
    "                     kernel_size=trial.suggest_int('kernel_size2', 2, 5), \n",
    "                     activation='relu'))\n",
    "    model.add(MaxPooling1D(pool_size=trial.suggest_int('pool_size2', 2, 4)))\n",
    "    model.add(Flatten())\n",
    "    model.add(Dense(units=trial.suggest_int('units', 32, 256), activation='relu'))\n",
    "    model.add(Dropout(rate=trial.suggest_float('dropout_rate', 0.2, 0.5)))\n",
    "    model.add(Dense(1, activation='sigmoid'))\n",
    "    \n",
    "    model.compile(optimizer=trial.suggest_categorical('optimizer', ['adam', 'rmsprop']),\n",
    "                  loss='binary_crossentropy',\n",
    "                  metrics=[f1_score_metric])\n",
    "    return model\n",
    "\n",
    "# Define the objective function for Optuna\n",
    "def objective(trial):\n",
    "    skf = StratifiedKFold(n_splits=3, shuffle=True, random_state=42)\n",
    "    f1_scores = []\n",
    "\n",
    "    for train_index, valid_index in skf.split(X_train_reshaped, y_train):\n",
    "        X_t, X_v = X_train_reshaped[train_index], X_train_reshaped[valid_index]\n",
    "        y_t, y_v = y_train[train_index], y_train[valid_index]\n",
    "\n",
    "        model = create_model(trial)\n",
    "        early_stopping = EarlyStopping(monitor='val_loss', patience=3, restore_best_weights=True)\n",
    "        model.fit(X_t, y_t, \n",
    "                  epochs=trial.suggest_int('epochs', 10, 50), \n",
    "                  batch_size=trial.suggest_int('batch_size', 32, 256),\n",
    "                  validation_data=(X_v, y_v), \n",
    "                  callbacks=[early_stopping], \n",
    "                  verbose=0)\n",
    "        \n",
    "        y_pred = (model.predict(X_v) > 0.5).astype(\"int32\")\n",
    "        f1 = f1_score(y_v, y_pred, pos_label=1)\n",
    "        f1_scores.append(f1)\n",
    "    \n",
    "    return np.mean(f1_scores)\n",
    "\n",
    "# Create an Optuna study and optimize the objective function\n",
    "study = optuna.create_study(direction='maximize')\n",
    "study.optimize(objective, n_trials=50, n_jobs=6)\n",
    "\n",
    "# Print the best parameters\n",
    "print('Best trial:')\n",
    "trial = study.best_trial\n",
    "print(f'Value: {trial.value}')\n",
    "print('Params:')\n",
    "for key, value in trial.params.items():\n",
    "    print(f'    {key}: {value}')"
   ]
  },
  {
   "cell_type": "code",
   "execution_count": 14,
   "metadata": {},
   "outputs": [
    {
     "name": "stdout",
     "output_type": "stream",
     "text": [
      "Epoch 1/42\n",
      "\u001b[1m86/86\u001b[0m \u001b[32m━━━━━━━━━━━━━━━━━━━━\u001b[0m\u001b[37m\u001b[0m \u001b[1m5s\u001b[0m 45ms/step - f1_score_metric: 0.0060 - loss: 0.3420 - val_f1_score_metric: 7.2905e-05 - val_loss: 0.1772\n",
      "Epoch 2/42\n",
      "\u001b[1m86/86\u001b[0m \u001b[32m━━━━━━━━━━━━━━━━━━━━\u001b[0m\u001b[37m\u001b[0m \u001b[1m4s\u001b[0m 42ms/step - f1_score_metric: 8.9766e-04 - loss: 0.1694 - val_f1_score_metric: 0.0054 - val_loss: 0.1363\n",
      "Epoch 3/42\n",
      "\u001b[1m86/86\u001b[0m \u001b[32m━━━━━━━━━━━━━━━━━━━━\u001b[0m\u001b[37m\u001b[0m \u001b[1m4s\u001b[0m 51ms/step - f1_score_metric: 0.0077 - loss: 0.1407 - val_f1_score_metric: 0.0042 - val_loss: 0.1340\n",
      "Epoch 4/42\n",
      "\u001b[1m86/86\u001b[0m \u001b[32m━━━━━━━━━━━━━━━━━━━━\u001b[0m\u001b[37m\u001b[0m \u001b[1m5s\u001b[0m 60ms/step - f1_score_metric: 0.0096 - loss: 0.1257 - val_f1_score_metric: 0.0131 - val_loss: 0.1033\n",
      "Epoch 5/42\n",
      "\u001b[1m86/86\u001b[0m \u001b[32m━━━━━━━━━━━━━━━━━━━━\u001b[0m\u001b[37m\u001b[0m \u001b[1m5s\u001b[0m 53ms/step - f1_score_metric: 0.0117 - loss: 0.1070 - val_f1_score_metric: 0.0139 - val_loss: 0.0982\n",
      "Epoch 6/42\n",
      "\u001b[1m86/86\u001b[0m \u001b[32m━━━━━━━━━━━━━━━━━━━━\u001b[0m\u001b[37m\u001b[0m \u001b[1m4s\u001b[0m 46ms/step - f1_score_metric: 0.0136 - loss: 0.1028 - val_f1_score_metric: 0.0144 - val_loss: 0.0862\n",
      "Epoch 7/42\n",
      "\u001b[1m86/86\u001b[0m \u001b[32m━━━━━━━━━━━━━━━━━━━━\u001b[0m\u001b[37m\u001b[0m \u001b[1m4s\u001b[0m 44ms/step - f1_score_metric: 0.0142 - loss: 0.0882 - val_f1_score_metric: 0.0122 - val_loss: 0.0899\n",
      "Epoch 8/42\n",
      "\u001b[1m86/86\u001b[0m \u001b[32m━━━━━━━━━━━━━━━━━━━━\u001b[0m\u001b[37m\u001b[0m \u001b[1m4s\u001b[0m 46ms/step - f1_score_metric: 0.0137 - loss: 0.0813 - val_f1_score_metric: 0.0147 - val_loss: 0.0802\n",
      "Epoch 9/42\n",
      "\u001b[1m86/86\u001b[0m \u001b[32m━━━━━━━━━━━━━━━━━━━━\u001b[0m\u001b[37m\u001b[0m \u001b[1m4s\u001b[0m 46ms/step - f1_score_metric: 0.0137 - loss: 0.0765 - val_f1_score_metric: 0.0140 - val_loss: 0.0766\n",
      "Epoch 10/42\n",
      "\u001b[1m86/86\u001b[0m \u001b[32m━━━━━━━━━━━━━━━━━━━━\u001b[0m\u001b[37m\u001b[0m \u001b[1m4s\u001b[0m 52ms/step - f1_score_metric: 0.0140 - loss: 0.0649 - val_f1_score_metric: 0.0158 - val_loss: 0.0747\n",
      "Epoch 11/42\n",
      "\u001b[1m86/86\u001b[0m \u001b[32m━━━━━━━━━━━━━━━━━━━━\u001b[0m\u001b[37m\u001b[0m \u001b[1m4s\u001b[0m 48ms/step - f1_score_metric: 0.0144 - loss: 0.0643 - val_f1_score_metric: 0.0138 - val_loss: 0.0736\n",
      "Epoch 12/42\n",
      "\u001b[1m86/86\u001b[0m \u001b[32m━━━━━━━━━━━━━━━━━━━━\u001b[0m\u001b[37m\u001b[0m \u001b[1m4s\u001b[0m 46ms/step - f1_score_metric: 0.0155 - loss: 0.0507 - val_f1_score_metric: 0.0131 - val_loss: 0.0756\n",
      "Epoch 13/42\n",
      "\u001b[1m86/86\u001b[0m \u001b[32m━━━━━━━━━━━━━━━━━━━━\u001b[0m\u001b[37m\u001b[0m \u001b[1m4s\u001b[0m 45ms/step - f1_score_metric: 0.0171 - loss: 0.0497 - val_f1_score_metric: 0.0142 - val_loss: 0.0706\n",
      "Epoch 14/42\n",
      "\u001b[1m86/86\u001b[0m \u001b[32m━━━━━━━━━━━━━━━━━━━━\u001b[0m\u001b[37m\u001b[0m \u001b[1m4s\u001b[0m 46ms/step - f1_score_metric: 0.0138 - loss: 0.0416 - val_f1_score_metric: 0.0143 - val_loss: 0.0699\n",
      "Epoch 15/42\n",
      "\u001b[1m86/86\u001b[0m \u001b[32m━━━━━━━━━━━━━━━━━━━━\u001b[0m\u001b[37m\u001b[0m \u001b[1m5s\u001b[0m 53ms/step - f1_score_metric: 0.0149 - loss: 0.0397 - val_f1_score_metric: 0.0137 - val_loss: 0.0692\n",
      "Epoch 16/42\n",
      "\u001b[1m86/86\u001b[0m \u001b[32m━━━━━━━━━━━━━━━━━━━━\u001b[0m\u001b[37m\u001b[0m \u001b[1m4s\u001b[0m 50ms/step - f1_score_metric: 0.0155 - loss: 0.0419 - val_f1_score_metric: 0.0139 - val_loss: 0.0709\n",
      "Epoch 17/42\n",
      "\u001b[1m86/86\u001b[0m \u001b[32m━━━━━━━━━━━━━━━━━━━━\u001b[0m\u001b[37m\u001b[0m \u001b[1m4s\u001b[0m 45ms/step - f1_score_metric: 0.0157 - loss: 0.0326 - val_f1_score_metric: 0.0143 - val_loss: 0.0680\n",
      "Epoch 18/42\n",
      "\u001b[1m86/86\u001b[0m \u001b[32m━━━━━━━━━━━━━━━━━━━━\u001b[0m\u001b[37m\u001b[0m \u001b[1m4s\u001b[0m 51ms/step - f1_score_metric: 0.0174 - loss: 0.0332 - val_f1_score_metric: 0.0138 - val_loss: 0.0734\n",
      "Epoch 19/42\n",
      "\u001b[1m86/86\u001b[0m \u001b[32m━━━━━━━━━━━━━━━━━━━━\u001b[0m\u001b[37m\u001b[0m \u001b[1m4s\u001b[0m 48ms/step - f1_score_metric: 0.0139 - loss: 0.0273 - val_f1_score_metric: 0.0141 - val_loss: 0.0730\n",
      "Epoch 20/42\n",
      "\u001b[1m86/86\u001b[0m \u001b[32m━━━━━━━━━━━━━━━━━━━━\u001b[0m\u001b[37m\u001b[0m \u001b[1m4s\u001b[0m 47ms/step - f1_score_metric: 0.0162 - loss: 0.0285 - val_f1_score_metric: 0.0139 - val_loss: 0.0697\n",
      "Epoch 21/42\n",
      "\u001b[1m86/86\u001b[0m \u001b[32m━━━━━━━━━━━━━━━━━━━━\u001b[0m\u001b[37m\u001b[0m \u001b[1m4s\u001b[0m 47ms/step - f1_score_metric: 0.0156 - loss: 0.0263 - val_f1_score_metric: 0.0140 - val_loss: 0.0718\n",
      "Epoch 22/42\n",
      "\u001b[1m86/86\u001b[0m \u001b[32m━━━━━━━━━━━━━━━━━━━━\u001b[0m\u001b[37m\u001b[0m \u001b[1m4s\u001b[0m 50ms/step - f1_score_metric: 0.0154 - loss: 0.0208 - val_f1_score_metric: 0.0143 - val_loss: 0.0742\n",
      "Epoch 23/42\n",
      "\u001b[1m86/86\u001b[0m \u001b[32m━━━━━━━━━━━━━━━━━━━━\u001b[0m\u001b[37m\u001b[0m \u001b[1m5s\u001b[0m 50ms/step - f1_score_metric: 0.0161 - loss: 0.0218 - val_f1_score_metric: 0.0144 - val_loss: 0.0742\n",
      "Epoch 24/42\n",
      "\u001b[1m86/86\u001b[0m \u001b[32m━━━━━━━━━━━━━━━━━━━━\u001b[0m\u001b[37m\u001b[0m \u001b[1m4s\u001b[0m 50ms/step - f1_score_metric: 0.0164 - loss: 0.0214 - val_f1_score_metric: 0.0138 - val_loss: 0.0818\n",
      "Epoch 25/42\n",
      "\u001b[1m86/86\u001b[0m \u001b[32m━━━━━━━━━━━━━━━━━━━━\u001b[0m\u001b[37m\u001b[0m \u001b[1m4s\u001b[0m 46ms/step - f1_score_metric: 0.0169 - loss: 0.0213 - val_f1_score_metric: 0.0138 - val_loss: 0.0764\n",
      "Epoch 26/42\n",
      "\u001b[1m86/86\u001b[0m \u001b[32m━━━━━━━━━━━━━━━━━━━━\u001b[0m\u001b[37m\u001b[0m \u001b[1m4s\u001b[0m 48ms/step - f1_score_metric: 0.0147 - loss: 0.0208 - val_f1_score_metric: 0.0136 - val_loss: 0.0864\n",
      "Epoch 27/42\n",
      "\u001b[1m86/86\u001b[0m \u001b[32m━━━━━━━━━━━━━━━━━━━━\u001b[0m\u001b[37m\u001b[0m \u001b[1m4s\u001b[0m 49ms/step - f1_score_metric: 0.0155 - loss: 0.0200 - val_f1_score_metric: 0.0136 - val_loss: 0.0864\n",
      "Epoch 28/42\n",
      "\u001b[1m86/86\u001b[0m \u001b[32m━━━━━━━━━━━━━━━━━━━━\u001b[0m\u001b[37m\u001b[0m \u001b[1m4s\u001b[0m 45ms/step - f1_score_metric: 0.0163 - loss: 0.0205 - val_f1_score_metric: 0.0138 - val_loss: 0.0812\n",
      "Epoch 29/42\n",
      "\u001b[1m86/86\u001b[0m \u001b[32m━━━━━━━━━━━━━━━━━━━━\u001b[0m\u001b[37m\u001b[0m \u001b[1m4s\u001b[0m 45ms/step - f1_score_metric: 0.0148 - loss: 0.0193 - val_f1_score_metric: 0.0139 - val_loss: 0.0843\n",
      "Epoch 30/42\n",
      "\u001b[1m86/86\u001b[0m \u001b[32m━━━━━━━━━━━━━━━━━━━━\u001b[0m\u001b[37m\u001b[0m \u001b[1m4s\u001b[0m 43ms/step - f1_score_metric: 0.0161 - loss: 0.0187 - val_f1_score_metric: 0.0143 - val_loss: 0.0775\n",
      "Epoch 31/42\n",
      "\u001b[1m86/86\u001b[0m \u001b[32m━━━━━━━━━━━━━━━━━━━━\u001b[0m\u001b[37m\u001b[0m \u001b[1m4s\u001b[0m 46ms/step - f1_score_metric: 0.0161 - loss: 0.0172 - val_f1_score_metric: 0.0139 - val_loss: 0.0854\n",
      "Epoch 32/42\n",
      "\u001b[1m86/86\u001b[0m \u001b[32m━━━━━━━━━━━━━━━━━━━━\u001b[0m\u001b[37m\u001b[0m \u001b[1m4s\u001b[0m 48ms/step - f1_score_metric: 0.0155 - loss: 0.0163 - val_f1_score_metric: 0.0138 - val_loss: 0.0906\n",
      "Epoch 33/42\n",
      "\u001b[1m86/86\u001b[0m \u001b[32m━━━━━━━━━━━━━━━━━━━━\u001b[0m\u001b[37m\u001b[0m \u001b[1m4s\u001b[0m 45ms/step - f1_score_metric: 0.0150 - loss: 0.0173 - val_f1_score_metric: 0.0145 - val_loss: 0.0825\n",
      "Epoch 34/42\n",
      "\u001b[1m86/86\u001b[0m \u001b[32m━━━━━━━━━━━━━━━━━━━━\u001b[0m\u001b[37m\u001b[0m \u001b[1m4s\u001b[0m 44ms/step - f1_score_metric: 0.0155 - loss: 0.0171 - val_f1_score_metric: 0.0143 - val_loss: 0.0837\n",
      "Epoch 35/42\n",
      "\u001b[1m86/86\u001b[0m \u001b[32m━━━━━━━━━━━━━━━━━━━━\u001b[0m\u001b[37m\u001b[0m \u001b[1m4s\u001b[0m 45ms/step - f1_score_metric: 0.0151 - loss: 0.0169 - val_f1_score_metric: 0.0146 - val_loss: 0.0839\n",
      "Epoch 36/42\n",
      "\u001b[1m86/86\u001b[0m \u001b[32m━━━━━━━━━━━━━━━━━━━━\u001b[0m\u001b[37m\u001b[0m \u001b[1m4s\u001b[0m 43ms/step - f1_score_metric: 0.0164 - loss: 0.0180 - val_f1_score_metric: 0.0140 - val_loss: 0.0859\n",
      "Epoch 37/42\n",
      "\u001b[1m86/86\u001b[0m \u001b[32m━━━━━━━━━━━━━━━━━━━━\u001b[0m\u001b[37m\u001b[0m \u001b[1m4s\u001b[0m 45ms/step - f1_score_metric: 0.0148 - loss: 0.0180 - val_f1_score_metric: 0.0143 - val_loss: 0.0859\n",
      "Epoch 38/42\n",
      "\u001b[1m86/86\u001b[0m \u001b[32m━━━━━━━━━━━━━━━━━━━━\u001b[0m\u001b[37m\u001b[0m \u001b[1m5s\u001b[0m 54ms/step - f1_score_metric: 0.0160 - loss: 0.0155 - val_f1_score_metric: 0.0139 - val_loss: 0.0921\n",
      "Epoch 39/42\n",
      "\u001b[1m86/86\u001b[0m \u001b[32m━━━━━━━━━━━━━━━━━━━━\u001b[0m\u001b[37m\u001b[0m \u001b[1m5s\u001b[0m 50ms/step - f1_score_metric: 0.0154 - loss: 0.0166 - val_f1_score_metric: 0.0143 - val_loss: 0.0888\n",
      "Epoch 40/42\n",
      "\u001b[1m86/86\u001b[0m \u001b[32m━━━━━━━━━━━━━━━━━━━━\u001b[0m\u001b[37m\u001b[0m \u001b[1m4s\u001b[0m 50ms/step - f1_score_metric: 0.0161 - loss: 0.0146 - val_f1_score_metric: 0.0136 - val_loss: 0.1083\n",
      "Epoch 41/42\n",
      "\u001b[1m86/86\u001b[0m \u001b[32m━━━━━━━━━━━━━━━━━━━━\u001b[0m\u001b[37m\u001b[0m \u001b[1m4s\u001b[0m 50ms/step - f1_score_metric: 0.0157 - loss: 0.0141 - val_f1_score_metric: 0.0138 - val_loss: 0.0950\n",
      "Epoch 42/42\n",
      "\u001b[1m86/86\u001b[0m \u001b[32m━━━━━━━━━━━━━━━━━━━━\u001b[0m\u001b[37m\u001b[0m \u001b[1m5s\u001b[0m 53ms/step - f1_score_metric: 0.0156 - loss: 0.0149 - val_f1_score_metric: 0.0148 - val_loss: 0.0853\n",
      "Model saved to D:\\Projects\\Summer-2024-ECE-597-Group8\\data\\models\\best_cnn_model.keras\n"
     ]
    }
   ],
   "source": [
    "# Ensure the directory exists\n",
    "os.makedirs(os.path.dirname(model_path), exist_ok=True)\n",
    "\n",
    "# Create the model with the best parameters from Optuna\n",
    "best_params = study.best_trial.params\n",
    "\n",
    "model = Sequential()\n",
    "model.add(Input(shape=(X_train_reshaped.shape[1], 1)))\n",
    "model.add(Conv1D(filters=best_params['filters'], \n",
    "                 kernel_size=best_params['kernel_size'], \n",
    "                 activation='relu'))\n",
    "model.add(MaxPooling1D(pool_size=best_params['pool_size']))\n",
    "model.add(Conv1D(filters=best_params['filters2'], \n",
    "                 kernel_size=best_params['kernel_size2'], \n",
    "                 activation='relu'))\n",
    "model.add(MaxPooling1D(pool_size=best_params['pool_size2']))\n",
    "model.add(Flatten())\n",
    "model.add(Dense(units=best_params['units'], activation='relu'))\n",
    "model.add(Dropout(rate=best_params['dropout_rate']))\n",
    "model.add(Dense(1, activation='sigmoid'))\n",
    "\n",
    "model.compile(optimizer=best_params['optimizer'],\n",
    "              loss='binary_crossentropy',\n",
    "              metrics=[f1_score_metric])\n",
    "\n",
    "# Train the model with the entire training data\n",
    "history = model.fit(X_train_reshaped, y_train, \n",
    "                    epochs=best_params['epochs'], \n",
    "                    batch_size=best_params['batch_size'], \n",
    "                    validation_split=0.2)\n",
    "\n",
    "# Save the trained model to a file\n",
    "model.save(model_path)\n",
    "print(f\"Model saved to {model_path}\")"
   ]
  },
  {
   "cell_type": "code",
   "execution_count": 15,
   "metadata": {},
   "outputs": [
    {
     "name": "stdout",
     "output_type": "stream",
     "text": [
      "Model loaded from D:\\Projects\\Summer-2024-ECE-597-Group8\\data\\models\\best_cnn_model.keras\n",
      "\u001b[1m89/89\u001b[0m \u001b[32m━━━━━━━━━━━━━━━━━━━━\u001b[0m\u001b[37m\u001b[0m \u001b[1m0s\u001b[0m 4ms/step\n",
      "Classification Report:\n",
      "\n",
      "              precision    recall  f1-score   support\n",
      "\n",
      "     Class 0       0.99      0.99      0.99      2588\n",
      "     Class 1       0.90      0.86      0.88       241\n",
      "\n",
      "    accuracy                           0.98      2829\n",
      "   macro avg       0.94      0.93      0.93      2829\n",
      "weighted avg       0.98      0.98      0.98      2829\n",
      "\n"
     ]
    }
   ],
   "source": [
    "# Reshape the test data for CNN\n",
    "X_test_reshaped = X_test.reshape((X_test.shape[0], X_test.shape[1], 1))\n",
    "\n",
    "# Load the saved model\n",
    "model = tf.keras.models.load_model(model_path, custom_objects={'f1_score_metric': f1_score_metric})\n",
    "print(f\"Model loaded from {model_path}\")\n",
    "\n",
    "# Make predictions on the test data\n",
    "y_pred_probs = model.predict(X_test_reshaped)\n",
    "y_pred = (y_pred_probs > 0.5).astype(int)\n",
    "\n",
    "# Generate the classification report\n",
    "report = classification_report(y_test, y_pred, target_names=['Class 0', 'Class 1'])\n",
    "print(\"Classification Report:\\n\")\n",
    "print(report)"
   ]
  }
 ],
 "metadata": {
  "kernelspec": {
   "display_name": "Python 3",
   "language": "python",
   "name": "python3"
  },
  "language_info": {
   "codemirror_mode": {
    "name": "ipython",
    "version": 3
   },
   "file_extension": ".py",
   "mimetype": "text/x-python",
   "name": "python",
   "nbconvert_exporter": "python",
   "pygments_lexer": "ipython3",
   "version": "3.12.4"
  }
 },
 "nbformat": 4,
 "nbformat_minor": 2
}
