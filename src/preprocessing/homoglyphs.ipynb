{
 "cells": [
  {
   "cell_type": "code",
   "execution_count": 1,
   "metadata": {},
   "outputs": [],
   "source": [
    "from confusable_homoglyphs import confusables\n",
    "import os\n",
    "import pandas as pd\n",
    "import re\n",
    "\n",
    "project_root = \"/Users/feiyixie/Projects/Summer-2024-ECE-597-Group8\""
   ]
  },
  {
   "cell_type": "code",
   "execution_count": 2,
   "metadata": {},
   "outputs": [
    {
     "name": "stdout",
     "output_type": "stream",
     "text": [
      "Phishing Dataset Preview:\n",
      "                                             Subject  \\\n",
      "0  ®Review your shipment details / Shipment Notif...   \n",
      "1                            Υоur ассоunt іѕ оn hоld   \n",
      "2  Completed: Invoice # KZ89TYS2564 from-Bestbuy....   \n",
      "3                             UVic IMPORTANT NOTICE!   \n",
      "4          You have (6) Suspended incoming messages    \n",
      "\n",
      "                                                Body  Unnamed: 2  Unnamed: 3  \n",
      "0  Notice: This message was sent from outside the...         NaN         NaN  \n",
      "1  \\r\\nVotre réponse a bien été prise en compte.\\...         NaN         NaN  \n",
      "2  Notice: This message was sent from outside the...         NaN         NaN  \n",
      "3  Your UVIC account has been filed under the lis...         NaN         NaN  \n",
      "4  \\r\\n\\r\\nMessage generated from  uvic.ca source...         NaN         NaN  \n",
      "\n",
      "Phishing Dataset Info:\n",
      "<class 'pandas.core.frame.DataFrame'>\n",
      "RangeIndex: 2576 entries, 0 to 2575\n",
      "Data columns (total 4 columns):\n",
      " #   Column      Non-Null Count  Dtype  \n",
      "---  ------      --------------  -----  \n",
      " 0   Subject     2467 non-null   object \n",
      " 1   Body        2571 non-null   object \n",
      " 2   Unnamed: 2  0 non-null      float64\n",
      " 3   Unnamed: 3  0 non-null      float64\n",
      "dtypes: float64(2), object(2)\n",
      "memory usage: 80.6+ KB\n",
      "None\n",
      "\n",
      "Normal Dataset Preview:\n",
      "                       file                                            message\n",
      "0     allen-p/_sent_mail/1.  Message-ID: <18782981.1075855378110.JavaMail.e...\n",
      "1    allen-p/_sent_mail/10.  Message-ID: <15464986.1075855378456.JavaMail.e...\n",
      "2   allen-p/_sent_mail/100.  Message-ID: <24216240.1075855687451.JavaMail.e...\n",
      "3  allen-p/_sent_mail/1000.  Message-ID: <13505866.1075863688222.JavaMail.e...\n",
      "4  allen-p/_sent_mail/1001.  Message-ID: <30922949.1075863688243.JavaMail.e...\n",
      "\n",
      "Normal Dataset Info:\n",
      "<class 'pandas.core.frame.DataFrame'>\n",
      "RangeIndex: 10000 entries, 0 to 9999\n",
      "Data columns (total 2 columns):\n",
      " #   Column   Non-Null Count  Dtype \n",
      "---  ------   --------------  ----- \n",
      " 0   file     10000 non-null  object\n",
      " 1   message  10000 non-null  object\n",
      "dtypes: object(2)\n",
      "memory usage: 156.4+ KB\n",
      "None\n"
     ]
    }
   ],
   "source": [
    "phishing_data_path = os.path.join(project_root, 'data', 'raw', 'CaptstoneProjectData_2024.csv')\n",
    "normal_data_path = os.path.join(project_root, 'data', 'raw', 'EnronEmailDataset.csv')\n",
    "\n",
    "phishing_data = pd.read_csv(phishing_data_path)\n",
    "normal_data = pd.read_csv(normal_data_path, nrows=10000) # Read only 5000 rows of normal data for now\n",
    "\n",
    "print(\"Phishing Dataset Preview:\")\n",
    "print(phishing_data.head())\n",
    "print(\"\\nPhishing Dataset Info:\")\n",
    "print(phishing_data.info())\n",
    "print(\"\\nNormal Dataset Preview:\")\n",
    "print(normal_data.head())\n",
    "print(\"\\nNormal Dataset Info:\")\n",
    "print(normal_data.info())"
   ]
  },
  {
   "cell_type": "code",
   "execution_count": 3,
   "metadata": {},
   "outputs": [
    {
     "name": "stdout",
     "output_type": "stream",
     "text": [
      "Cleaned Phishing Dataset Preview:\n",
      "                                             Subject  \\\n",
      "0  ®Review your shipment details / Shipment Notif...   \n",
      "1                            Υоur ассоunt іѕ оn hоld   \n",
      "2  Completed: Invoice # KZ89TYS2564 from-Bestbuy....   \n",
      "3                             UVic IMPORTANT NOTICE!   \n",
      "4           You have (6) Suspended incoming messages   \n",
      "\n",
      "                                                Body  \n",
      "0  Notice: This message was sent from outside the...  \n",
      "1  Votre réponse a bien été prise en compte. [htt...  \n",
      "2  Notice: This message was sent from outside the...  \n",
      "3  Your UVIC account has been filed under the lis...  \n",
      "4  Message generated from uvic.ca source. Sender ...  \n",
      "\n",
      "Cleaned Phishing Dataset Info:\n",
      "<class 'pandas.core.frame.DataFrame'>\n",
      "Index: 2463 entries, 0 to 2575\n",
      "Data columns (total 2 columns):\n",
      " #   Column   Non-Null Count  Dtype \n",
      "---  ------   --------------  ----- \n",
      " 0   Subject  2463 non-null   object\n",
      " 1   Body     2463 non-null   object\n",
      "dtypes: object(2)\n",
      "memory usage: 57.7+ KB\n",
      "None\n"
     ]
    }
   ],
   "source": [
    "# Remove unnecessary columns\n",
    "phishing_data.drop(columns=['Unnamed: 2', 'Unnamed: 3'], inplace=True)\n",
    "phishing_data.dropna(subset=['Subject', 'Body'], inplace=True)  # Remove rows with missing subject or body\n",
    "\n",
    "def clean_homoglyphs(text):\n",
    "    # Replace various types of whitespace with a single space\n",
    "    text = re.sub(r'\\s+', ' ', text)\n",
    "    # Strip leading/trailing whitespace\n",
    "    text = text.strip()\n",
    "    return text\n",
    "\n",
    "phishing_data['Subject'] = phishing_data['Subject'].apply(clean_homoglyphs)\n",
    "phishing_data['Body'] = phishing_data['Body'].apply(clean_homoglyphs)\n",
    "\n",
    "# Preview the cleaned dataset\n",
    "print(\"Cleaned Phishing Dataset Preview:\")\n",
    "print(phishing_data.head())\n",
    "print(\"\\nCleaned Phishing Dataset Info:\")\n",
    "print(phishing_data.info())"
   ]
  },
  {
   "cell_type": "code",
   "execution_count": 4,
   "metadata": {},
   "outputs": [
    {
     "name": "stdout",
     "output_type": "stream",
     "text": [
      "Re: Draft of Opposition to ORA/TURN petition\n",
      "---------------------- Forwarded by Phillip K Allen/HOU/ECT on 01/25/2001 08:17 AM --------------------------- From: Leslie Lawner@ENRON on 01/24/2001 08:17 PM CST To: MBD <MDay@GMSSR.com> cc: Harry Kingerski/NA/Enron@Enron, Jeff Dasovich/NA/Enron@Enron, James D Steffes/NA/Enron@Enron, Phillip K Allen/HOU/ECT@ECT, Don Black/HOU/EES@EES, James Shirley/HOU/EES@EES, Frank Ermis/HOU/ECT@ECT, Paul Kaufman/PDX/ECT@ECT Subject: Re: Draft of Opposition to ORA/TURN petition Everything is short and sweet except the caption! One comment. The very last sentence reads : PG&E can continue to physically divert gas if necessary . . . \" SInce they haven't actually begun to divert yet, let's change that sentence to read \"PG&E has the continuing right to physically divert gas if necessary...\" I will send this around for comment. Thanks for your promptness. Any comments, anyone? MBD <MDay@GMSSR.com> 01/24/2001 03:47 PM To: \"'llawner@enron.com'\" <llawner@enron.com> cc: Subject: Draft of Opposition to ORA/TURN petition Leslie: Here is the draft. Short and sweet. Let me know what you think. We will be ready to file on Friday. Mike Day <<X20292.DOC>> - X20292.DOC\n"
     ]
    }
   ],
   "source": [
    "def clean_homoglyphs_normal(text):\n",
    "    # Extract the subject using a regular expression\n",
    "    subject_match = re.search(r\"Subject: (.*)\", text)\n",
    "    subject = subject_match.group(1) if subject_match else \"Subject Not Found\"\n",
    "\n",
    "    # Clean the text by removing everything from \"Message-ID:\" up to \"X-FileName:\"\n",
    "    cleaned_text = re.sub(r\"Message-ID:.*?X-FileName:.*?\\n\", \"\", text, flags=re.S)\n",
    "\n",
    "    return subject, cleaned_text\n",
    "\n",
    "normal_data[['Subject', 'Body']] = normal_data['message'].apply(lambda x: pd.Series(clean_homoglyphs_normal(x)))\n",
    "normal_data['Subject'] = normal_data['Subject'].apply(clean_homoglyphs)\n",
    "normal_data['Body'] = normal_data['Body'].apply(clean_homoglyphs)\n",
    "\n",
    "# Display the cleaned data\n",
    "print(normal_data['Subject'][500])\n",
    "print(normal_data['Body'][500])"
   ]
  },
  {
   "cell_type": "code",
   "execution_count": 5,
   "metadata": {},
   "outputs": [
    {
     "name": "stdout",
     "output_type": "stream",
     "text": [
      "Phishing Data:\n",
      "      Homoglyphs Scripts Count\n",
      "0                            0\n",
      "1                           91\n",
      "2                            0\n",
      "3                            0\n",
      "4                            0\n",
      "...                        ...\n",
      "2571                         0\n",
      "2572                         0\n",
      "2573                         0\n",
      "2574                         0\n",
      "2575                         0\n",
      "\n",
      "[2463 rows x 1 columns]\n",
      "Normal Data:\n",
      "      Homoglyphs Scripts Count\n",
      "0                            0\n",
      "1                            0\n",
      "2                            0\n",
      "3                            0\n",
      "4                            0\n",
      "...                        ...\n",
      "9995                         0\n",
      "9996                         0\n",
      "9997                         0\n",
      "9998                         0\n",
      "9999                         0\n",
      "\n",
      "[10000 rows x 1 columns]\n"
     ]
    }
   ],
   "source": [
    "def count_homoglyphs_scripts(text):\n",
    "    return sum(confusables.is_dangerous(word) for word in text.split())\n",
    "\n",
    "# Apply the function to each row in your DataFrame by concatenating the 'Subject' and 'Body'\n",
    "phishing_data['Homoglyphs Scripts Count'] = phishing_data.apply(lambda row: count_homoglyphs_scripts(row['Subject'] + \" \" + row['Body']), axis=1)\n",
    "normal_data['Homoglyphs Scripts Count'] = normal_data.apply(lambda row: count_homoglyphs_scripts(row['Subject'] + \" \" + row['Body']), axis=1)\n",
    "\n",
    "# Display the DataFrame with the new count of dangerous words\n",
    "print(\"Phishing Data:\")\n",
    "print(phishing_data[['Homoglyphs Scripts Count']])\n",
    "print(\"Normal Data:\")\n",
    "print(normal_data[['Homoglyphs Scripts Count']])"
   ]
  },
  {
   "cell_type": "code",
   "execution_count": 6,
   "metadata": {},
   "outputs": [
    {
     "name": "stdout",
     "output_type": "stream",
     "text": [
      "Phishing Data:\n",
      "<class 'pandas.core.frame.DataFrame'>\n",
      "Index: 2463 entries, 0 to 2575\n",
      "Data columns (total 1 columns):\n",
      " #   Column                    Non-Null Count  Dtype\n",
      "---  ------                    --------------  -----\n",
      " 0   Homoglyphs Scripts Count  2463 non-null   int64\n",
      "dtypes: int64(1)\n",
      "memory usage: 38.5 KB\n",
      "None\n",
      "       Homoglyphs Scripts Count\n",
      "count               2463.000000\n",
      "mean                   0.362972\n",
      "std                    4.047921\n",
      "min                    0.000000\n",
      "25%                    0.000000\n",
      "50%                    0.000000\n",
      "75%                    0.000000\n",
      "max                   91.000000\n",
      "Normal Data:\n",
      "<class 'pandas.core.frame.DataFrame'>\n",
      "RangeIndex: 10000 entries, 0 to 9999\n",
      "Data columns (total 1 columns):\n",
      " #   Column                    Non-Null Count  Dtype\n",
      "---  ------                    --------------  -----\n",
      " 0   Homoglyphs Scripts Count  10000 non-null  int64\n",
      "dtypes: int64(1)\n",
      "memory usage: 78.3 KB\n",
      "None\n",
      "       Homoglyphs Scripts Count\n",
      "count                   10000.0\n",
      "mean                        0.0\n",
      "std                         0.0\n",
      "min                         0.0\n",
      "25%                         0.0\n",
      "50%                         0.0\n",
      "75%                         0.0\n",
      "max                         0.0\n"
     ]
    }
   ],
   "source": [
    "phishing_data.drop(columns=['Subject', 'Body'], inplace=True)\n",
    "normal_data.drop(columns=['file', 'message', 'Subject', 'Body'], inplace=True)\n",
    "\n",
    "print(\"Phishing Data:\")\n",
    "print(phishing_data.info())\n",
    "print(phishing_data.describe())\n",
    "print(\"Normal Data:\")\n",
    "print(normal_data.info())\n",
    "print(normal_data.describe())"
   ]
  },
  {
   "cell_type": "code",
   "execution_count": 7,
   "metadata": {},
   "outputs": [],
   "source": [
    "phishing_data.to_csv(os.path.join(project_root, 'data', 'processed', 'homoglyphs_phishing.csv'), index=False)\n",
    "normal_data.to_csv(os.path.join(project_root, 'data', 'processed', 'homoglyphs_normal.csv'), index=False)"
   ]
  }
 ],
 "metadata": {
  "kernelspec": {
   "display_name": "Python 3",
   "language": "python",
   "name": "python3"
  },
  "language_info": {
   "codemirror_mode": {
    "name": "ipython",
    "version": 3
   },
   "file_extension": ".py",
   "mimetype": "text/x-python",
   "name": "python",
   "nbconvert_exporter": "python",
   "pygments_lexer": "ipython3",
   "version": "3.11.5"
  }
 },
 "nbformat": 4,
 "nbformat_minor": 2
}
