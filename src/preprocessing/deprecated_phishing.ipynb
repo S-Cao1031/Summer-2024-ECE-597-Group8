{
 "cells": [
  {
   "cell_type": "code",
   "execution_count": 1,
   "metadata": {},
   "outputs": [],
   "source": [
    "import nltk\n",
    "from nltk.corpus import stopwords\n",
    "import numpy as np\n",
    "import os\n",
    "import pandas as pd\n",
    "import re\n",
    "from sklearn.feature_extraction.text import TfidfVectorizer\n",
    "\n",
    "project_root = \"/Users/feiyixie/Projects/Summer-2024-ECE-597-Group8\""
   ]
  },
  {
   "cell_type": "code",
   "execution_count": 2,
   "metadata": {},
   "outputs": [
    {
     "name": "stdout",
     "output_type": "stream",
     "text": [
      "Phishing Dataset Preview:\n",
      "                                             Subject  \\\n",
      "0  ®Review your shipment details / Shipment Notif...   \n",
      "1                            Υоur ассоunt іѕ оn hоld   \n",
      "2  Completed: Invoice # KZ89TYS2564 from-Bestbuy....   \n",
      "3                             UVic IMPORTANT NOTICE!   \n",
      "4          You have (6) Suspended incoming messages    \n",
      "\n",
      "                                                Body  Unnamed: 2  Unnamed: 3  \n",
      "0  Notice: This message was sent from outside the...         NaN         NaN  \n",
      "1  \\r\\nVotre réponse a bien été prise en compte.\\...         NaN         NaN  \n",
      "2  Notice: This message was sent from outside the...         NaN         NaN  \n",
      "3  Your UVIC account has been filed under the lis...         NaN         NaN  \n",
      "4  \\r\\n\\r\\nMessage generated from  uvic.ca source...         NaN         NaN  \n",
      "\n",
      "Phishing Dataset Info:\n",
      "<class 'pandas.core.frame.DataFrame'>\n",
      "RangeIndex: 2576 entries, 0 to 2575\n",
      "Data columns (total 4 columns):\n",
      " #   Column      Non-Null Count  Dtype  \n",
      "---  ------      --------------  -----  \n",
      " 0   Subject     2467 non-null   object \n",
      " 1   Body        2571 non-null   object \n",
      " 2   Unnamed: 2  0 non-null      float64\n",
      " 3   Unnamed: 3  0 non-null      float64\n",
      "dtypes: float64(2), object(2)\n",
      "memory usage: 80.6+ KB\n",
      "None\n"
     ]
    }
   ],
   "source": [
    "phishing_data_path = os.path.join(project_root, 'data', 'raw', 'CaptstoneProjectData_2024.csv')\n",
    "\n",
    "phishing_data = pd.read_csv(phishing_data_path)\n",
    "\n",
    "print(\"Phishing Dataset Preview:\")\n",
    "print(phishing_data.head())\n",
    "print(\"\\nPhishing Dataset Info:\")\n",
    "print(phishing_data.info())"
   ]
  },
  {
   "cell_type": "code",
   "execution_count": 3,
   "metadata": {},
   "outputs": [
    {
     "name": "stdout",
     "output_type": "stream",
     "text": [
      "Cleaned Phishing Dataset Preview:\n",
      "                                             Subject  \\\n",
      "0  ®Review your shipment details / Shipment Notif...   \n",
      "1                            Υоur ассоunt іѕ оn hоld   \n",
      "2  Completed: Invoice # KZ89TYS2564 from-Bestbuy....   \n",
      "3                             UVic IMPORTANT NOTICE!   \n",
      "4           You have (6) Suspended incoming messages   \n",
      "\n",
      "                                                Body  \n",
      "0  Notice: This message was sent from outside the...  \n",
      "1  Votre réponse a bien été prise en compte. [htt...  \n",
      "2  Notice: This message was sent from outside the...  \n",
      "3  Your UVIC account has been filed under the lis...  \n",
      "4  Message generated from  uvic.ca source.   Send...  \n",
      "\n",
      "Cleaned Phishing Dataset Info:\n",
      "<class 'pandas.core.frame.DataFrame'>\n",
      "RangeIndex: 2576 entries, 0 to 2575\n",
      "Data columns (total 2 columns):\n",
      " #   Column   Non-Null Count  Dtype \n",
      "---  ------   --------------  ----- \n",
      " 0   Subject  2576 non-null   object\n",
      " 1   Body     2576 non-null   object\n",
      "dtypes: object(2)\n",
      "memory usage: 40.4+ KB\n",
      "None\n"
     ]
    }
   ],
   "source": [
    "# Remove unnecessary columns\n",
    "phishing_data.drop(columns=['Unnamed: 2', 'Unnamed: 3'], inplace=True)\n",
    "\n",
    "# Handle missing values\n",
    "phishing_data['Subject'].fillna('No Subject', inplace=True)  # Replace missing subjects with 'No Subject'\n",
    "phishing_data['Body'].fillna('No Body', inplace=True)  # Replace missing bodies with 'No Body'\n",
    "\n",
    "# Text cleaning\n",
    "def clean_whitespace(text):\n",
    "    # Remove leading/trailing whitespace, replace line breaks and other typical cleaning tasks\n",
    "    text = text.strip().replace('\\r\\n', ' ').replace('\\n', ' ')\n",
    "    return text\n",
    "\n",
    "phishing_data['Subject'] = phishing_data['Subject'].apply(clean_whitespace)\n",
    "phishing_data['Body'] = phishing_data['Body'].apply(clean_whitespace)\n",
    "\n",
    "# Preview the cleaned dataset\n",
    "print(\"Cleaned Phishing Dataset Preview:\")\n",
    "print(phishing_data.head())\n",
    "print(\"\\nCleaned Phishing Dataset Info:\")\n",
    "print(phishing_data.info())"
   ]
  },
  {
   "cell_type": "code",
   "execution_count": 4,
   "metadata": {},
   "outputs": [
    {
     "name": "stdout",
     "output_type": "stream",
     "text": [
      "                                                Body  \\\n",
      "0  Notice: This message was sent from outside the...   \n",
      "1  Votre réponse a bien été prise en compte. [htt...   \n",
      "2  Notice: This message was sent from outside the...   \n",
      "3  Your UVIC account has been filed under the lis...   \n",
      "4  Message generated from  uvic.ca source.   Send...   \n",
      "\n",
      "                                              Emails  Num_Emails  \\\n",
      "0        [amuench@uvic.ca, hudsonesajoyce@gmail.com]           2   \n",
      "1                                    [foipp@uvic.ca]           1   \n",
      "2  [auwaluu.ma.r.bu.ba@googlemail.com, icon-Downl...           2   \n",
      "3                                                 []           0   \n",
      "4               [helpdesk@uvic.ca, helpdesk@uvic.ca]           2   \n",
      "\n",
      "                                                URLs  Num_URLs  \n",
      "0  [https://www.canadapost-postescanada.ca/cpc/as...         2  \n",
      "1  [https://www.edigitalagency.com.au/wp-content/...         3  \n",
      "2  [https://NA4.docusign.net/member/Images/email/...         9  \n",
      "3             [https://forms.gle/TpBxJ1SRFwgYMd8c7>]         1  \n",
      "4  [https://googleweblight.com/i?u=https://cloudf...         1  \n"
     ]
    }
   ],
   "source": [
    "# Define functions to extract emails and URLs and apply them to the DataFrame\n",
    "def extract_emails(text):\n",
    "    email_pattern = r'\\b[A-Za-z0-9._%+-]+@[A-Za-z0-9.-]+\\.[A-Z|a-z]{2,}\\b'\n",
    "    emails = re.findall(email_pattern, text)\n",
    "    return emails\n",
    "\n",
    "def extract_urls(text):\n",
    "    url_pattern = r'\\b(?:https?|ftp):\\/\\/\\S+|\\bwww\\.\\S+\\.\\S+'\n",
    "    urls = re.findall(url_pattern, text)\n",
    "    return urls\n",
    "\n",
    "# Apply the functions to the dataset\n",
    "phishing_data['Emails'] = phishing_data['Body'].apply(extract_emails)\n",
    "phishing_data['URLs'] = phishing_data['Body'].apply(extract_urls)\n",
    "\n",
    "# Calculate the number of emails and URLs\n",
    "phishing_data['Num_Emails'] = phishing_data['Emails'].apply(len)\n",
    "phishing_data['Num_URLs'] = phishing_data['URLs'].apply(len)\n",
    "\n",
    "# Display the new features in the dataset\n",
    "print(phishing_data[['Body', 'Emails', 'Num_Emails', 'URLs', 'Num_URLs']].head())"
   ]
  },
  {
   "cell_type": "code",
   "execution_count": 5,
   "metadata": {},
   "outputs": [
    {
     "name": "stdout",
     "output_type": "stream",
     "text": [
      "<class 'pandas.core.frame.DataFrame'>\n",
      "RangeIndex: 2576 entries, 0 to 2575\n",
      "Data columns (total 6 columns):\n",
      " #   Column      Non-Null Count  Dtype \n",
      "---  ------      --------------  ----- \n",
      " 0   Subject     2576 non-null   object\n",
      " 1   Body        2576 non-null   object\n",
      " 2   Emails      2576 non-null   object\n",
      " 3   URLs        2576 non-null   object\n",
      " 4   Num_Emails  2576 non-null   int64 \n",
      " 5   Num_URLs    2576 non-null   int64 \n",
      "dtypes: int64(2), object(4)\n",
      "memory usage: 120.9+ KB\n"
     ]
    }
   ],
   "source": [
    "phishing_data.info()"
   ]
  },
  {
   "cell_type": "code",
   "execution_count": 8,
   "metadata": {},
   "outputs": [],
   "source": [
    "def clean_text(text):\n",
    "    # Remove HTML tags\n",
    "    text = re.sub(r'<[^>]+>', '', text)\n",
    "    \n",
    "    # Remove URLs\n",
    "    text = re.sub(r'http[s]?://\\S+', '', text)\n",
    "\n",
    "    # Remove email addresses\n",
    "    text = re.sub(r'\\b[A-Za-z0-9._%+-]+@[A-Za-z0-9.-]+\\.[A-Z|a-z]{2,}\\b', '', text)\n",
    "\n",
    "    # Remove non-text characters and numbers\n",
    "    text = re.sub(r'\\W+', ' ', text)  # Replace any non-word character (includes underscores) with space\n",
    "\n",
    "    # Remove digits\n",
    "    text = re.sub(r'\\d+', ' ', text)  # Replace all digits with space\n",
    "\n",
    "    # Remove any long repeated characters (e.g., \"__________\", \"-----\", etc.)\n",
    "    text = re.sub(r'(.)\\1{2,}', r'\\1', text)  # Collapse extended repetitions of the same character\n",
    "\n",
    "    # Convert to lower case\n",
    "    text = text.lower().strip()\n",
    "\n",
    "    # Remove stop words and short words\n",
    "    text = ' '.join([word for word in text.split() if len(word) > 2])\n",
    "\n",
    "    return text\n",
    "\n",
    "# Clean your data\n",
    "phishing_data['Body'] = phishing_data['Body'].apply(clean_text)"
   ]
  },
  {
   "cell_type": "code",
   "execution_count": 9,
   "metadata": {},
   "outputs": [
    {
     "name": "stdout",
     "output_type": "stream",
     "text": [
      "   __alfywrlczlyoc_m  _assets_logo_metamask  _base  _blackfridaybanner  \\\n",
      "0                0.0                    0.0    0.0                 0.0   \n",
      "1                0.0                    0.0    0.0                 0.0   \n",
      "2                0.0                    0.0    0.0                 0.0   \n",
      "3                0.0                    0.0    0.0                 0.0   \n",
      "4                0.0                    0.0    0.0                 0.0   \n",
      "\n",
      "   _blankview  _bt  _ca  _capellauniversity_edu  _cb  _class_hdr_  ...  \\\n",
      "0         0.0  0.0  0.0                     0.0  0.0          0.0  ...   \n",
      "1         0.0  0.0  0.0                     0.0  0.0          0.0  ...   \n",
      "2         0.0  0.0  0.0                     0.0  0.0          0.0  ...   \n",
      "3         0.0  0.0  0.0                     0.0  0.0          0.0  ...   \n",
      "4         0.0  0.0  0.0                     0.0  0.0          0.0  ...   \n",
      "\n",
      "   日赢得了价值  确认我的帐户确认我的帐户确认我的帐户确认我的帐户  美元的捐款  送信者に直ちにその旨返信し  通过以下方式直接联系我进行索赔  \\\n",
      "0     0.0                       0.0    0.0            0.0              0.0   \n",
      "1     0.0                       0.0    0.0            0.0              0.0   \n",
      "2     0.0                       0.0    0.0            0.0              0.0   \n",
      "3     0.0                       0.0    0.0            0.0              0.0   \n",
      "4     0.0                       0.0    0.0            0.0              0.0   \n",
      "\n",
      "   配布し  ꭲһаɴκѕ  ꮋtmꮮ  𝙵orm  𝙵𝗂𝚗𝗂ance  \n",
      "0  0.0     0.0   0.0   0.0       0.0  \n",
      "1  0.0     0.0   0.0   0.0       0.0  \n",
      "2  0.0     0.0   0.0   0.0       0.0  \n",
      "3  0.0     0.0   0.0   0.0       0.0  \n",
      "4  0.0     0.0   0.0   0.0       0.0  \n",
      "\n",
      "[5 rows x 17854 columns]\n"
     ]
    }
   ],
   "source": [
    "# Initialize the TF-IDF Vectorizer without including stop words (since we've already removed them)\n",
    "tfidf_vectorizer = TfidfVectorizer(stop_words=None)  # Stop words are already removed\n",
    "\n",
    "# Fit and transform the 'Body' text\n",
    "tfidf_features = tfidf_vectorizer.fit_transform(phishing_data['Body'])\n",
    "\n",
    "# Convert to a DataFrame (optional, for better integration with Pandas)\n",
    "tfidf_df = pd.DataFrame(tfidf_features.toarray(), columns=tfidf_vectorizer.get_feature_names_out())\n",
    "\n",
    "# Preview the TF-IDF features DataFrame\n",
    "print(tfidf_df.head())"
   ]
  },
  {
   "cell_type": "code",
   "execution_count": 10,
   "metadata": {},
   "outputs": [
    {
     "name": "stdout",
     "output_type": "stream",
     "text": [
      "Feature names exported successfully to: /Users/feiyixie/Projects/Summer-2024-ECE-597-Group8/data/processed/tfidf_feature_names.csv\n"
     ]
    }
   ],
   "source": [
    "# Define the root directory of your project\n",
    "project_root = \"/Users/feiyixie/Projects/Summer-2024-ECE-597-Group8\"\n",
    "\n",
    "# Define the path for saving the CSV within your project structure\n",
    "output_path = os.path.join(project_root, 'data', 'processed', 'tfidf_feature_names.csv')\n",
    "\n",
    "# Export the column names to a CSV file\n",
    "columns_df = pd.DataFrame(tfidf_df.columns, columns=['Feature Names'])\n",
    "columns_df.to_csv(output_path, index=False)\n",
    "\n",
    "print(\"Feature names exported successfully to:\", output_path)"
   ]
  }
 ],
 "metadata": {
  "kernelspec": {
   "display_name": "Python 3",
   "language": "python",
   "name": "python3"
  },
  "language_info": {
   "codemirror_mode": {
    "name": "ipython",
    "version": 3
   },
   "file_extension": ".py",
   "mimetype": "text/x-python",
   "name": "python",
   "nbconvert_exporter": "python",
   "pygments_lexer": "ipython3",
   "version": "3.11.5"
  }
 },
 "nbformat": 4,
 "nbformat_minor": 2
}
