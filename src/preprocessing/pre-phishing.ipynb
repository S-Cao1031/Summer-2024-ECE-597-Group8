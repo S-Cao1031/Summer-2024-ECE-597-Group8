{
 "cells": [
  {
   "cell_type": "code",
   "execution_count": 7,
   "metadata": {},
   "outputs": [],
   "source": [
    "import numpy as np\n",
    "import os\n",
    "import pandas as pd\n",
    "import re\n",
    "\n",
    "project_root = \"/Users/feiyixie/Projects/Summer-2024-ECE-597-Group8\""
   ]
  },
  {
   "cell_type": "code",
   "execution_count": 8,
   "metadata": {},
   "outputs": [
    {
     "name": "stdout",
     "output_type": "stream",
     "text": [
      "Phishing Dataset Preview:\n",
      "                                             Subject  \\\n",
      "0  ®Review your shipment details / Shipment Notif...   \n",
      "1                            Υоur ассоunt іѕ оn hоld   \n",
      "2  Completed: Invoice # KZ89TYS2564 from-Bestbuy....   \n",
      "3                             UVic IMPORTANT NOTICE!   \n",
      "4          You have (6) Suspended incoming messages    \n",
      "\n",
      "                                                Body  Unnamed: 2  Unnamed: 3  \n",
      "0  Notice: This message was sent from outside the...         NaN         NaN  \n",
      "1  \\r\\nVotre réponse a bien été prise en compte.\\...         NaN         NaN  \n",
      "2  Notice: This message was sent from outside the...         NaN         NaN  \n",
      "3  Your UVIC account has been filed under the lis...         NaN         NaN  \n",
      "4  \\r\\n\\r\\nMessage generated from  uvic.ca source...         NaN         NaN  \n",
      "\n",
      "Phishing Dataset Info:\n",
      "<class 'pandas.core.frame.DataFrame'>\n",
      "RangeIndex: 2576 entries, 0 to 2575\n",
      "Data columns (total 4 columns):\n",
      " #   Column      Non-Null Count  Dtype  \n",
      "---  ------      --------------  -----  \n",
      " 0   Subject     2467 non-null   object \n",
      " 1   Body        2571 non-null   object \n",
      " 2   Unnamed: 2  0 non-null      float64\n",
      " 3   Unnamed: 3  0 non-null      float64\n",
      "dtypes: float64(2), object(2)\n",
      "memory usage: 80.6+ KB\n",
      "None\n"
     ]
    }
   ],
   "source": [
    "phishing_data_path = os.path.join(project_root, 'data', 'raw', 'CaptstoneProjectData_2024.csv')\n",
    "\n",
    "phishing_data = pd.read_csv(phishing_data_path)\n",
    "\n",
    "print(\"Phishing Dataset Preview:\")\n",
    "print(phishing_data.head())\n",
    "print(\"\\nPhishing Dataset Info:\")\n",
    "print(phishing_data.info())"
   ]
  },
  {
   "cell_type": "code",
   "execution_count": 9,
   "metadata": {},
   "outputs": [
    {
     "name": "stdout",
     "output_type": "stream",
     "text": [
      "Cleaned Phishing Dataset Preview:\n",
      "                                             Subject  \\\n",
      "0  ®Review your shipment details / Shipment Notif...   \n",
      "1                            Υоur ассоunt іѕ оn hоld   \n",
      "2  Completed: Invoice # KZ89TYS2564 from-Bestbuy....   \n",
      "3                             UVic IMPORTANT NOTICE!   \n",
      "4           You have (6) Suspended incoming messages   \n",
      "\n",
      "                                                Body  \n",
      "0  Notice: This message was sent from outside the...  \n",
      "1  Votre réponse a bien été prise en compte. [htt...  \n",
      "2  Notice: This message was sent from outside the...  \n",
      "3  Your UVIC account has been filed under the lis...  \n",
      "4  Message generated from  uvic.ca source.   Send...  \n",
      "\n",
      "Cleaned Phishing Dataset Info:\n",
      "<class 'pandas.core.frame.DataFrame'>\n",
      "RangeIndex: 2576 entries, 0 to 2575\n",
      "Data columns (total 2 columns):\n",
      " #   Column   Non-Null Count  Dtype \n",
      "---  ------   --------------  ----- \n",
      " 0   Subject  2576 non-null   object\n",
      " 1   Body     2576 non-null   object\n",
      "dtypes: object(2)\n",
      "memory usage: 40.4+ KB\n",
      "None\n"
     ]
    }
   ],
   "source": [
    "# Remove unnecessary columns\n",
    "phishing_data.drop(columns=['Unnamed: 2', 'Unnamed: 3'], inplace=True)\n",
    "\n",
    "# Handle missing values\n",
    "phishing_data['Subject'].fillna('No Subject', inplace=True)  # Replace missing subjects with 'No Subject'\n",
    "phishing_data['Body'].fillna('No Body', inplace=True)  # Replace missing bodies with 'No Body'\n",
    "\n",
    "# Text cleaning\n",
    "def clean_text(text):\n",
    "    # Remove leading/trailing whitespace, replace line breaks and other typical cleaning tasks\n",
    "    text = text.strip().replace('\\r\\n', ' ').replace('\\n', ' ')\n",
    "    # Optional: Add more cleaning steps here (e.g., regex to remove non-ASCII characters if they are not needed)\n",
    "    return text\n",
    "\n",
    "phishing_data['Subject'] = phishing_data['Subject'].apply(clean_text)\n",
    "phishing_data['Body'] = phishing_data['Body'].apply(clean_text)\n",
    "\n",
    "# Preview the cleaned dataset\n",
    "print(\"Cleaned Phishing Dataset Preview:\")\n",
    "print(phishing_data.head())\n",
    "print(\"\\nCleaned Phishing Dataset Info:\")\n",
    "print(phishing_data.info())"
   ]
  },
  {
   "cell_type": "code",
   "execution_count": 10,
   "metadata": {},
   "outputs": [
    {
     "name": "stdout",
     "output_type": "stream",
     "text": [
      "                                                Body  \\\n",
      "0  Notice: This message was sent from outside the...   \n",
      "1  Votre réponse a bien été prise en compte. [htt...   \n",
      "2  Notice: This message was sent from outside the...   \n",
      "3  Your UVIC account has been filed under the lis...   \n",
      "4  Message generated from  uvic.ca source.   Send...   \n",
      "\n",
      "                                              Emails  Num_Emails  \\\n",
      "0        [amuench@uvic.ca, hudsonesajoyce@gmail.com]           2   \n",
      "1                                    [foipp@uvic.ca]           1   \n",
      "2  [auwaluu.ma.r.bu.ba@googlemail.com, icon-Downl...           2   \n",
      "3                                                 []           0   \n",
      "4               [helpdesk@uvic.ca, helpdesk@uvic.ca]           2   \n",
      "\n",
      "                                                URLs  Num_URLs  \n",
      "0  [https://www.canadapost-postescanada.ca/cpc/as...         2  \n",
      "1  [https://www.edigitalagency.com.au/wp-content/...         3  \n",
      "2  [https://NA4.docusign.net/member/Images/email/...         9  \n",
      "3             [https://forms.gle/TpBxJ1SRFwgYMd8c7>]         1  \n",
      "4  [https://googleweblight.com/i?u=https://cloudf...         1  \n"
     ]
    }
   ],
   "source": [
    "# Define functions to extract emails and URLs and apply them to the DataFrame\n",
    "def extract_emails(text):\n",
    "    email_pattern = r'\\b[A-Za-z0-9._%+-]+@[A-Za-z0-9.-]+\\.[A-Z|a-z]{2,}\\b'\n",
    "    emails = re.findall(email_pattern, text)\n",
    "    return emails\n",
    "\n",
    "def extract_urls(text):\n",
    "    url_pattern = r'\\b(?:https?|ftp):\\/\\/\\S+|\\bwww\\.\\S+\\.\\S+'\n",
    "    urls = re.findall(url_pattern, text)\n",
    "    return urls\n",
    "\n",
    "# Apply the functions to the dataset\n",
    "phishing_data['Emails'] = phishing_data['Body'].apply(extract_emails)\n",
    "phishing_data['URLs'] = phishing_data['Body'].apply(extract_urls)\n",
    "\n",
    "# Calculate the number of emails and URLs\n",
    "phishing_data['Num_Emails'] = phishing_data['Emails'].apply(len)\n",
    "phishing_data['Num_URLs'] = phishing_data['URLs'].apply(len)\n",
    "\n",
    "# Display the new features in the dataset\n",
    "print(phishing_data[['Body', 'Emails', 'Num_Emails', 'URLs', 'Num_URLs']].head())"
   ]
  },
  {
   "cell_type": "code",
   "execution_count": 11,
   "metadata": {},
   "outputs": [
    {
     "name": "stdout",
     "output_type": "stream",
     "text": [
      "<class 'pandas.core.frame.DataFrame'>\n",
      "RangeIndex: 2576 entries, 0 to 2575\n",
      "Data columns (total 6 columns):\n",
      " #   Column      Non-Null Count  Dtype \n",
      "---  ------      --------------  ----- \n",
      " 0   Subject     2576 non-null   object\n",
      " 1   Body        2576 non-null   object\n",
      " 2   Emails      2576 non-null   object\n",
      " 3   URLs        2576 non-null   object\n",
      " 4   Num_Emails  2576 non-null   int64 \n",
      " 5   Num_URLs    2576 non-null   int64 \n",
      "dtypes: int64(2), object(4)\n",
      "memory usage: 120.9+ KB\n"
     ]
    }
   ],
   "source": [
    "phishing_data.info()"
   ]
  }
 ],
 "metadata": {
  "kernelspec": {
   "display_name": "Python 3",
   "language": "python",
   "name": "python3"
  },
  "language_info": {
   "codemirror_mode": {
    "name": "ipython",
    "version": 3
   },
   "file_extension": ".py",
   "mimetype": "text/x-python",
   "name": "python",
   "nbconvert_exporter": "python",
   "pygments_lexer": "ipython3",
   "version": "3.11.5"
  }
 },
 "nbformat": 4,
 "nbformat_minor": 2
}
