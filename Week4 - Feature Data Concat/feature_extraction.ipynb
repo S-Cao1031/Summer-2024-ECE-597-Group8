{
 "cells": [
  {
   "cell_type": "code",
   "execution_count": 1,
   "metadata": {},
   "outputs": [],
   "source": [
    "import os\n",
    "import pandas as pd\n",
    "import re"
   ]
  },
  {
   "cell_type": "code",
   "execution_count": 2,
   "metadata": {},
   "outputs": [],
   "source": [
    "project_root = \"/Users/feiyixie/Projects/Summer-2024-ECE-597-Group8\"\n",
    "normal_sample_numbers = 2571 * 10"
   ]
  },
  {
   "cell_type": "code",
   "execution_count": 3,
   "metadata": {},
   "outputs": [],
   "source": [
    "def normal_extract_subject_body(text):\n",
    "    # Extract the subject using a regular expression\n",
    "    subject_match = re.search(r\"Subject: (.*)\", text)\n",
    "    subject = subject_match.group(1) if subject_match else \"Subject Not Found\"\n",
    "\n",
    "    # Clean the text by removing everything from \"Message-ID:\" up to \"X-FileName:\"\n",
    "    cleaned_text = re.sub(r\"Message-ID:.*?X-FileName:.*?\\n\", \"\", text, flags=re.S)\n",
    "\n",
    "    return subject, cleaned_text"
   ]
  },
  {
   "cell_type": "code",
   "execution_count": 4,
   "metadata": {},
   "outputs": [],
   "source": [
    "phishing_data_path = os.path.join(\n",
    "    project_root, \"data\", \"raw\", \"CaptstoneProjectData_2024.csv\"\n",
    ")\n",
    "normal_data_path = os.path.join(\n",
    "    project_root, \"data\", \"raw\", \"EnronEmailDataset.csv\"\n",
    ")\n",
    "\n",
    "phishing_data = pd.read_csv(phishing_data_path)\n",
    "normal_data = pd.read_csv(\n",
    "    normal_data_path, nrows=normal_sample_numbers\n",
    ")\n",
    "\n",
    "phishing_data.drop(columns=[\"Unnamed: 2\", \"Unnamed: 3\"], inplace=True)\n",
    "phishing_data[\"Subject\"] = phishing_data[\"Subject\"].fillna(\"Subject Not Found\")\n",
    "phishing_data.dropna(\n",
    "    subset=[\"Body\"], inplace=True\n",
    ")\n",
    "phishing_data.reset_index(drop=True, inplace=True)\n",
    "normal_data[[\"Subject\", \"Body\"]] = normal_data[\"message\"].apply(\n",
    "    lambda x: pd.Series(normal_extract_subject_body(x))\n",
    ")\n",
    "\n",
    "phishing_data[\"Label\"] = 1\n",
    "normal_data[\"Label\"] = 0"
   ]
  },
  {
   "cell_type": "code",
   "execution_count": 5,
   "metadata": {},
   "outputs": [
    {
     "name": "stdout",
     "output_type": "stream",
     "text": [
      "<class 'pandas.core.frame.DataFrame'>\n",
      "RangeIndex: 25710 entries, 0 to 25709\n",
      "Data columns (total 5 columns):\n",
      " #   Column   Non-Null Count  Dtype \n",
      "---  ------   --------------  ----- \n",
      " 0   Subject  25710 non-null  object\n",
      " 1   Body     25710 non-null  object\n",
      " 2   Label    25710 non-null  int64 \n",
      " 3   file     23139 non-null  object\n",
      " 4   message  23139 non-null  object\n",
      "dtypes: int64(1), object(4)\n",
      "memory usage: 1004.4+ KB\n",
      "<class 'pandas.core.series.Series'>\n",
      "RangeIndex: 25710 entries, 0 to 25709\n",
      "Series name: Label\n",
      "Non-Null Count  Dtype\n",
      "--------------  -----\n",
      "25710 non-null  int64\n",
      "dtypes: int64(1)\n",
      "memory usage: 201.0 KB\n"
     ]
    }
   ],
   "source": [
    "df_data = pd.concat([phishing_data, normal_data], ignore_index=True)\n",
    "df_data.info()\n",
    "df_labels = df_data[\"Label\"]\n",
    "df_labels.info()"
   ]
  },
  {
   "cell_type": "code",
   "execution_count": 6,
   "metadata": {},
   "outputs": [
    {
     "name": "stdout",
     "output_type": "stream",
     "text": [
      "<class 'pandas.core.frame.DataFrame'>\n",
      "RangeIndex: 25710 entries, 0 to 25709\n",
      "Data columns (total 1 columns):\n",
      " #   Column      Non-Null Count  Dtype\n",
      "---  ------      --------------  -----\n",
      " 0   Homoglyphs  25710 non-null  int64\n",
      "dtypes: int64(1)\n",
      "memory usage: 201.0 KB\n"
     ]
    },
    {
     "data": {
      "text/html": [
       "<div>\n",
       "<style scoped>\n",
       "    .dataframe tbody tr th:only-of-type {\n",
       "        vertical-align: middle;\n",
       "    }\n",
       "\n",
       "    .dataframe tbody tr th {\n",
       "        vertical-align: top;\n",
       "    }\n",
       "\n",
       "    .dataframe thead th {\n",
       "        text-align: right;\n",
       "    }\n",
       "</style>\n",
       "<table border=\"1\" class=\"dataframe\">\n",
       "  <thead>\n",
       "    <tr style=\"text-align: right;\">\n",
       "      <th></th>\n",
       "      <th>Homoglyphs</th>\n",
       "    </tr>\n",
       "  </thead>\n",
       "  <tbody>\n",
       "    <tr>\n",
       "      <th>0</th>\n",
       "      <td>0</td>\n",
       "    </tr>\n",
       "    <tr>\n",
       "      <th>1</th>\n",
       "      <td>91</td>\n",
       "    </tr>\n",
       "    <tr>\n",
       "      <th>2</th>\n",
       "      <td>0</td>\n",
       "    </tr>\n",
       "    <tr>\n",
       "      <th>3</th>\n",
       "      <td>0</td>\n",
       "    </tr>\n",
       "    <tr>\n",
       "      <th>4</th>\n",
       "      <td>0</td>\n",
       "    </tr>\n",
       "    <tr>\n",
       "      <th>...</th>\n",
       "      <td>...</td>\n",
       "    </tr>\n",
       "    <tr>\n",
       "      <th>25705</th>\n",
       "      <td>0</td>\n",
       "    </tr>\n",
       "    <tr>\n",
       "      <th>25706</th>\n",
       "      <td>0</td>\n",
       "    </tr>\n",
       "    <tr>\n",
       "      <th>25707</th>\n",
       "      <td>0</td>\n",
       "    </tr>\n",
       "    <tr>\n",
       "      <th>25708</th>\n",
       "      <td>0</td>\n",
       "    </tr>\n",
       "    <tr>\n",
       "      <th>25709</th>\n",
       "      <td>0</td>\n",
       "    </tr>\n",
       "  </tbody>\n",
       "</table>\n",
       "<p>25710 rows × 1 columns</p>\n",
       "</div>"
      ],
      "text/plain": [
       "       Homoglyphs\n",
       "0               0\n",
       "1              91\n",
       "2               0\n",
       "3               0\n",
       "4               0\n",
       "...           ...\n",
       "25705           0\n",
       "25706           0\n",
       "25707           0\n",
       "25708           0\n",
       "25709           0\n",
       "\n",
       "[25710 rows x 1 columns]"
      ]
     },
     "execution_count": 6,
     "metadata": {},
     "output_type": "execute_result"
    }
   ],
   "source": [
    "from homoglyphs import feature_homoglyphs\n",
    "\n",
    "df_homoglyphs = feature_homoglyphs(df_data.copy())\n",
    "df_homoglyphs.info()\n",
    "df_homoglyphs"
   ]
  },
  {
   "cell_type": "code",
   "execution_count": 7,
   "metadata": {},
   "outputs": [
    {
     "name": "stdout",
     "output_type": "stream",
     "text": [
      "<class 'pandas.core.frame.DataFrame'>\n",
      "RangeIndex: 25710 entries, 0 to 25709\n",
      "Data columns (total 5 columns):\n",
      " #   Column               Non-Null Count  Dtype\n",
      "---  ------               --------------  -----\n",
      " 0   Amount               25710 non-null  int64\n",
      " 1   Tracking             25710 non-null  int64\n",
      " 2   Postal               25710 non-null  int64\n",
      " 3   Domestic_Phone       25710 non-null  int64\n",
      " 4   International_Phone  25710 non-null  int64\n",
      "dtypes: int64(5)\n",
      "memory usage: 1004.4 KB\n"
     ]
    }
   ],
   "source": [
    "from abnormal_number_extract import extract_abnormal_number\n",
    "\n",
    "df_abnormal = extract_abnormal_number(df_data.copy())\n",
    "df_abnormal.info()\n"
   ]
  },
  {
   "cell_type": "code",
   "execution_count": 8,
   "metadata": {},
   "outputs": [
    {
     "name": "stdout",
     "output_type": "stream",
     "text": [
      "<class 'pandas.core.frame.DataFrame'>\n",
      "RangeIndex: 25710 entries, 0 to 25709\n",
      "Data columns (total 2 columns):\n",
      " #   Column     Non-Null Count  Dtype\n",
      "---  ------     --------------  -----\n",
      " 0   html_tags  25710 non-null  bool \n",
      " 1   js_code    25710 non-null  bool \n",
      "dtypes: bool(2)\n",
      "memory usage: 50.3 KB\n"
     ]
    }
   ],
   "source": [
    "from html_JS import extract_features_from_message\n",
    "\n",
    "df_specials = df_data.copy().apply(\n",
    "    lambda row: extract_features_from_message(\n",
    "        str(row['Subject']) + ' ' + str(row['Body'])\n",
    "    ), axis=1\n",
    ")\n",
    "df_specials = pd.DataFrame(df_specials.tolist(), columns=['html_tags', 'js_code'])\n",
    "df_specials.info()"
   ]
  },
  {
   "cell_type": "code",
   "execution_count": 9,
   "metadata": {},
   "outputs": [
    {
     "name": "stderr",
     "output_type": "stream",
     "text": [
      "[nltk_data] Downloading package punkt to /Users/feiyixie/nltk_data...\n",
      "[nltk_data]   Package punkt is already up-to-date!\n",
      "[nltk_data] Downloading package stopwords to\n",
      "[nltk_data]     /Users/feiyixie/nltk_data...\n",
      "[nltk_data]   Package stopwords is already up-to-date!\n",
      "[nltk_data] Downloading package averaged_perceptron_tagger to\n",
      "[nltk_data]     /Users/feiyixie/nltk_data...\n",
      "[nltk_data]   Package averaged_perceptron_tagger is already up-to-\n",
      "[nltk_data]       date!\n",
      "[nltk_data] Downloading package wordnet to\n",
      "[nltk_data]     /Users/feiyixie/nltk_data...\n",
      "[nltk_data]   Package wordnet is already up-to-date!\n"
     ]
    },
    {
     "name": "stdout",
     "output_type": "stream",
     "text": [
      "<class 'pandas.core.frame.DataFrame'>\n",
      "RangeIndex: 25710 entries, 0 to 25709\n",
      "Columns: 192 entries, bow_able to bow_year\n",
      "dtypes: int64(192)\n",
      "memory usage: 37.7 MB\n"
     ]
    }
   ],
   "source": [
    "from phishing_bow import feature_extract_bow\n",
    "\n",
    "df_bow = feature_extract_bow(df_data.copy())\n",
    "df_bow.info()"
   ]
  },
  {
   "cell_type": "code",
   "execution_count": 10,
   "metadata": {},
   "outputs": [
    {
     "name": "stderr",
     "output_type": "stream",
     "text": [
      "[nltk_data] Downloading package punkt to /Users/feiyixie/nltk_data...\n",
      "[nltk_data]   Package punkt is already up-to-date!\n",
      "[nltk_data] Downloading package stopwords to\n",
      "[nltk_data]     /Users/feiyixie/nltk_data...\n",
      "[nltk_data]   Package stopwords is already up-to-date!\n",
      "[nltk_data] Downloading package averaged_perceptron_tagger to\n",
      "[nltk_data]     /Users/feiyixie/nltk_data...\n",
      "[nltk_data]   Package averaged_perceptron_tagger is already up-to-\n",
      "[nltk_data]       date!\n",
      "[nltk_data] Downloading package wordnet to\n",
      "[nltk_data]     /Users/feiyixie/nltk_data...\n",
      "[nltk_data]   Package wordnet is already up-to-date!\n"
     ]
    },
    {
     "name": "stdout",
     "output_type": "stream",
     "text": [
      "<class 'pandas.core.frame.DataFrame'>\n",
      "RangeIndex: 25710 entries, 0 to 25709\n",
      "Columns: 192 entries, tfidf_able to tfidf_year\n",
      "dtypes: float64(192)\n",
      "memory usage: 37.7 MB\n"
     ]
    }
   ],
   "source": [
    "from phishing_tfidf import feature_extract_tfidf\n",
    "\n",
    "df_tfidf = feature_extract_tfidf(df_data.copy())\n",
    "df_tfidf.info()"
   ]
  },
  {
   "cell_type": "code",
   "execution_count": 11,
   "metadata": {},
   "outputs": [],
   "source": [
    "df_features = pd.concat([df_homoglyphs, df_abnormal, df_specials], axis=1)\n",
    "\n",
    "df_features_labels = pd.concat([df_features, df_labels], axis=1)\n",
    "df_bow_labels = pd.concat([df_bow, df_labels], axis=1)\n",
    "df_tfidf_labels = pd.concat([df_tfidf, df_labels], axis=1)\n",
    "df_features_bow_labels = pd.concat([df_features, df_bow, df_labels], axis=1)\n",
    "df_features_tfidf_labels = pd.concat([df_features, df_tfidf, df_labels], axis=1)"
   ]
  },
  {
   "cell_type": "code",
   "execution_count": 12,
   "metadata": {},
   "outputs": [],
   "source": [
    "df_features_labels = df_features_labels.sample(frac=1, random_state=42).reset_index(drop=True)\n",
    "df_bow_labels = df_bow_labels.sample(frac=1, random_state=42).reset_index(drop=True)\n",
    "df_tfidf_labels = df_tfidf_labels.sample(frac=1, random_state=42).reset_index(drop=True)\n",
    "df_features_bow_labels = df_features_bow_labels.sample(frac=1, random_state=42).reset_index(drop=True)\n",
    "df_features_tfidf_labels = df_features_tfidf_labels.sample(frac=1, random_state=42).reset_index(drop=True)\n"
   ]
  },
  {
   "cell_type": "code",
   "execution_count": 13,
   "metadata": {},
   "outputs": [],
   "source": [
    "# save the data\n",
    "df_features_labels.to_csv(os.path.join(project_root, \"data\", \"processed\", \"features_labels.csv\"), index=False)\n",
    "df_bow_labels.to_csv(os.path.join(project_root, \"data\", \"processed\", \"bow_labels.csv\"), index=False)\n",
    "df_tfidf_labels.to_csv(os.path.join(project_root, \"data\", \"processed\", \"tfidf_labels.csv\"), index=False)\n",
    "df_features_bow_labels.to_csv(os.path.join(project_root, \"data\", \"processed\", \"features_bow_labels.csv\"), index=False)\n",
    "df_features_tfidf_labels.to_csv(os.path.join(project_root, \"data\", \"processed\", \"features_tfidf_labels.csv\"), index=False)"
   ]
  }
 ],
 "metadata": {
  "kernelspec": {
   "display_name": "Python 3",
   "language": "python",
   "name": "python3"
  },
  "language_info": {
   "codemirror_mode": {
    "name": "ipython",
    "version": 3
   },
   "file_extension": ".py",
   "mimetype": "text/x-python",
   "name": "python",
   "nbconvert_exporter": "python",
   "pygments_lexer": "ipython3",
   "version": "3.11.5"
  }
 },
 "nbformat": 4,
 "nbformat_minor": 2
}
